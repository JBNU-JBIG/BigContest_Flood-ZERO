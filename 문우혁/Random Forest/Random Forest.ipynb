{
 "cells": [
  {
   "cell_type": "code",
   "execution_count": 16,
   "id": "71c8100c-9347-4eb2-a493-d6bfe29daffd",
   "metadata": {},
   "outputs": [],
   "source": [
    "import numpy as np\n",
    "import pandas as pd\n",
    "from matplotlib import font_manager, rc\n",
    "import matplotlib\n",
    "import seaborn as sns\n",
    "import matplotlib.pyplot as plt\n",
    "\n",
    "font_name = font_manager.FontProperties(fname=\"c:/Windows/Fonts/malgun.ttf\").get_name()\n",
    "rc('font', family=font_name)\n",
    "matplotlib.rcParams['axes.unicode_minus'] = False"
   ]
  },
  {
   "cell_type": "code",
   "execution_count": 31,
   "id": "27b42485-350f-4745-b63e-e6ebe3536558",
   "metadata": {},
   "outputs": [
    {
     "data": {
      "text/html": [
       "<div>\n",
       "<style scoped>\n",
       "    .dataframe tbody tr th:only-of-type {\n",
       "        vertical-align: middle;\n",
       "    }\n",
       "\n",
       "    .dataframe tbody tr th {\n",
       "        vertical-align: top;\n",
       "    }\n",
       "\n",
       "    .dataframe thead th {\n",
       "        text-align: right;\n",
       "    }\n",
       "</style>\n",
       "<table border=\"1\" class=\"dataframe\">\n",
       "  <thead>\n",
       "    <tr style=\"text-align: right;\">\n",
       "      <th></th>\n",
       "      <th>홍수사상번호</th>\n",
       "      <th>연</th>\n",
       "      <th>월</th>\n",
       "      <th>일</th>\n",
       "      <th>시간</th>\n",
       "      <th>유입량</th>\n",
       "      <th>유역평균강수1</th>\n",
       "      <th>강우A1</th>\n",
       "      <th>강우B1</th>\n",
       "      <th>강우C1</th>\n",
       "      <th>...</th>\n",
       "      <th>강우D5</th>\n",
       "      <th>수위E5</th>\n",
       "      <th>수위D5</th>\n",
       "      <th>유역평균강수6</th>\n",
       "      <th>강우A6</th>\n",
       "      <th>강우B6</th>\n",
       "      <th>강우C6</th>\n",
       "      <th>강우D6</th>\n",
       "      <th>수위E6</th>\n",
       "      <th>수위D6</th>\n",
       "    </tr>\n",
       "  </thead>\n",
       "  <tbody>\n",
       "    <tr>\n",
       "      <th>0</th>\n",
       "      <td>1.0</td>\n",
       "      <td>2006.0</td>\n",
       "      <td>7.0</td>\n",
       "      <td>10.0</td>\n",
       "      <td>8.0</td>\n",
       "      <td>189.100000</td>\n",
       "      <td>6.4</td>\n",
       "      <td>7</td>\n",
       "      <td>7</td>\n",
       "      <td>7</td>\n",
       "      <td>...</td>\n",
       "      <td>8</td>\n",
       "      <td>2.54</td>\n",
       "      <td>122.660</td>\n",
       "      <td>6.4</td>\n",
       "      <td>7</td>\n",
       "      <td>7</td>\n",
       "      <td>8</td>\n",
       "      <td>8</td>\n",
       "      <td>2.54</td>\n",
       "      <td>122.61</td>\n",
       "    </tr>\n",
       "    <tr>\n",
       "      <th>1</th>\n",
       "      <td>1.0</td>\n",
       "      <td>2006.0</td>\n",
       "      <td>7.0</td>\n",
       "      <td>10.0</td>\n",
       "      <td>9.0</td>\n",
       "      <td>216.951962</td>\n",
       "      <td>6.3</td>\n",
       "      <td>7</td>\n",
       "      <td>8</td>\n",
       "      <td>7</td>\n",
       "      <td>...</td>\n",
       "      <td>10</td>\n",
       "      <td>2.53</td>\n",
       "      <td>122.648</td>\n",
       "      <td>7.3</td>\n",
       "      <td>7</td>\n",
       "      <td>8</td>\n",
       "      <td>10</td>\n",
       "      <td>10</td>\n",
       "      <td>2.53</td>\n",
       "      <td>122.60</td>\n",
       "    </tr>\n",
       "    <tr>\n",
       "      <th>2</th>\n",
       "      <td>1.0</td>\n",
       "      <td>2006.0</td>\n",
       "      <td>7.0</td>\n",
       "      <td>10.0</td>\n",
       "      <td>10.0</td>\n",
       "      <td>251.424419</td>\n",
       "      <td>6.4</td>\n",
       "      <td>7</td>\n",
       "      <td>9</td>\n",
       "      <td>7</td>\n",
       "      <td>...</td>\n",
       "      <td>11</td>\n",
       "      <td>2.53</td>\n",
       "      <td>122.636</td>\n",
       "      <td>8.2</td>\n",
       "      <td>7</td>\n",
       "      <td>9</td>\n",
       "      <td>10</td>\n",
       "      <td>11</td>\n",
       "      <td>2.53</td>\n",
       "      <td>122.59</td>\n",
       "    </tr>\n",
       "  </tbody>\n",
       "</table>\n",
       "<p>3 rows × 48 columns</p>\n",
       "</div>"
      ],
      "text/plain": [
       "   홍수사상번호       연    월     일    시간         유입량  유역평균강수1  강우A1  강우B1  강우C1  \\\n",
       "0     1.0  2006.0  7.0  10.0   8.0  189.100000      6.4     7     7     7   \n",
       "1     1.0  2006.0  7.0  10.0   9.0  216.951962      6.3     7     8     7   \n",
       "2     1.0  2006.0  7.0  10.0  10.0  251.424419      6.4     7     9     7   \n",
       "\n",
       "   ...  강우D5  수위E5     수위D5  유역평균강수6  강우A6  강우B6  강우C6  강우D6  수위E6    수위D6  \n",
       "0  ...     8  2.54  122.660      6.4     7     7     8     8  2.54  122.61  \n",
       "1  ...    10  2.53  122.648      7.3     7     8    10    10  2.53  122.60  \n",
       "2  ...    11  2.53  122.636      8.2     7     9    10    11  2.53  122.59  \n",
       "\n",
       "[3 rows x 48 columns]"
      ]
     },
     "execution_count": 31,
     "metadata": {},
     "output_type": "execute_result"
    }
   ],
   "source": [
    "data = pd.read_csv(\"C:/Users/korea/Desktop/문우혁/Github/BigContest_Flood-ZERO/문우혁/Data_Before/train.csv\")\n",
    "data.head(3)"
   ]
  },
  {
   "cell_type": "code",
   "execution_count": 32,
   "id": "da0ecc5e-e78f-47e6-8e53-da015fa83c1d",
   "metadata": {},
   "outputs": [],
   "source": [
    "X = data.drop('유입량', axis=1)\n",
    "y = data['유입량']"
   ]
  },
  {
   "cell_type": "code",
   "execution_count": 19,
   "id": "9e308fe6-2c6c-48b2-970f-12688149cb8a",
   "metadata": {},
   "outputs": [
    {
     "data": {
      "text/html": [
       "<div>\n",
       "<style scoped>\n",
       "    .dataframe tbody tr th:only-of-type {\n",
       "        vertical-align: middle;\n",
       "    }\n",
       "\n",
       "    .dataframe tbody tr th {\n",
       "        vertical-align: top;\n",
       "    }\n",
       "\n",
       "    .dataframe thead th {\n",
       "        text-align: right;\n",
       "    }\n",
       "</style>\n",
       "<table border=\"1\" class=\"dataframe\">\n",
       "  <thead>\n",
       "    <tr style=\"text-align: right;\">\n",
       "      <th></th>\n",
       "      <th>홍수사상번호</th>\n",
       "      <th>연</th>\n",
       "      <th>월</th>\n",
       "      <th>일</th>\n",
       "      <th>시간</th>\n",
       "      <th>유역평균강수1</th>\n",
       "      <th>강우A1</th>\n",
       "      <th>강우B1</th>\n",
       "      <th>강우C1</th>\n",
       "      <th>강우D1</th>\n",
       "      <th>...</th>\n",
       "      <th>강우D5</th>\n",
       "      <th>수위E5</th>\n",
       "      <th>수위D5</th>\n",
       "      <th>유역평균강수6</th>\n",
       "      <th>강우A6</th>\n",
       "      <th>강우B6</th>\n",
       "      <th>강우C6</th>\n",
       "      <th>강우D6</th>\n",
       "      <th>수위E6</th>\n",
       "      <th>수위D6</th>\n",
       "    </tr>\n",
       "  </thead>\n",
       "  <tbody>\n",
       "    <tr>\n",
       "      <th>0</th>\n",
       "      <td>1.0</td>\n",
       "      <td>2006.0</td>\n",
       "      <td>7.0</td>\n",
       "      <td>10.0</td>\n",
       "      <td>8.0</td>\n",
       "      <td>6.4</td>\n",
       "      <td>7</td>\n",
       "      <td>7</td>\n",
       "      <td>7</td>\n",
       "      <td>8</td>\n",
       "      <td>...</td>\n",
       "      <td>8</td>\n",
       "      <td>2.54</td>\n",
       "      <td>122.660</td>\n",
       "      <td>6.4</td>\n",
       "      <td>7</td>\n",
       "      <td>7</td>\n",
       "      <td>8</td>\n",
       "      <td>8</td>\n",
       "      <td>2.54</td>\n",
       "      <td>122.610</td>\n",
       "    </tr>\n",
       "    <tr>\n",
       "      <th>1</th>\n",
       "      <td>1.0</td>\n",
       "      <td>2006.0</td>\n",
       "      <td>7.0</td>\n",
       "      <td>10.0</td>\n",
       "      <td>9.0</td>\n",
       "      <td>6.3</td>\n",
       "      <td>7</td>\n",
       "      <td>8</td>\n",
       "      <td>7</td>\n",
       "      <td>8</td>\n",
       "      <td>...</td>\n",
       "      <td>10</td>\n",
       "      <td>2.53</td>\n",
       "      <td>122.648</td>\n",
       "      <td>7.3</td>\n",
       "      <td>7</td>\n",
       "      <td>8</td>\n",
       "      <td>10</td>\n",
       "      <td>10</td>\n",
       "      <td>2.53</td>\n",
       "      <td>122.600</td>\n",
       "    </tr>\n",
       "    <tr>\n",
       "      <th>2</th>\n",
       "      <td>1.0</td>\n",
       "      <td>2006.0</td>\n",
       "      <td>7.0</td>\n",
       "      <td>10.0</td>\n",
       "      <td>10.0</td>\n",
       "      <td>6.4</td>\n",
       "      <td>7</td>\n",
       "      <td>9</td>\n",
       "      <td>7</td>\n",
       "      <td>8</td>\n",
       "      <td>...</td>\n",
       "      <td>11</td>\n",
       "      <td>2.53</td>\n",
       "      <td>122.636</td>\n",
       "      <td>8.2</td>\n",
       "      <td>7</td>\n",
       "      <td>9</td>\n",
       "      <td>10</td>\n",
       "      <td>11</td>\n",
       "      <td>2.53</td>\n",
       "      <td>122.590</td>\n",
       "    </tr>\n",
       "    <tr>\n",
       "      <th>3</th>\n",
       "      <td>1.0</td>\n",
       "      <td>2006.0</td>\n",
       "      <td>7.0</td>\n",
       "      <td>10.0</td>\n",
       "      <td>11.0</td>\n",
       "      <td>7.3</td>\n",
       "      <td>7</td>\n",
       "      <td>10</td>\n",
       "      <td>7</td>\n",
       "      <td>8</td>\n",
       "      <td>...</td>\n",
       "      <td>14</td>\n",
       "      <td>2.53</td>\n",
       "      <td>122.620</td>\n",
       "      <td>11.3</td>\n",
       "      <td>9</td>\n",
       "      <td>10</td>\n",
       "      <td>15</td>\n",
       "      <td>14</td>\n",
       "      <td>2.53</td>\n",
       "      <td>122.585</td>\n",
       "    </tr>\n",
       "    <tr>\n",
       "      <th>4</th>\n",
       "      <td>1.0</td>\n",
       "      <td>2006.0</td>\n",
       "      <td>7.0</td>\n",
       "      <td>10.0</td>\n",
       "      <td>12.0</td>\n",
       "      <td>8.2</td>\n",
       "      <td>7</td>\n",
       "      <td>12</td>\n",
       "      <td>8</td>\n",
       "      <td>10</td>\n",
       "      <td>...</td>\n",
       "      <td>16</td>\n",
       "      <td>2.53</td>\n",
       "      <td>122.604</td>\n",
       "      <td>14.4</td>\n",
       "      <td>12</td>\n",
       "      <td>12</td>\n",
       "      <td>18</td>\n",
       "      <td>16</td>\n",
       "      <td>2.53</td>\n",
       "      <td>122.575</td>\n",
       "    </tr>\n",
       "  </tbody>\n",
       "</table>\n",
       "<p>5 rows × 47 columns</p>\n",
       "</div>"
      ],
      "text/plain": [
       "   홍수사상번호       연    월     일    시간  유역평균강수1  강우A1  강우B1  강우C1  강우D1  ...  \\\n",
       "0     1.0  2006.0  7.0  10.0   8.0      6.4     7     7     7     8  ...   \n",
       "1     1.0  2006.0  7.0  10.0   9.0      6.3     7     8     7     8  ...   \n",
       "2     1.0  2006.0  7.0  10.0  10.0      6.4     7     9     7     8  ...   \n",
       "3     1.0  2006.0  7.0  10.0  11.0      7.3     7    10     7     8  ...   \n",
       "4     1.0  2006.0  7.0  10.0  12.0      8.2     7    12     8    10  ...   \n",
       "\n",
       "   강우D5  수위E5     수위D5  유역평균강수6  강우A6  강우B6  강우C6  강우D6  수위E6     수위D6  \n",
       "0     8  2.54  122.660      6.4     7     7     8     8  2.54  122.610  \n",
       "1    10  2.53  122.648      7.3     7     8    10    10  2.53  122.600  \n",
       "2    11  2.53  122.636      8.2     7     9    10    11  2.53  122.590  \n",
       "3    14  2.53  122.620     11.3     9    10    15    14  2.53  122.585  \n",
       "4    16  2.53  122.604     14.4    12    12    18    16  2.53  122.575  \n",
       "\n",
       "[5 rows x 47 columns]"
      ]
     },
     "execution_count": 19,
     "metadata": {},
     "output_type": "execute_result"
    }
   ],
   "source": [
    "X.head()"
   ]
  },
  {
   "cell_type": "code",
   "execution_count": 20,
   "id": "778b8bee-1c18-4d0d-acf1-3ed5b8ef66d4",
   "metadata": {},
   "outputs": [
    {
     "data": {
      "text/plain": [
       "0    189.100000\n",
       "1    216.951962\n",
       "2    251.424419\n",
       "3    302.812199\n",
       "4    384.783406\n",
       "Name: 유입량, dtype: float64"
      ]
     },
     "execution_count": 20,
     "metadata": {},
     "output_type": "execute_result"
    }
   ],
   "source": [
    "y.head()"
   ]
  },
  {
   "cell_type": "code",
   "execution_count": 21,
   "id": "d789c21a-30c3-42c0-8eef-47bf2aa597e7",
   "metadata": {},
   "outputs": [],
   "source": [
    "from sklearn.ensemble import RandomForestRegressor\n",
    "from sklearn.model_selection import train_test_split, GridSearchCV\n",
    "from sklearn.metrics import mean_squared_error"
   ]
  },
  {
   "cell_type": "code",
   "execution_count": 60,
   "id": "7bc0d74c-6874-4651-a758-5abb10457c4a",
   "metadata": {},
   "outputs": [],
   "source": [
    "X_train, X_test, y_train, y_test = train_test_split(X, y, test_size=0.2, shuffle=False)"
   ]
  },
  {
   "cell_type": "code",
   "execution_count": 61,
   "id": "88acbf08-250f-4aa2-a5fc-22a1f6d9c498",
   "metadata": {
    "tags": []
   },
   "outputs": [
    {
     "data": {
      "text/plain": [
       "RandomForestRegressor()"
      ]
     },
     "execution_count": 61,
     "metadata": {},
     "output_type": "execute_result"
    }
   ],
   "source": [
    "rf = RandomForestRegressor()\n",
    "rf.fit(X_train, y_train)"
   ]
  },
  {
   "cell_type": "code",
   "execution_count": 62,
   "id": "6de9ad20-f9b4-4ead-95b9-89a6fb20d1ad",
   "metadata": {},
   "outputs": [],
   "source": [
    "predict = rf.predict(X_test)\n",
    "expected = y_test"
   ]
  },
  {
   "cell_type": "code",
   "execution_count": 63,
   "id": "205c8d60-a2a0-4e07-b6da-23f7ec3321d3",
   "metadata": {},
   "outputs": [
    {
     "name": "stdout",
     "output_type": "stream",
     "text": [
      "RMSE : 592.693663169309\n"
     ]
    }
   ],
   "source": [
    "print('RMSE : {}'.format(mean_squared_error(expected, predict, squared=False)))"
   ]
  },
  {
   "cell_type": "code",
   "execution_count": 67,
   "id": "78a2dfdd-3c78-4c41-b350-25fa2c0e4d67",
   "metadata": {},
   "outputs": [
    {
     "data": {
      "text/plain": [
       "<function matplotlib.pyplot.show(close=None, block=None)>"
      ]
     },
     "execution_count": 67,
     "metadata": {},
     "output_type": "execute_result"
    },
    {
     "data": {
      "image/png": "[encoded data removed]",
      "text/plain": [
       "<Figure size 864x720 with 1 Axes>"
      ]
     },
     "metadata": {},
     "output_type": "display_data"
    }
   ],
   "source": [
    "feature_importances = pd.Series(rf.feature_importances_, index=X_train.columns)\n",
    "feature_importances = feature_importances.sort_values(ascending=False)\n",
    "\n",
    "plt.figure(figsize=(12,10))\n",
    "plt.title(\"feature importances\")\n",
    "sns.barplot(x=feature_importances, y=X_train.columns)\n",
    "plt.show"
   ]
  },
  {
   "cell_type": "code",
   "execution_count": 16,
   "id": "77dc364e-763e-49b7-82ec-65e34df077d6",
   "metadata": {},
   "outputs": [],
   "source": [
    "param_grid = {\n",
    "    'n_estimators' : [10, 30, 50, 100, 200],\n",
    "    'max_depth' : [6, 8, 10, 12],\n",
    "    'min_samples_leaf' : [3, 5, 7, 10],\n",
    "    'min_samples_split' : [2, 3, 5, 10]\n",
    "}"
   ]
  },
  {
   "cell_type": "code",
   "execution_count": 18,
   "id": "cee9a46d-146d-4f3b-acb5-b6e5935deca8",
   "metadata": {},
   "outputs": [
    {
     "name": "stdout",
     "output_type": "stream",
     "text": [
      "Fitting 5 folds for each of 320 candidates, totalling 1600 fits\n"
     ]
    },
    {
     "name": "stderr",
     "output_type": "stream",
     "text": [
      "[Parallel(n_jobs=-1)]: Using backend LokyBackend with 8 concurrent workers.\n",
      "[Parallel(n_jobs=-1)]: Done  34 tasks      | elapsed:   12.2s\n",
      "[Parallel(n_jobs=-1)]: Done 184 tasks      | elapsed:   45.8s\n",
      "[Parallel(n_jobs=-1)]: Done 434 tasks      | elapsed:  1.7min\n",
      "[Parallel(n_jobs=-1)]: Done 784 tasks      | elapsed:  3.3min\n",
      "[Parallel(n_jobs=-1)]: Done 1234 tasks      | elapsed:  5.5min\n",
      "[Parallel(n_jobs=-1)]: Done 1600 out of 1600 | elapsed:  7.4min finished\n"
     ]
    },
    {
     "data": {
      "text/plain": [
       "GridSearchCV(estimator=RandomForestRegressor(), n_jobs=-1,\n",
       "             param_grid={'max_depth': [6, 8, 10, 12],\n",
       "                         'min_samples_leaf': [3, 5, 7, 10],\n",
       "                         'min_samples_split': [2, 3, 5, 10],\n",
       "                         'n_estimators': [10, 30, 50, 100, 200]},\n",
       "             scoring='neg_mean_squared_error', verbose=1)"
      ]
     },
     "execution_count": 18,
     "metadata": {},
     "output_type": "execute_result"
    }
   ],
   "source": [
    "rf_grid = GridSearchCV(rf, param_grid=param_grid, scoring='neg_mean_squared_error', n_jobs=-1, verbose=1)\n",
    "rf_grid.fit(X_train, y_train)"
   ]
  },
  {
   "cell_type": "code",
   "execution_count": 27,
   "id": "57659c2b-294c-4f73-876a-26966a884356",
   "metadata": {},
   "outputs": [
    {
     "name": "stdout",
     "output_type": "stream",
     "text": [
      "점수 : 1077.6507091150727\n",
      "최적 파라미터 : {'max_depth': 6, 'min_samples_leaf': 3, 'min_samples_split': 3, 'n_estimators': 100}\n"
     ]
    }
   ],
   "source": [
    "print('점수 : {}'.format(np.sqrt(-rf_grid.best_score_)))\n",
    "print('최적 파라미터 : {}'.format(rf_grid.best_params_))"
   ]
  },
  {
   "cell_type": "code",
   "execution_count": 20,
   "id": "ef13236a-f890-4f0e-8d79-1adbf74534f3",
   "metadata": {},
   "outputs": [
    {
     "data": {
      "text/plain": [
       "RandomForestRegressor(max_depth=6, min_samples_leaf=3, min_samples_split=3)"
      ]
     },
     "execution_count": 20,
     "metadata": {},
     "output_type": "execute_result"
    }
   ],
   "source": [
    "rf = RandomForestRegressor(max_depth=6, min_samples_leaf=3, min_samples_split=3)\n",
    "rf.fit(X_train, y_train)"
   ]
  },
  {
   "cell_type": "code",
   "execution_count": 21,
   "id": "70fab5a2-e2e7-4613-b5be-34e8700edec6",
   "metadata": {},
   "outputs": [],
   "source": [
    "predict = rf.predict(X_test)\n",
    "expected = y_test"
   ]
  },
  {
   "cell_type": "code",
   "execution_count": 22,
   "id": "06ba4d52-aa34-4ca3-a044-db5b3a54f314",
   "metadata": {},
   "outputs": [
    {
     "name": "stdout",
     "output_type": "stream",
     "text": [
      "RMSE : 515.8016557382389\n"
     ]
    }
   ],
   "source": [
    "print('RMSE : {}'.format(mean_squared_error(expected, predict, squared=False)))"
   ]
  },
  {
   "cell_type": "markdown",
   "id": "f18ddebe-e084-41dd-8cba-e564ad333938",
   "metadata": {},
   "source": [
    "## 유역평균강수 제거"
   ]
  },
  {
   "cell_type": "code",
   "execution_count": 39,
   "id": "59b03485-f616-4e6d-aea8-7584d23a9e54",
   "metadata": {},
   "outputs": [],
   "source": [
    "data = pd.read_csv(\"C:/Users/korea/Desktop/문우혁/Github/BigContest_Flood-ZERO/문우혁/Data_Before/train.csv\")"
   ]
  },
  {
   "cell_type": "code",
   "execution_count": 40,
   "id": "c95aa8e1-c2dd-48b1-a7e5-6411dfbda9ac",
   "metadata": {},
   "outputs": [],
   "source": [
    "X = data.drop('유입량', axis=1)\n",
    "y = data['유입량']"
   ]
  },
  {
   "cell_type": "code",
   "execution_count": 41,
   "id": "581eff65-b447-4bb0-9a1b-74a9d9356786",
   "metadata": {},
   "outputs": [],
   "source": [
    "X = X.drop(['유역평균강수1', '유역평균강수2', '유역평균강수3', '유역평균강수4', '유역평균강수5', '유역평균강수6'], axis=1)"
   ]
  },
  {
   "cell_type": "code",
   "execution_count": 42,
   "id": "7d07945a-fbc4-45f6-9558-3c046828ba99",
   "metadata": {},
   "outputs": [],
   "source": [
    "X_train, X_test, y_train, y_test = train_test_split(X, y, test_size=0.2, shuffle=False)"
   ]
  },
  {
   "cell_type": "code",
   "execution_count": 43,
   "id": "0ab5e939-2a96-4241-a78b-faff9d67be57",
   "metadata": {
    "tags": []
   },
   "outputs": [
    {
     "data": {
      "text/plain": [
       "RandomForestRegressor()"
      ]
     },
     "execution_count": 43,
     "metadata": {},
     "output_type": "execute_result"
    }
   ],
   "source": [
    "rf = RandomForestRegressor()\n",
    "rf.fit(X_train, y_train)"
   ]
  },
  {
   "cell_type": "code",
   "execution_count": 44,
   "id": "a2efb9bc-a05b-47cf-a6f6-239b067b6202",
   "metadata": {},
   "outputs": [],
   "source": [
    "predict = rf.predict(X_test)\n",
    "expected = y_test"
   ]
  },
  {
   "cell_type": "code",
   "execution_count": 45,
   "id": "943a729a-ec28-4350-9c2a-a52b65d4a2ba",
   "metadata": {},
   "outputs": [
    {
     "name": "stdout",
     "output_type": "stream",
     "text": [
      "RMSE : 626.6936122884766\n"
     ]
    }
   ],
   "source": [
    "print('RMSE : {}'.format(mean_squared_error(expected, predict, squared=False)))"
   ]
  },
  {
   "cell_type": "code",
   "execution_count": 46,
   "id": "98ead672-5331-478b-99e9-01c15ce5a5e1",
   "metadata": {},
   "outputs": [
    {
     "data": {
      "text/plain": [
       "<function matplotlib.pyplot.show(close=None, block=None)>"
      ]
     },
     "execution_count": 46,
     "metadata": {},
     "output_type": "execute_result"
    },
    {
     "data": {
      "image/png": "[encoded data removed]",
      "text/plain": [
       "<Figure size 864x720 with 1 Axes>"
      ]
     },
     "metadata": {
      "needs_background": "light"
     },
     "output_type": "display_data"
    }
   ],
   "source": [
    "feature_importances = pd.Series(rf.feature_importances_, index=X_train.columns)\n",
    "feature_importances = feature_importances.sort_values(ascending=False)\n",
    "\n",
    "plt.figure(figsize=(12,10))\n",
    "plt.title(\"feature importances\")\n",
    "sns.barplot(x=feature_importances, y=X_train.columns)\n",
    "plt.show"
   ]
  },
  {
   "cell_type": "markdown",
   "id": "7027724b-ea4c-47ac-a3ce-ce28b58363ab",
   "metadata": {
    "tags": []
   },
   "source": [
    "## 파생변수 생성"
   ]
  },
  {
   "cell_type": "code",
   "execution_count": 58,
   "id": "27edb458-df6d-4b67-aeab-0f7fe02f5083",
   "metadata": {},
   "outputs": [
    {
     "data": {
      "text/html": [
       "<div>\n",
       "<style scoped>\n",
       "    .dataframe tbody tr th:only-of-type {\n",
       "        vertical-align: middle;\n",
       "    }\n",
       "\n",
       "    .dataframe tbody tr th {\n",
       "        vertical-align: top;\n",
       "    }\n",
       "\n",
       "    .dataframe thead th {\n",
       "        text-align: right;\n",
       "    }\n",
       "</style>\n",
       "<table border=\"1\" class=\"dataframe\">\n",
       "  <thead>\n",
       "    <tr style=\"text-align: right;\">\n",
       "      <th></th>\n",
       "      <th>홍수사상번호</th>\n",
       "      <th>연</th>\n",
       "      <th>월</th>\n",
       "      <th>일</th>\n",
       "      <th>시간</th>\n",
       "      <th>유입량</th>\n",
       "      <th>유역평균강수1</th>\n",
       "      <th>강우A1</th>\n",
       "      <th>강우B1</th>\n",
       "      <th>강우C1</th>\n",
       "      <th>...</th>\n",
       "      <th>강우D5</th>\n",
       "      <th>수위E5</th>\n",
       "      <th>수위D5</th>\n",
       "      <th>유역평균강수6</th>\n",
       "      <th>강우A6</th>\n",
       "      <th>강우B6</th>\n",
       "      <th>강우C6</th>\n",
       "      <th>강우D6</th>\n",
       "      <th>수위E6</th>\n",
       "      <th>수위D6</th>\n",
       "    </tr>\n",
       "  </thead>\n",
       "  <tbody>\n",
       "    <tr>\n",
       "      <th>0</th>\n",
       "      <td>1.0</td>\n",
       "      <td>2006.0</td>\n",
       "      <td>7.0</td>\n",
       "      <td>10.0</td>\n",
       "      <td>8.0</td>\n",
       "      <td>189.100000</td>\n",
       "      <td>6.4</td>\n",
       "      <td>7</td>\n",
       "      <td>7</td>\n",
       "      <td>7</td>\n",
       "      <td>...</td>\n",
       "      <td>8</td>\n",
       "      <td>2.54</td>\n",
       "      <td>122.660</td>\n",
       "      <td>6.4</td>\n",
       "      <td>7</td>\n",
       "      <td>7</td>\n",
       "      <td>8</td>\n",
       "      <td>8</td>\n",
       "      <td>2.54</td>\n",
       "      <td>122.61</td>\n",
       "    </tr>\n",
       "    <tr>\n",
       "      <th>1</th>\n",
       "      <td>1.0</td>\n",
       "      <td>2006.0</td>\n",
       "      <td>7.0</td>\n",
       "      <td>10.0</td>\n",
       "      <td>9.0</td>\n",
       "      <td>216.951962</td>\n",
       "      <td>6.3</td>\n",
       "      <td>7</td>\n",
       "      <td>8</td>\n",
       "      <td>7</td>\n",
       "      <td>...</td>\n",
       "      <td>10</td>\n",
       "      <td>2.53</td>\n",
       "      <td>122.648</td>\n",
       "      <td>7.3</td>\n",
       "      <td>7</td>\n",
       "      <td>8</td>\n",
       "      <td>10</td>\n",
       "      <td>10</td>\n",
       "      <td>2.53</td>\n",
       "      <td>122.60</td>\n",
       "    </tr>\n",
       "    <tr>\n",
       "      <th>2</th>\n",
       "      <td>1.0</td>\n",
       "      <td>2006.0</td>\n",
       "      <td>7.0</td>\n",
       "      <td>10.0</td>\n",
       "      <td>10.0</td>\n",
       "      <td>251.424419</td>\n",
       "      <td>6.4</td>\n",
       "      <td>7</td>\n",
       "      <td>9</td>\n",
       "      <td>7</td>\n",
       "      <td>...</td>\n",
       "      <td>11</td>\n",
       "      <td>2.53</td>\n",
       "      <td>122.636</td>\n",
       "      <td>8.2</td>\n",
       "      <td>7</td>\n",
       "      <td>9</td>\n",
       "      <td>10</td>\n",
       "      <td>11</td>\n",
       "      <td>2.53</td>\n",
       "      <td>122.59</td>\n",
       "    </tr>\n",
       "  </tbody>\n",
       "</table>\n",
       "<p>3 rows × 48 columns</p>\n",
       "</div>"
      ],
      "text/plain": [
       "   홍수사상번호       연    월     일    시간         유입량  유역평균강수1  강우A1  강우B1  강우C1  \\\n",
       "0     1.0  2006.0  7.0  10.0   8.0  189.100000      6.4     7     7     7   \n",
       "1     1.0  2006.0  7.0  10.0   9.0  216.951962      6.3     7     8     7   \n",
       "2     1.0  2006.0  7.0  10.0  10.0  251.424419      6.4     7     9     7   \n",
       "\n",
       "   ...  강우D5  수위E5     수위D5  유역평균강수6  강우A6  강우B6  강우C6  강우D6  수위E6    수위D6  \n",
       "0  ...     8  2.54  122.660      6.4     7     7     8     8  2.54  122.61  \n",
       "1  ...    10  2.53  122.648      7.3     7     8    10    10  2.53  122.60  \n",
       "2  ...    11  2.53  122.636      8.2     7     9    10    11  2.53  122.59  \n",
       "\n",
       "[3 rows x 48 columns]"
      ]
     },
     "execution_count": 58,
     "metadata": {},
     "output_type": "execute_result"
    }
   ],
   "source": [
    "data = pd.read_csv(\"C:/Users/korea/Desktop/문우혁/Github/BigContest_Flood-ZERO/문우혁/Data_Before/train.csv\")\n",
    "data.head(3)"
   ]
  },
  {
   "cell_type": "code",
   "execution_count": 59,
   "id": "5c307112-c17e-457c-8a5f-ccf343354415",
   "metadata": {},
   "outputs": [],
   "source": [
    "X = data.drop('유입량', axis=1)\n",
    "y = data['유입량']"
   ]
  },
  {
   "cell_type": "code",
   "execution_count": 60,
   "id": "3aa73be6-47e0-4611-bf81-6eb279a1c772",
   "metadata": {},
   "outputs": [],
   "source": [
    "X['강우E1'] = X['유역평균강수1']*5 - X['강우A1'] - X['강우B1'] - X['강우C1'] - X['강우D1']\n",
    "X['강우E2'] = X['유역평균강수2']*5 - X['강우A2'] - X['강우B2'] - X['강우C2'] - X['강우D2']\n",
    "X['강우E3'] = X['유역평균강수3']*5 - X['강우A3'] - X['강우B3'] - X['강우C3'] - X['강우D3']\n",
    "X['강우E4'] = X['유역평균강수4']*5 - X['강우A4'] - X['강우B4'] - X['강우C4'] - X['강우D4']\n",
    "X['강우E5'] = X['유역평균강수5']*5 - X['강우A5'] - X['강우B5'] - X['강우C5'] - X['강우D5']\n",
    "X['강우E6'] = X['유역평균강수6']*5 - X['강우A6'] - X['강우B6'] - X['강우C6'] - X['강우D6']"
   ]
  },
  {
   "cell_type": "code",
   "execution_count": 61,
   "id": "942c45c1-d98a-426e-bf08-3420a92b7e84",
   "metadata": {},
   "outputs": [],
   "source": [
    "X = X.drop(['유역평균강수1', '유역평균강수2', '유역평균강수3', '유역평균강수4', '유역평균강수5', '유역평균강수6'], axis=1)"
   ]
  },
  {
   "cell_type": "code",
   "execution_count": 62,
   "id": "7a771927-8853-4bc2-9730-b991cbb5144a",
   "metadata": {},
   "outputs": [],
   "source": [
    "X_train, X_test, y_train, y_test = train_test_split(X, y, test_size=0.2, shuffle=False)"
   ]
  },
  {
   "cell_type": "code",
   "execution_count": 63,
   "id": "4ddff524-1757-4361-ac41-e22ddec4b216",
   "metadata": {
    "tags": []
   },
   "outputs": [
    {
     "data": {
      "text/plain": [
       "RandomForestRegressor()"
      ]
     },
     "execution_count": 63,
     "metadata": {},
     "output_type": "execute_result"
    }
   ],
   "source": [
    "rf = RandomForestRegressor()\n",
    "rf.fit(X_train, y_train)"
   ]
  },
  {
   "cell_type": "code",
   "execution_count": 64,
   "id": "994b4c38-96ec-41c3-9bf4-cbee8626010a",
   "metadata": {},
   "outputs": [],
   "source": [
    "predict = rf.predict(X_test)\n",
    "expected = y_test"
   ]
  },
  {
   "cell_type": "code",
   "execution_count": 65,
   "id": "4763bcb9-3cc1-4e0a-b536-6fed12b921de",
   "metadata": {},
   "outputs": [
    {
     "name": "stdout",
     "output_type": "stream",
     "text": [
      "RMSE : 571.7844671283027\n"
     ]
    }
   ],
   "source": [
    "print('RMSE : {}'.format(mean_squared_error(expected, predict, squared=False)))"
   ]
  },
  {
   "cell_type": "code",
   "execution_count": 66,
   "id": "b370dd2a-31d5-4562-aaf8-d693c536892c",
   "metadata": {},
   "outputs": [
    {
     "data": {
      "text/plain": [
       "<function matplotlib.pyplot.show(close=None, block=None)>"
      ]
     },
     "execution_count": 66,
     "metadata": {},
     "output_type": "execute_result"
    },
    {
     "data": {
      "image/png": "[encoded data removed]",
      "text/plain": [
       "<Figure size 864x720 with 1 Axes>"
      ]
     },
     "metadata": {
      "needs_background": "light"
     },
     "output_type": "display_data"
    }
   ],
   "source": [
    "feature_importances = pd.Series(rf.feature_importances_, index=X_train.columns)\n",
    "feature_importances = feature_importances.sort_values(ascending=False)\n",
    "\n",
    "plt.figure(figsize=(12,10))\n",
    "plt.title(\"feature importances\")\n",
    "sns.barplot(x=feature_importances, y=X_train.columns)\n",
    "plt.show"
   ]
  },
  {
   "cell_type": "markdown",
   "id": "05647a45-0313-4691-bd72-fb483e12edc2",
   "metadata": {},
   "source": [
    "## 1~5열 데이터 삭제"
   ]
  },
  {
   "cell_type": "code",
   "execution_count": 7,
   "id": "55e111d1-966b-4035-b56a-f47ed092e40e",
   "metadata": {},
   "outputs": [],
   "source": [
    "X = X.drop(X.iloc[:,0:5], axis=1)"
   ]
  },
  {
   "cell_type": "code",
   "execution_count": 8,
   "id": "8393fc52-06f2-41e2-8708-719838dc3fe7",
   "metadata": {},
   "outputs": [
    {
     "data": {
      "text/html": [
       "<div>\n",
       "<style scoped>\n",
       "    .dataframe tbody tr th:only-of-type {\n",
       "        vertical-align: middle;\n",
       "    }\n",
       "\n",
       "    .dataframe tbody tr th {\n",
       "        vertical-align: top;\n",
       "    }\n",
       "\n",
       "    .dataframe thead th {\n",
       "        text-align: right;\n",
       "    }\n",
       "</style>\n",
       "<table border=\"1\" class=\"dataframe\">\n",
       "  <thead>\n",
       "    <tr style=\"text-align: right;\">\n",
       "      <th></th>\n",
       "      <th>유역평균강수1</th>\n",
       "      <th>강우A1</th>\n",
       "      <th>강우B1</th>\n",
       "      <th>강우C1</th>\n",
       "      <th>강우D1</th>\n",
       "      <th>수위E1</th>\n",
       "      <th>수위D1</th>\n",
       "      <th>유역평균강수2</th>\n",
       "      <th>강우A2</th>\n",
       "      <th>강우B2</th>\n",
       "      <th>...</th>\n",
       "      <th>강우D5</th>\n",
       "      <th>수위E5</th>\n",
       "      <th>수위D5</th>\n",
       "      <th>유역평균강수6</th>\n",
       "      <th>강우A6</th>\n",
       "      <th>강우B6</th>\n",
       "      <th>강우C6</th>\n",
       "      <th>강우D6</th>\n",
       "      <th>수위E6</th>\n",
       "      <th>수위D6</th>\n",
       "    </tr>\n",
       "  </thead>\n",
       "  <tbody>\n",
       "    <tr>\n",
       "      <th>0</th>\n",
       "      <td>6.4</td>\n",
       "      <td>7</td>\n",
       "      <td>7</td>\n",
       "      <td>7</td>\n",
       "      <td>8</td>\n",
       "      <td>2.54</td>\n",
       "      <td>122.56875</td>\n",
       "      <td>6.3</td>\n",
       "      <td>7</td>\n",
       "      <td>7</td>\n",
       "      <td>...</td>\n",
       "      <td>8</td>\n",
       "      <td>2.54</td>\n",
       "      <td>122.660</td>\n",
       "      <td>6.4</td>\n",
       "      <td>7</td>\n",
       "      <td>7</td>\n",
       "      <td>8</td>\n",
       "      <td>8</td>\n",
       "      <td>2.54</td>\n",
       "      <td>122.610</td>\n",
       "    </tr>\n",
       "    <tr>\n",
       "      <th>1</th>\n",
       "      <td>6.3</td>\n",
       "      <td>7</td>\n",
       "      <td>8</td>\n",
       "      <td>7</td>\n",
       "      <td>8</td>\n",
       "      <td>2.53</td>\n",
       "      <td>122.56250</td>\n",
       "      <td>6.4</td>\n",
       "      <td>7</td>\n",
       "      <td>8</td>\n",
       "      <td>...</td>\n",
       "      <td>10</td>\n",
       "      <td>2.53</td>\n",
       "      <td>122.648</td>\n",
       "      <td>7.3</td>\n",
       "      <td>7</td>\n",
       "      <td>8</td>\n",
       "      <td>10</td>\n",
       "      <td>10</td>\n",
       "      <td>2.53</td>\n",
       "      <td>122.600</td>\n",
       "    </tr>\n",
       "    <tr>\n",
       "      <th>2</th>\n",
       "      <td>6.4</td>\n",
       "      <td>7</td>\n",
       "      <td>9</td>\n",
       "      <td>7</td>\n",
       "      <td>8</td>\n",
       "      <td>2.53</td>\n",
       "      <td>122.55625</td>\n",
       "      <td>7.3</td>\n",
       "      <td>7</td>\n",
       "      <td>9</td>\n",
       "      <td>...</td>\n",
       "      <td>11</td>\n",
       "      <td>2.53</td>\n",
       "      <td>122.636</td>\n",
       "      <td>8.2</td>\n",
       "      <td>7</td>\n",
       "      <td>9</td>\n",
       "      <td>10</td>\n",
       "      <td>11</td>\n",
       "      <td>2.53</td>\n",
       "      <td>122.590</td>\n",
       "    </tr>\n",
       "    <tr>\n",
       "      <th>3</th>\n",
       "      <td>7.3</td>\n",
       "      <td>7</td>\n",
       "      <td>10</td>\n",
       "      <td>7</td>\n",
       "      <td>8</td>\n",
       "      <td>2.53</td>\n",
       "      <td>122.55625</td>\n",
       "      <td>8.2</td>\n",
       "      <td>7</td>\n",
       "      <td>10</td>\n",
       "      <td>...</td>\n",
       "      <td>14</td>\n",
       "      <td>2.53</td>\n",
       "      <td>122.620</td>\n",
       "      <td>11.3</td>\n",
       "      <td>9</td>\n",
       "      <td>10</td>\n",
       "      <td>15</td>\n",
       "      <td>14</td>\n",
       "      <td>2.53</td>\n",
       "      <td>122.585</td>\n",
       "    </tr>\n",
       "    <tr>\n",
       "      <th>4</th>\n",
       "      <td>8.2</td>\n",
       "      <td>7</td>\n",
       "      <td>12</td>\n",
       "      <td>8</td>\n",
       "      <td>10</td>\n",
       "      <td>2.53</td>\n",
       "      <td>122.55625</td>\n",
       "      <td>11.3</td>\n",
       "      <td>9</td>\n",
       "      <td>12</td>\n",
       "      <td>...</td>\n",
       "      <td>16</td>\n",
       "      <td>2.53</td>\n",
       "      <td>122.604</td>\n",
       "      <td>14.4</td>\n",
       "      <td>12</td>\n",
       "      <td>12</td>\n",
       "      <td>18</td>\n",
       "      <td>16</td>\n",
       "      <td>2.53</td>\n",
       "      <td>122.575</td>\n",
       "    </tr>\n",
       "  </tbody>\n",
       "</table>\n",
       "<p>5 rows × 42 columns</p>\n",
       "</div>"
      ],
      "text/plain": [
       "   유역평균강수1  강우A1  강우B1  강우C1  강우D1  수위E1       수위D1  유역평균강수2  강우A2  강우B2  ...  \\\n",
       "0      6.4     7     7     7     8  2.54  122.56875      6.3     7     7  ...   \n",
       "1      6.3     7     8     7     8  2.53  122.56250      6.4     7     8  ...   \n",
       "2      6.4     7     9     7     8  2.53  122.55625      7.3     7     9  ...   \n",
       "3      7.3     7    10     7     8  2.53  122.55625      8.2     7    10  ...   \n",
       "4      8.2     7    12     8    10  2.53  122.55625     11.3     9    12  ...   \n",
       "\n",
       "   강우D5  수위E5     수위D5  유역평균강수6  강우A6  강우B6  강우C6  강우D6  수위E6     수위D6  \n",
       "0     8  2.54  122.660      6.4     7     7     8     8  2.54  122.610  \n",
       "1    10  2.53  122.648      7.3     7     8    10    10  2.53  122.600  \n",
       "2    11  2.53  122.636      8.2     7     9    10    11  2.53  122.590  \n",
       "3    14  2.53  122.620     11.3     9    10    15    14  2.53  122.585  \n",
       "4    16  2.53  122.604     14.4    12    12    18    16  2.53  122.575  \n",
       "\n",
       "[5 rows x 42 columns]"
      ]
     },
     "execution_count": 8,
     "metadata": {},
     "output_type": "execute_result"
    }
   ],
   "source": [
    "X.head()"
   ]
  },
  {
   "cell_type": "code",
   "execution_count": 9,
   "id": "1772e0c0-7aa7-477b-b492-9eb0a6915119",
   "metadata": {},
   "outputs": [],
   "source": [
    "X_train, X_test, y_train, y_test = train_test_split(X, y, test_size=0.2, shuffle=False)"
   ]
  },
  {
   "cell_type": "code",
   "execution_count": 10,
   "id": "f9a0718d-4014-434c-9851-d6a165403c29",
   "metadata": {},
   "outputs": [
    {
     "data": {
      "text/plain": [
       "RandomForestRegressor()"
      ]
     },
     "execution_count": 10,
     "metadata": {},
     "output_type": "execute_result"
    }
   ],
   "source": [
    "rf = RandomForestRegressor()\n",
    "rf.fit(X_train, y_train)"
   ]
  },
  {
   "cell_type": "code",
   "execution_count": 11,
   "id": "07042bbf-e15d-4f76-a23f-323a33ce3e51",
   "metadata": {},
   "outputs": [],
   "source": [
    "predict = rf.predict(X_test)\n",
    "expected = y_test"
   ]
  },
  {
   "cell_type": "code",
   "execution_count": 12,
   "id": "6ee408d0-4839-4263-97bb-f32fb2cace19",
   "metadata": {},
   "outputs": [
    {
     "name": "stdout",
     "output_type": "stream",
     "text": [
      "RMSE : 662.659381464761\n"
     ]
    }
   ],
   "source": [
    "print('RMSE : {}'.format(mean_squared_error(expected, predict, squared=False)))"
   ]
  },
  {
   "cell_type": "code",
   "execution_count": 13,
   "id": "5cd90056-1081-4315-be98-18fdae31d07f",
   "metadata": {},
   "outputs": [
    {
     "data": {
      "text/plain": [
       "<function matplotlib.pyplot.show(close=None, block=None)>"
      ]
     },
     "execution_count": 13,
     "metadata": {},
     "output_type": "execute_result"
    },
    {
     "data": {
      "image/png": "[encoded data removed]",
      "text/plain": [
       "<Figure size 864x720 with 1 Axes>"
      ]
     },
     "metadata": {
      "needs_background": "light"
     },
     "output_type": "display_data"
    }
   ],
   "source": [
    "feature_importances = pd.Series(rf.feature_importances_, index=X_train.columns)\n",
    "feature_importances = feature_importances.sort_values(ascending=False)\n",
    "\n",
    "plt.figure(figsize=(12,10))\n",
    "plt.title(\"feature importances\")\n",
    "sns.barplot(x=feature_importances, y=X_train.columns)\n",
    "plt.show"
   ]
  },
  {
   "cell_type": "code",
   "execution_count": null,
   "id": "61aaff2c-1fec-4c4a-a886-11b0dd9c0c93",
   "metadata": {},
   "outputs": [],
   "source": []
  },
  {
   "cell_type": "code",
   "execution_count": 67,
   "id": "c9387ad8-2d8e-4191-9ddb-5230b58af94e",
   "metadata": {},
   "outputs": [
    {
     "data": {
      "text/html": [
       "<div>\n",
       "<style scoped>\n",
       "    .dataframe tbody tr th:only-of-type {\n",
       "        vertical-align: middle;\n",
       "    }\n",
       "\n",
       "    .dataframe tbody tr th {\n",
       "        vertical-align: top;\n",
       "    }\n",
       "\n",
       "    .dataframe thead th {\n",
       "        text-align: right;\n",
       "    }\n",
       "</style>\n",
       "<table border=\"1\" class=\"dataframe\">\n",
       "  <thead>\n",
       "    <tr style=\"text-align: right;\">\n",
       "      <th></th>\n",
       "      <th>홍수사상번호</th>\n",
       "      <th>연</th>\n",
       "      <th>월</th>\n",
       "      <th>일</th>\n",
       "      <th>시간</th>\n",
       "      <th>유입량</th>\n",
       "      <th>유역평균강수1</th>\n",
       "      <th>강우A1</th>\n",
       "      <th>강우B1</th>\n",
       "      <th>강우C1</th>\n",
       "      <th>...</th>\n",
       "      <th>강우D5</th>\n",
       "      <th>수위E5</th>\n",
       "      <th>수위D5</th>\n",
       "      <th>유역평균강수6</th>\n",
       "      <th>강우A6</th>\n",
       "      <th>강우B6</th>\n",
       "      <th>강우C6</th>\n",
       "      <th>강우D6</th>\n",
       "      <th>수위E6</th>\n",
       "      <th>수위D6</th>\n",
       "    </tr>\n",
       "  </thead>\n",
       "  <tbody>\n",
       "    <tr>\n",
       "      <th>0</th>\n",
       "      <td>1.0</td>\n",
       "      <td>2006.0</td>\n",
       "      <td>7.0</td>\n",
       "      <td>10.0</td>\n",
       "      <td>8.0</td>\n",
       "      <td>189.100000</td>\n",
       "      <td>6.4</td>\n",
       "      <td>7</td>\n",
       "      <td>7</td>\n",
       "      <td>7</td>\n",
       "      <td>...</td>\n",
       "      <td>8</td>\n",
       "      <td>2.54</td>\n",
       "      <td>122.660</td>\n",
       "      <td>6.4</td>\n",
       "      <td>7</td>\n",
       "      <td>7</td>\n",
       "      <td>8</td>\n",
       "      <td>8</td>\n",
       "      <td>2.54</td>\n",
       "      <td>122.61</td>\n",
       "    </tr>\n",
       "    <tr>\n",
       "      <th>1</th>\n",
       "      <td>1.0</td>\n",
       "      <td>2006.0</td>\n",
       "      <td>7.0</td>\n",
       "      <td>10.0</td>\n",
       "      <td>9.0</td>\n",
       "      <td>216.951962</td>\n",
       "      <td>6.3</td>\n",
       "      <td>7</td>\n",
       "      <td>8</td>\n",
       "      <td>7</td>\n",
       "      <td>...</td>\n",
       "      <td>10</td>\n",
       "      <td>2.53</td>\n",
       "      <td>122.648</td>\n",
       "      <td>7.3</td>\n",
       "      <td>7</td>\n",
       "      <td>8</td>\n",
       "      <td>10</td>\n",
       "      <td>10</td>\n",
       "      <td>2.53</td>\n",
       "      <td>122.60</td>\n",
       "    </tr>\n",
       "    <tr>\n",
       "      <th>2</th>\n",
       "      <td>1.0</td>\n",
       "      <td>2006.0</td>\n",
       "      <td>7.0</td>\n",
       "      <td>10.0</td>\n",
       "      <td>10.0</td>\n",
       "      <td>251.424419</td>\n",
       "      <td>6.4</td>\n",
       "      <td>7</td>\n",
       "      <td>9</td>\n",
       "      <td>7</td>\n",
       "      <td>...</td>\n",
       "      <td>11</td>\n",
       "      <td>2.53</td>\n",
       "      <td>122.636</td>\n",
       "      <td>8.2</td>\n",
       "      <td>7</td>\n",
       "      <td>9</td>\n",
       "      <td>10</td>\n",
       "      <td>11</td>\n",
       "      <td>2.53</td>\n",
       "      <td>122.59</td>\n",
       "    </tr>\n",
       "  </tbody>\n",
       "</table>\n",
       "<p>3 rows × 48 columns</p>\n",
       "</div>"
      ],
      "text/plain": [
       "   홍수사상번호       연    월     일    시간         유입량  유역평균강수1  강우A1  강우B1  강우C1  \\\n",
       "0     1.0  2006.0  7.0  10.0   8.0  189.100000      6.4     7     7     7   \n",
       "1     1.0  2006.0  7.0  10.0   9.0  216.951962      6.3     7     8     7   \n",
       "2     1.0  2006.0  7.0  10.0  10.0  251.424419      6.4     7     9     7   \n",
       "\n",
       "   ...  강우D5  수위E5     수위D5  유역평균강수6  강우A6  강우B6  강우C6  강우D6  수위E6    수위D6  \n",
       "0  ...     8  2.54  122.660      6.4     7     7     8     8  2.54  122.61  \n",
       "1  ...    10  2.53  122.648      7.3     7     8    10    10  2.53  122.60  \n",
       "2  ...    11  2.53  122.636      8.2     7     9    10    11  2.53  122.59  \n",
       "\n",
       "[3 rows x 48 columns]"
      ]
     },
     "execution_count": 67,
     "metadata": {},
     "output_type": "execute_result"
    }
   ],
   "source": [
    "data = pd.read_csv(\"C:/Users/korea/Desktop/문우혁/Github/BigContest_Flood-ZERO/문우혁/Data_Before/train.csv\")\n",
    "data.head(3)"
   ]
  },
  {
   "cell_type": "code",
   "execution_count": 69,
   "id": "8a2b1a83-e935-4025-8f58-dd7c607b2c9f",
   "metadata": {},
   "outputs": [],
   "source": [
    "X = data.drop('유입량', axis=1)\n",
    "y = data['유입량']"
   ]
  },
  {
   "cell_type": "code",
   "execution_count": 70,
   "id": "365a5a5b-c1f5-496d-a6e5-3a5197f899bd",
   "metadata": {},
   "outputs": [],
   "source": [
    "X['강우E1'] = X['유역평균강수1']*5 - X['강우A1'] - X['강우B1'] - X['강우C1'] - X['강우D1']\n",
    "X['강우E2'] = X['유역평균강수2']*5 - X['강우A2'] - X['강우B2'] - X['강우C2'] - X['강우D2']\n",
    "X['강우E3'] = X['유역평균강수3']*5 - X['강우A3'] - X['강우B3'] - X['강우C3'] - X['강우D3']\n",
    "X['강우E4'] = X['유역평균강수4']*5 - X['강우A4'] - X['강우B4'] - X['강우C4'] - X['강우D4']\n",
    "X['강우E5'] = X['유역평균강수5']*5 - X['강우A5'] - X['강우B5'] - X['강우C5'] - X['강우D5']\n",
    "X['강우E6'] = X['유역평균강수6']*5 - X['강우A6'] - X['강우B6'] - X['강우C6'] - X['강우D6']"
   ]
  },
  {
   "cell_type": "code",
   "execution_count": 71,
   "id": "1d7a890a-0791-4acd-b63a-fd12c0e74c00",
   "metadata": {},
   "outputs": [],
   "source": [
    "X = X.drop(['유역평균강수1', '유역평균강수2', '유역평균강수3', '유역평균강수4', '유역평균강수5', '유역평균강수6'], axis=1)"
   ]
  },
  {
   "cell_type": "code",
   "execution_count": 72,
   "id": "f528278c-4dc4-4651-9ccd-d3914d0a44a9",
   "metadata": {},
   "outputs": [],
   "source": [
    "X = X.drop(X.iloc[:,0:5], axis=1)"
   ]
  },
  {
   "cell_type": "code",
   "execution_count": 73,
   "id": "8381f2e5-e755-42be-bf26-fb31a12bdf4b",
   "metadata": {},
   "outputs": [],
   "source": [
    "X_train, X_test, y_train, y_test = train_test_split(X, y, test_size=0.2, shuffle=False)"
   ]
  },
  {
   "cell_type": "code",
   "execution_count": 74,
   "id": "a158167d-2304-4942-8047-d620e3a16864",
   "metadata": {},
   "outputs": [
    {
     "data": {
      "text/plain": [
       "RandomForestRegressor()"
      ]
     },
     "execution_count": 74,
     "metadata": {},
     "output_type": "execute_result"
    }
   ],
   "source": [
    "rf = RandomForestRegressor()\n",
    "rf.fit(X_train, y_train)"
   ]
  },
  {
   "cell_type": "code",
   "execution_count": 75,
   "id": "4a41fbf4-e7bb-41d2-844f-ebe8aed3060b",
   "metadata": {},
   "outputs": [],
   "source": [
    "predict = rf.predict(X_test)\n",
    "expected = y_test"
   ]
  },
  {
   "cell_type": "code",
   "execution_count": 76,
   "id": "b1b0155e-2bbd-418c-bda2-a00536eeb079",
   "metadata": {},
   "outputs": [
    {
     "name": "stdout",
     "output_type": "stream",
     "text": [
      "RMSE : 591.6070944229779\n"
     ]
    }
   ],
   "source": [
    "print('RMSE : {}'.format(mean_squared_error(expected, predict, squared=False)))"
   ]
  },
  {
   "cell_type": "code",
   "execution_count": 77,
   "id": "51a60ca0-d3be-4fa4-a26f-7a788b069a94",
   "metadata": {},
   "outputs": [
    {
     "data": {
      "text/plain": [
       "<function matplotlib.pyplot.show(close=None, block=None)>"
      ]
     },
     "execution_count": 77,
     "metadata": {},
     "output_type": "execute_result"
    },
    {
     "data": {
      "image/png": "[encoded data removed]",
      "text/plain": [
       "<Figure size 864x720 with 1 Axes>"
      ]
     },
     "metadata": {
      "needs_background": "light"
     },
     "output_type": "display_data"
    }
   ],
   "source": [
    "feature_importances = pd.Series(rf.feature_importances_, index=X_train.columns)\n",
    "feature_importances = feature_importances.sort_values(ascending=False)\n",
    "\n",
    "plt.figure(figsize=(12,10))\n",
    "plt.title(\"feature importances\")\n",
    "sns.barplot(x=feature_importances, y=X_train.columns)\n",
    "plt.show"
   ]
  },
  {
   "cell_type": "markdown",
   "id": "1f09bcde-52b1-4852-9421-c7d6226cec01",
   "metadata": {},
   "source": [
    "## 데이터 집단 1"
   ]
  },
  {
   "cell_type": "code",
   "execution_count": 171,
   "id": "b9d9fd2b-8ff4-4f7d-a70a-97eb0327f785",
   "metadata": {},
   "outputs": [
    {
     "data": {
      "text/html": [
       "<div>\n",
       "<style scoped>\n",
       "    .dataframe tbody tr th:only-of-type {\n",
       "        vertical-align: middle;\n",
       "    }\n",
       "\n",
       "    .dataframe tbody tr th {\n",
       "        vertical-align: top;\n",
       "    }\n",
       "\n",
       "    .dataframe thead th {\n",
       "        text-align: right;\n",
       "    }\n",
       "</style>\n",
       "<table border=\"1\" class=\"dataframe\">\n",
       "  <thead>\n",
       "    <tr style=\"text-align: right;\">\n",
       "      <th></th>\n",
       "      <th>홍수사상번호</th>\n",
       "      <th>연</th>\n",
       "      <th>월</th>\n",
       "      <th>일</th>\n",
       "      <th>시간</th>\n",
       "      <th>유입량</th>\n",
       "      <th>유역평균강수1</th>\n",
       "      <th>강우A1</th>\n",
       "      <th>강우B1</th>\n",
       "      <th>강우C1</th>\n",
       "      <th>...</th>\n",
       "      <th>강우D5</th>\n",
       "      <th>수위E5</th>\n",
       "      <th>수위D5</th>\n",
       "      <th>유역평균강수6</th>\n",
       "      <th>강우A6</th>\n",
       "      <th>강우B6</th>\n",
       "      <th>강우C6</th>\n",
       "      <th>강우D6</th>\n",
       "      <th>수위E6</th>\n",
       "      <th>수위D6</th>\n",
       "    </tr>\n",
       "  </thead>\n",
       "  <tbody>\n",
       "    <tr>\n",
       "      <th>0</th>\n",
       "      <td>1.0</td>\n",
       "      <td>2006.0</td>\n",
       "      <td>7.0</td>\n",
       "      <td>10.0</td>\n",
       "      <td>8.0</td>\n",
       "      <td>189.100000</td>\n",
       "      <td>6.4</td>\n",
       "      <td>7</td>\n",
       "      <td>7</td>\n",
       "      <td>7</td>\n",
       "      <td>...</td>\n",
       "      <td>8</td>\n",
       "      <td>2.54</td>\n",
       "      <td>122.660</td>\n",
       "      <td>6.4</td>\n",
       "      <td>7</td>\n",
       "      <td>7</td>\n",
       "      <td>8</td>\n",
       "      <td>8</td>\n",
       "      <td>2.54</td>\n",
       "      <td>122.61</td>\n",
       "    </tr>\n",
       "    <tr>\n",
       "      <th>1</th>\n",
       "      <td>1.0</td>\n",
       "      <td>2006.0</td>\n",
       "      <td>7.0</td>\n",
       "      <td>10.0</td>\n",
       "      <td>9.0</td>\n",
       "      <td>216.951962</td>\n",
       "      <td>6.3</td>\n",
       "      <td>7</td>\n",
       "      <td>8</td>\n",
       "      <td>7</td>\n",
       "      <td>...</td>\n",
       "      <td>10</td>\n",
       "      <td>2.53</td>\n",
       "      <td>122.648</td>\n",
       "      <td>7.3</td>\n",
       "      <td>7</td>\n",
       "      <td>8</td>\n",
       "      <td>10</td>\n",
       "      <td>10</td>\n",
       "      <td>2.53</td>\n",
       "      <td>122.60</td>\n",
       "    </tr>\n",
       "    <tr>\n",
       "      <th>2</th>\n",
       "      <td>1.0</td>\n",
       "      <td>2006.0</td>\n",
       "      <td>7.0</td>\n",
       "      <td>10.0</td>\n",
       "      <td>10.0</td>\n",
       "      <td>251.424419</td>\n",
       "      <td>6.4</td>\n",
       "      <td>7</td>\n",
       "      <td>9</td>\n",
       "      <td>7</td>\n",
       "      <td>...</td>\n",
       "      <td>11</td>\n",
       "      <td>2.53</td>\n",
       "      <td>122.636</td>\n",
       "      <td>8.2</td>\n",
       "      <td>7</td>\n",
       "      <td>9</td>\n",
       "      <td>10</td>\n",
       "      <td>11</td>\n",
       "      <td>2.53</td>\n",
       "      <td>122.59</td>\n",
       "    </tr>\n",
       "  </tbody>\n",
       "</table>\n",
       "<p>3 rows × 48 columns</p>\n",
       "</div>"
      ],
      "text/plain": [
       "   홍수사상번호       연    월     일    시간         유입량  유역평균강수1  강우A1  강우B1  강우C1  \\\n",
       "0     1.0  2006.0  7.0  10.0   8.0  189.100000      6.4     7     7     7   \n",
       "1     1.0  2006.0  7.0  10.0   9.0  216.951962      6.3     7     8     7   \n",
       "2     1.0  2006.0  7.0  10.0  10.0  251.424419      6.4     7     9     7   \n",
       "\n",
       "   ...  강우D5  수위E5     수위D5  유역평균강수6  강우A6  강우B6  강우C6  강우D6  수위E6    수위D6  \n",
       "0  ...     8  2.54  122.660      6.4     7     7     8     8  2.54  122.61  \n",
       "1  ...    10  2.53  122.648      7.3     7     8    10    10  2.53  122.60  \n",
       "2  ...    11  2.53  122.636      8.2     7     9    10    11  2.53  122.59  \n",
       "\n",
       "[3 rows x 48 columns]"
      ]
     },
     "execution_count": 171,
     "metadata": {},
     "output_type": "execute_result"
    }
   ],
   "source": [
    "data = pd.read_csv(\"C:/Users/korea/Desktop/문우혁/Github/BigContest_Flood-ZERO/문우혁/Data_Before/train.csv\")\n",
    "data.head(3)"
   ]
  },
  {
   "cell_type": "code",
   "execution_count": 172,
   "id": "6e3d0012-e606-433e-8c72-25b64da89004",
   "metadata": {},
   "outputs": [],
   "source": [
    "X = data.drop('유입량', axis=1)\n",
    "y = data['유입량']"
   ]
  },
  {
   "cell_type": "code",
   "execution_count": 173,
   "id": "112b31fd-6f28-43d6-8c66-a3ca435c8f26",
   "metadata": {},
   "outputs": [],
   "source": [
    "X = X.drop(X.iloc[:, 11:], axis=1)"
   ]
  },
  {
   "cell_type": "code",
   "execution_count": 174,
   "id": "66a0c994-6a16-40bd-a3fa-ba732aa14dcc",
   "metadata": {},
   "outputs": [
    {
     "data": {
      "text/html": [
       "<div>\n",
       "<style scoped>\n",
       "    .dataframe tbody tr th:only-of-type {\n",
       "        vertical-align: middle;\n",
       "    }\n",
       "\n",
       "    .dataframe tbody tr th {\n",
       "        vertical-align: top;\n",
       "    }\n",
       "\n",
       "    .dataframe thead th {\n",
       "        text-align: right;\n",
       "    }\n",
       "</style>\n",
       "<table border=\"1\" class=\"dataframe\">\n",
       "  <thead>\n",
       "    <tr style=\"text-align: right;\">\n",
       "      <th></th>\n",
       "      <th>홍수사상번호</th>\n",
       "      <th>연</th>\n",
       "      <th>월</th>\n",
       "      <th>일</th>\n",
       "      <th>시간</th>\n",
       "      <th>유역평균강수1</th>\n",
       "      <th>강우A1</th>\n",
       "      <th>강우B1</th>\n",
       "      <th>강우C1</th>\n",
       "      <th>강우D1</th>\n",
       "      <th>수위E1</th>\n",
       "    </tr>\n",
       "  </thead>\n",
       "  <tbody>\n",
       "    <tr>\n",
       "      <th>0</th>\n",
       "      <td>1.0</td>\n",
       "      <td>2006.0</td>\n",
       "      <td>7.0</td>\n",
       "      <td>10.0</td>\n",
       "      <td>8.0</td>\n",
       "      <td>6.4</td>\n",
       "      <td>7</td>\n",
       "      <td>7</td>\n",
       "      <td>7</td>\n",
       "      <td>8</td>\n",
       "      <td>2.54</td>\n",
       "    </tr>\n",
       "    <tr>\n",
       "      <th>1</th>\n",
       "      <td>1.0</td>\n",
       "      <td>2006.0</td>\n",
       "      <td>7.0</td>\n",
       "      <td>10.0</td>\n",
       "      <td>9.0</td>\n",
       "      <td>6.3</td>\n",
       "      <td>7</td>\n",
       "      <td>8</td>\n",
       "      <td>7</td>\n",
       "      <td>8</td>\n",
       "      <td>2.53</td>\n",
       "    </tr>\n",
       "    <tr>\n",
       "      <th>2</th>\n",
       "      <td>1.0</td>\n",
       "      <td>2006.0</td>\n",
       "      <td>7.0</td>\n",
       "      <td>10.0</td>\n",
       "      <td>10.0</td>\n",
       "      <td>6.4</td>\n",
       "      <td>7</td>\n",
       "      <td>9</td>\n",
       "      <td>7</td>\n",
       "      <td>8</td>\n",
       "      <td>2.53</td>\n",
       "    </tr>\n",
       "    <tr>\n",
       "      <th>3</th>\n",
       "      <td>1.0</td>\n",
       "      <td>2006.0</td>\n",
       "      <td>7.0</td>\n",
       "      <td>10.0</td>\n",
       "      <td>11.0</td>\n",
       "      <td>7.3</td>\n",
       "      <td>7</td>\n",
       "      <td>10</td>\n",
       "      <td>7</td>\n",
       "      <td>8</td>\n",
       "      <td>2.53</td>\n",
       "    </tr>\n",
       "    <tr>\n",
       "      <th>4</th>\n",
       "      <td>1.0</td>\n",
       "      <td>2006.0</td>\n",
       "      <td>7.0</td>\n",
       "      <td>10.0</td>\n",
       "      <td>12.0</td>\n",
       "      <td>8.2</td>\n",
       "      <td>7</td>\n",
       "      <td>12</td>\n",
       "      <td>8</td>\n",
       "      <td>10</td>\n",
       "      <td>2.53</td>\n",
       "    </tr>\n",
       "  </tbody>\n",
       "</table>\n",
       "</div>"
      ],
      "text/plain": [
       "   홍수사상번호       연    월     일    시간  유역평균강수1  강우A1  강우B1  강우C1  강우D1  수위E1\n",
       "0     1.0  2006.0  7.0  10.0   8.0      6.4     7     7     7     8  2.54\n",
       "1     1.0  2006.0  7.0  10.0   9.0      6.3     7     8     7     8  2.53\n",
       "2     1.0  2006.0  7.0  10.0  10.0      6.4     7     9     7     8  2.53\n",
       "3     1.0  2006.0  7.0  10.0  11.0      7.3     7    10     7     8  2.53\n",
       "4     1.0  2006.0  7.0  10.0  12.0      8.2     7    12     8    10  2.53"
      ]
     },
     "execution_count": 174,
     "metadata": {},
     "output_type": "execute_result"
    }
   ],
   "source": [
    "X.head()"
   ]
  },
  {
   "cell_type": "code",
   "execution_count": 175,
   "id": "b37002b0-31bc-48a6-a605-bfa30d6b0f95",
   "metadata": {},
   "outputs": [],
   "source": [
    "X_train, X_test, y_train, y_test = train_test_split(X, y, test_size=0.2, shuffle=False)"
   ]
  },
  {
   "cell_type": "code",
   "execution_count": 176,
   "id": "7cd5da10-884a-4c20-8b89-e9cd4af919b5",
   "metadata": {},
   "outputs": [
    {
     "data": {
      "text/plain": [
       "RandomForestRegressor()"
      ]
     },
     "execution_count": 176,
     "metadata": {},
     "output_type": "execute_result"
    }
   ],
   "source": [
    "rf = RandomForestRegressor()\n",
    "rf.fit(X_train, y_train)"
   ]
  },
  {
   "cell_type": "code",
   "execution_count": 177,
   "id": "13231e09-f5da-469d-a528-adaa906e6d47",
   "metadata": {},
   "outputs": [],
   "source": [
    "predict = rf.predict(X_test)\n",
    "expected = y_test"
   ]
  },
  {
   "cell_type": "code",
   "execution_count": 178,
   "id": "3ba6ff56-9063-430c-930b-ffa2d3ac78d7",
   "metadata": {},
   "outputs": [
    {
     "name": "stdout",
     "output_type": "stream",
     "text": [
      "RMSE : 619.0122006654044\n"
     ]
    }
   ],
   "source": [
    "print('RMSE : {}'.format(mean_squared_error(expected, predict, squared=False)))"
   ]
  },
  {
   "cell_type": "markdown",
   "id": "06f9a748-eb92-4b74-b92d-af70c14bec74",
   "metadata": {},
   "source": [
    "## 데이터 집단 2"
   ]
  },
  {
   "cell_type": "code",
   "execution_count": 199,
   "id": "8023451a-8c5a-4514-a14f-78c87d8fa210",
   "metadata": {},
   "outputs": [
    {
     "data": {
      "text/html": [
       "<div>\n",
       "<style scoped>\n",
       "    .dataframe tbody tr th:only-of-type {\n",
       "        vertical-align: middle;\n",
       "    }\n",
       "\n",
       "    .dataframe tbody tr th {\n",
       "        vertical-align: top;\n",
       "    }\n",
       "\n",
       "    .dataframe thead th {\n",
       "        text-align: right;\n",
       "    }\n",
       "</style>\n",
       "<table border=\"1\" class=\"dataframe\">\n",
       "  <thead>\n",
       "    <tr style=\"text-align: right;\">\n",
       "      <th></th>\n",
       "      <th>홍수사상번호</th>\n",
       "      <th>연</th>\n",
       "      <th>월</th>\n",
       "      <th>일</th>\n",
       "      <th>시간</th>\n",
       "      <th>유입량</th>\n",
       "      <th>유역평균강수1</th>\n",
       "      <th>강우A1</th>\n",
       "      <th>강우B1</th>\n",
       "      <th>강우C1</th>\n",
       "      <th>...</th>\n",
       "      <th>강우D5</th>\n",
       "      <th>수위E5</th>\n",
       "      <th>수위D5</th>\n",
       "      <th>유역평균강수6</th>\n",
       "      <th>강우A6</th>\n",
       "      <th>강우B6</th>\n",
       "      <th>강우C6</th>\n",
       "      <th>강우D6</th>\n",
       "      <th>수위E6</th>\n",
       "      <th>수위D6</th>\n",
       "    </tr>\n",
       "  </thead>\n",
       "  <tbody>\n",
       "    <tr>\n",
       "      <th>0</th>\n",
       "      <td>1.0</td>\n",
       "      <td>2006.0</td>\n",
       "      <td>7.0</td>\n",
       "      <td>10.0</td>\n",
       "      <td>8.0</td>\n",
       "      <td>189.100000</td>\n",
       "      <td>6.4</td>\n",
       "      <td>7</td>\n",
       "      <td>7</td>\n",
       "      <td>7</td>\n",
       "      <td>...</td>\n",
       "      <td>8</td>\n",
       "      <td>2.54</td>\n",
       "      <td>122.660</td>\n",
       "      <td>6.4</td>\n",
       "      <td>7</td>\n",
       "      <td>7</td>\n",
       "      <td>8</td>\n",
       "      <td>8</td>\n",
       "      <td>2.54</td>\n",
       "      <td>122.61</td>\n",
       "    </tr>\n",
       "    <tr>\n",
       "      <th>1</th>\n",
       "      <td>1.0</td>\n",
       "      <td>2006.0</td>\n",
       "      <td>7.0</td>\n",
       "      <td>10.0</td>\n",
       "      <td>9.0</td>\n",
       "      <td>216.951962</td>\n",
       "      <td>6.3</td>\n",
       "      <td>7</td>\n",
       "      <td>8</td>\n",
       "      <td>7</td>\n",
       "      <td>...</td>\n",
       "      <td>10</td>\n",
       "      <td>2.53</td>\n",
       "      <td>122.648</td>\n",
       "      <td>7.3</td>\n",
       "      <td>7</td>\n",
       "      <td>8</td>\n",
       "      <td>10</td>\n",
       "      <td>10</td>\n",
       "      <td>2.53</td>\n",
       "      <td>122.60</td>\n",
       "    </tr>\n",
       "    <tr>\n",
       "      <th>2</th>\n",
       "      <td>1.0</td>\n",
       "      <td>2006.0</td>\n",
       "      <td>7.0</td>\n",
       "      <td>10.0</td>\n",
       "      <td>10.0</td>\n",
       "      <td>251.424419</td>\n",
       "      <td>6.4</td>\n",
       "      <td>7</td>\n",
       "      <td>9</td>\n",
       "      <td>7</td>\n",
       "      <td>...</td>\n",
       "      <td>11</td>\n",
       "      <td>2.53</td>\n",
       "      <td>122.636</td>\n",
       "      <td>8.2</td>\n",
       "      <td>7</td>\n",
       "      <td>9</td>\n",
       "      <td>10</td>\n",
       "      <td>11</td>\n",
       "      <td>2.53</td>\n",
       "      <td>122.59</td>\n",
       "    </tr>\n",
       "  </tbody>\n",
       "</table>\n",
       "<p>3 rows × 48 columns</p>\n",
       "</div>"
      ],
      "text/plain": [
       "   홍수사상번호       연    월     일    시간         유입량  유역평균강수1  강우A1  강우B1  강우C1  \\\n",
       "0     1.0  2006.0  7.0  10.0   8.0  189.100000      6.4     7     7     7   \n",
       "1     1.0  2006.0  7.0  10.0   9.0  216.951962      6.3     7     8     7   \n",
       "2     1.0  2006.0  7.0  10.0  10.0  251.424419      6.4     7     9     7   \n",
       "\n",
       "   ...  강우D5  수위E5     수위D5  유역평균강수6  강우A6  강우B6  강우C6  강우D6  수위E6    수위D6  \n",
       "0  ...     8  2.54  122.660      6.4     7     7     8     8  2.54  122.61  \n",
       "1  ...    10  2.53  122.648      7.3     7     8    10    10  2.53  122.60  \n",
       "2  ...    11  2.53  122.636      8.2     7     9    10    11  2.53  122.59  \n",
       "\n",
       "[3 rows x 48 columns]"
      ]
     },
     "execution_count": 199,
     "metadata": {},
     "output_type": "execute_result"
    }
   ],
   "source": [
    "data = pd.read_csv(\"C:/Users/korea/Desktop/문우혁/Github/BigContest_Flood-ZERO/문우혁/Data_Before/train.csv\")\n",
    "data.head(3)"
   ]
  },
  {
   "cell_type": "code",
   "execution_count": 200,
   "id": "27b5b264-f5b9-40b5-85cc-f46f405e6551",
   "metadata": {},
   "outputs": [],
   "source": [
    "X = data.drop('유입량', axis=1)\n",
    "y = data['유입량']"
   ]
  },
  {
   "cell_type": "code",
   "execution_count": 201,
   "id": "94c9031b-c15f-4919-a46b-14e854ae0b5b",
   "metadata": {},
   "outputs": [],
   "source": [
    "X = X.drop(X.iloc[:, 5:12], axis=1)\n",
    "X = X.drop(X.iloc[:, 12:], axis=1)"
   ]
  },
  {
   "cell_type": "code",
   "execution_count": 202,
   "id": "c32e8de4-2ff7-42db-ace0-abe7eab8b30a",
   "metadata": {},
   "outputs": [
    {
     "data": {
      "text/html": [
       "<div>\n",
       "<style scoped>\n",
       "    .dataframe tbody tr th:only-of-type {\n",
       "        vertical-align: middle;\n",
       "    }\n",
       "\n",
       "    .dataframe tbody tr th {\n",
       "        vertical-align: top;\n",
       "    }\n",
       "\n",
       "    .dataframe thead th {\n",
       "        text-align: right;\n",
       "    }\n",
       "</style>\n",
       "<table border=\"1\" class=\"dataframe\">\n",
       "  <thead>\n",
       "    <tr style=\"text-align: right;\">\n",
       "      <th></th>\n",
       "      <th>홍수사상번호</th>\n",
       "      <th>연</th>\n",
       "      <th>월</th>\n",
       "      <th>일</th>\n",
       "      <th>시간</th>\n",
       "      <th>유역평균강수2</th>\n",
       "      <th>강우A2</th>\n",
       "      <th>강우B2</th>\n",
       "      <th>강우C2</th>\n",
       "      <th>강우D2</th>\n",
       "      <th>수위E2</th>\n",
       "      <th>수위D2</th>\n",
       "    </tr>\n",
       "  </thead>\n",
       "  <tbody>\n",
       "    <tr>\n",
       "      <th>0</th>\n",
       "      <td>1.0</td>\n",
       "      <td>2006.0</td>\n",
       "      <td>7.0</td>\n",
       "      <td>10.0</td>\n",
       "      <td>8.0</td>\n",
       "      <td>6.3</td>\n",
       "      <td>7</td>\n",
       "      <td>7</td>\n",
       "      <td>7</td>\n",
       "      <td>8</td>\n",
       "      <td>2.54</td>\n",
       "      <td>122.541667</td>\n",
       "    </tr>\n",
       "    <tr>\n",
       "      <th>1</th>\n",
       "      <td>1.0</td>\n",
       "      <td>2006.0</td>\n",
       "      <td>7.0</td>\n",
       "      <td>10.0</td>\n",
       "      <td>9.0</td>\n",
       "      <td>6.4</td>\n",
       "      <td>7</td>\n",
       "      <td>8</td>\n",
       "      <td>7</td>\n",
       "      <td>8</td>\n",
       "      <td>2.53</td>\n",
       "      <td>122.550000</td>\n",
       "    </tr>\n",
       "    <tr>\n",
       "      <th>2</th>\n",
       "      <td>1.0</td>\n",
       "      <td>2006.0</td>\n",
       "      <td>7.0</td>\n",
       "      <td>10.0</td>\n",
       "      <td>10.0</td>\n",
       "      <td>7.3</td>\n",
       "      <td>7</td>\n",
       "      <td>9</td>\n",
       "      <td>7</td>\n",
       "      <td>8</td>\n",
       "      <td>2.53</td>\n",
       "      <td>122.558333</td>\n",
       "    </tr>\n",
       "    <tr>\n",
       "      <th>3</th>\n",
       "      <td>1.0</td>\n",
       "      <td>2006.0</td>\n",
       "      <td>7.0</td>\n",
       "      <td>10.0</td>\n",
       "      <td>11.0</td>\n",
       "      <td>8.2</td>\n",
       "      <td>7</td>\n",
       "      <td>10</td>\n",
       "      <td>8</td>\n",
       "      <td>8</td>\n",
       "      <td>2.53</td>\n",
       "      <td>122.566667</td>\n",
       "    </tr>\n",
       "    <tr>\n",
       "      <th>4</th>\n",
       "      <td>1.0</td>\n",
       "      <td>2006.0</td>\n",
       "      <td>7.0</td>\n",
       "      <td>10.0</td>\n",
       "      <td>12.0</td>\n",
       "      <td>11.3</td>\n",
       "      <td>9</td>\n",
       "      <td>12</td>\n",
       "      <td>10</td>\n",
       "      <td>10</td>\n",
       "      <td>2.53</td>\n",
       "      <td>122.575000</td>\n",
       "    </tr>\n",
       "  </tbody>\n",
       "</table>\n",
       "</div>"
      ],
      "text/plain": [
       "   홍수사상번호       연    월     일    시간  유역평균강수2  강우A2  강우B2  강우C2  강우D2  수위E2  \\\n",
       "0     1.0  2006.0  7.0  10.0   8.0      6.3     7     7     7     8  2.54   \n",
       "1     1.0  2006.0  7.0  10.0   9.0      6.4     7     8     7     8  2.53   \n",
       "2     1.0  2006.0  7.0  10.0  10.0      7.3     7     9     7     8  2.53   \n",
       "3     1.0  2006.0  7.0  10.0  11.0      8.2     7    10     8     8  2.53   \n",
       "4     1.0  2006.0  7.0  10.0  12.0     11.3     9    12    10    10  2.53   \n",
       "\n",
       "         수위D2  \n",
       "0  122.541667  \n",
       "1  122.550000  \n",
       "2  122.558333  \n",
       "3  122.566667  \n",
       "4  122.575000  "
      ]
     },
     "execution_count": 202,
     "metadata": {},
     "output_type": "execute_result"
    }
   ],
   "source": [
    "X.head()"
   ]
  },
  {
   "cell_type": "code",
   "execution_count": 203,
   "id": "fd7b3bb9-4a1c-4e5e-862d-676d15e1a0f8",
   "metadata": {},
   "outputs": [],
   "source": [
    "X_train, X_test, y_train, y_test = train_test_split(X, y, test_size=0.2, shuffle=False)"
   ]
  },
  {
   "cell_type": "code",
   "execution_count": 204,
   "id": "b0012cc1-4de5-43aa-aa8b-3f73489c3e3a",
   "metadata": {},
   "outputs": [
    {
     "data": {
      "text/plain": [
       "RandomForestRegressor()"
      ]
     },
     "execution_count": 204,
     "metadata": {},
     "output_type": "execute_result"
    }
   ],
   "source": [
    "rf = RandomForestRegressor()\n",
    "rf.fit(X_train, y_train)"
   ]
  },
  {
   "cell_type": "code",
   "execution_count": 205,
   "id": "80799707-8c8c-49ea-886f-9cab160e8a5c",
   "metadata": {},
   "outputs": [],
   "source": [
    "predict = rf.predict(X_test)\n",
    "expected = y_test"
   ]
  },
  {
   "cell_type": "code",
   "execution_count": 206,
   "id": "ae0460fc-308d-446b-9b86-b7932d2f6d0a",
   "metadata": {},
   "outputs": [
    {
     "name": "stdout",
     "output_type": "stream",
     "text": [
      "RMSE : 616.4481602029125\n"
     ]
    }
   ],
   "source": [
    "print('RMSE : {}'.format(mean_squared_error(expected, predict, squared=False)))"
   ]
  },
  {
   "cell_type": "markdown",
   "id": "ff861494-ec53-4ccd-aa53-bb032c337686",
   "metadata": {},
   "source": [
    "## 데이터 집단 3"
   ]
  },
  {
   "cell_type": "code",
   "execution_count": 225,
   "id": "ad25b6d6-8046-483f-8f1e-3d61eb73d2f9",
   "metadata": {},
   "outputs": [
    {
     "data": {
      "text/html": [
       "<div>\n",
       "<style scoped>\n",
       "    .dataframe tbody tr th:only-of-type {\n",
       "        vertical-align: middle;\n",
       "    }\n",
       "\n",
       "    .dataframe tbody tr th {\n",
       "        vertical-align: top;\n",
       "    }\n",
       "\n",
       "    .dataframe thead th {\n",
       "        text-align: right;\n",
       "    }\n",
       "</style>\n",
       "<table border=\"1\" class=\"dataframe\">\n",
       "  <thead>\n",
       "    <tr style=\"text-align: right;\">\n",
       "      <th></th>\n",
       "      <th>홍수사상번호</th>\n",
       "      <th>연</th>\n",
       "      <th>월</th>\n",
       "      <th>일</th>\n",
       "      <th>시간</th>\n",
       "      <th>유입량</th>\n",
       "      <th>유역평균강수1</th>\n",
       "      <th>강우A1</th>\n",
       "      <th>강우B1</th>\n",
       "      <th>강우C1</th>\n",
       "      <th>...</th>\n",
       "      <th>강우D5</th>\n",
       "      <th>수위E5</th>\n",
       "      <th>수위D5</th>\n",
       "      <th>유역평균강수6</th>\n",
       "      <th>강우A6</th>\n",
       "      <th>강우B6</th>\n",
       "      <th>강우C6</th>\n",
       "      <th>강우D6</th>\n",
       "      <th>수위E6</th>\n",
       "      <th>수위D6</th>\n",
       "    </tr>\n",
       "  </thead>\n",
       "  <tbody>\n",
       "    <tr>\n",
       "      <th>0</th>\n",
       "      <td>1.0</td>\n",
       "      <td>2006.0</td>\n",
       "      <td>7.0</td>\n",
       "      <td>10.0</td>\n",
       "      <td>8.0</td>\n",
       "      <td>189.100000</td>\n",
       "      <td>6.4</td>\n",
       "      <td>7</td>\n",
       "      <td>7</td>\n",
       "      <td>7</td>\n",
       "      <td>...</td>\n",
       "      <td>8</td>\n",
       "      <td>2.54</td>\n",
       "      <td>122.660</td>\n",
       "      <td>6.4</td>\n",
       "      <td>7</td>\n",
       "      <td>7</td>\n",
       "      <td>8</td>\n",
       "      <td>8</td>\n",
       "      <td>2.54</td>\n",
       "      <td>122.61</td>\n",
       "    </tr>\n",
       "    <tr>\n",
       "      <th>1</th>\n",
       "      <td>1.0</td>\n",
       "      <td>2006.0</td>\n",
       "      <td>7.0</td>\n",
       "      <td>10.0</td>\n",
       "      <td>9.0</td>\n",
       "      <td>216.951962</td>\n",
       "      <td>6.3</td>\n",
       "      <td>7</td>\n",
       "      <td>8</td>\n",
       "      <td>7</td>\n",
       "      <td>...</td>\n",
       "      <td>10</td>\n",
       "      <td>2.53</td>\n",
       "      <td>122.648</td>\n",
       "      <td>7.3</td>\n",
       "      <td>7</td>\n",
       "      <td>8</td>\n",
       "      <td>10</td>\n",
       "      <td>10</td>\n",
       "      <td>2.53</td>\n",
       "      <td>122.60</td>\n",
       "    </tr>\n",
       "    <tr>\n",
       "      <th>2</th>\n",
       "      <td>1.0</td>\n",
       "      <td>2006.0</td>\n",
       "      <td>7.0</td>\n",
       "      <td>10.0</td>\n",
       "      <td>10.0</td>\n",
       "      <td>251.424419</td>\n",
       "      <td>6.4</td>\n",
       "      <td>7</td>\n",
       "      <td>9</td>\n",
       "      <td>7</td>\n",
       "      <td>...</td>\n",
       "      <td>11</td>\n",
       "      <td>2.53</td>\n",
       "      <td>122.636</td>\n",
       "      <td>8.2</td>\n",
       "      <td>7</td>\n",
       "      <td>9</td>\n",
       "      <td>10</td>\n",
       "      <td>11</td>\n",
       "      <td>2.53</td>\n",
       "      <td>122.59</td>\n",
       "    </tr>\n",
       "  </tbody>\n",
       "</table>\n",
       "<p>3 rows × 48 columns</p>\n",
       "</div>"
      ],
      "text/plain": [
       "   홍수사상번호       연    월     일    시간         유입량  유역평균강수1  강우A1  강우B1  강우C1  \\\n",
       "0     1.0  2006.0  7.0  10.0   8.0  189.100000      6.4     7     7     7   \n",
       "1     1.0  2006.0  7.0  10.0   9.0  216.951962      6.3     7     8     7   \n",
       "2     1.0  2006.0  7.0  10.0  10.0  251.424419      6.4     7     9     7   \n",
       "\n",
       "   ...  강우D5  수위E5     수위D5  유역평균강수6  강우A6  강우B6  강우C6  강우D6  수위E6    수위D6  \n",
       "0  ...     8  2.54  122.660      6.4     7     7     8     8  2.54  122.61  \n",
       "1  ...    10  2.53  122.648      7.3     7     8    10    10  2.53  122.60  \n",
       "2  ...    11  2.53  122.636      8.2     7     9    10    11  2.53  122.59  \n",
       "\n",
       "[3 rows x 48 columns]"
      ]
     },
     "execution_count": 225,
     "metadata": {},
     "output_type": "execute_result"
    }
   ],
   "source": [
    "data = pd.read_csv(\"C:/Users/korea/Desktop/문우혁/Github/BigContest_Flood-ZERO/문우혁/Data_Before/train.csv\")\n",
    "data.head(3)"
   ]
  },
  {
   "cell_type": "code",
   "execution_count": 226,
   "id": "b0ad7c63-5945-40aa-ba9d-758cc5193dea",
   "metadata": {},
   "outputs": [],
   "source": [
    "X = data.drop('유입량', axis=1)\n",
    "y = data['유입량']"
   ]
  },
  {
   "cell_type": "code",
   "execution_count": 227,
   "id": "195834f7-1f4b-4b1e-8470-0cbe26cfef0e",
   "metadata": {},
   "outputs": [],
   "source": [
    "X = X.drop(X.iloc[:, 5:19], axis=1)\n",
    "X = X.drop(X.iloc[:, 12:], axis=1)"
   ]
  },
  {
   "cell_type": "code",
   "execution_count": 228,
   "id": "38793b01-feef-4307-83a1-05ea2753f983",
   "metadata": {},
   "outputs": [
    {
     "data": {
      "text/html": [
       "<div>\n",
       "<style scoped>\n",
       "    .dataframe tbody tr th:only-of-type {\n",
       "        vertical-align: middle;\n",
       "    }\n",
       "\n",
       "    .dataframe tbody tr th {\n",
       "        vertical-align: top;\n",
       "    }\n",
       "\n",
       "    .dataframe thead th {\n",
       "        text-align: right;\n",
       "    }\n",
       "</style>\n",
       "<table border=\"1\" class=\"dataframe\">\n",
       "  <thead>\n",
       "    <tr style=\"text-align: right;\">\n",
       "      <th></th>\n",
       "      <th>홍수사상번호</th>\n",
       "      <th>연</th>\n",
       "      <th>월</th>\n",
       "      <th>일</th>\n",
       "      <th>시간</th>\n",
       "      <th>유역평균강수3</th>\n",
       "      <th>강우A3</th>\n",
       "      <th>강우B3</th>\n",
       "      <th>강우C3</th>\n",
       "      <th>강우D3</th>\n",
       "      <th>수위E3</th>\n",
       "      <th>수위D3</th>\n",
       "    </tr>\n",
       "  </thead>\n",
       "  <tbody>\n",
       "    <tr>\n",
       "      <th>0</th>\n",
       "      <td>1.0</td>\n",
       "      <td>2006.0</td>\n",
       "      <td>7.0</td>\n",
       "      <td>10.0</td>\n",
       "      <td>8.0</td>\n",
       "      <td>6.3</td>\n",
       "      <td>7</td>\n",
       "      <td>7</td>\n",
       "      <td>7</td>\n",
       "      <td>8</td>\n",
       "      <td>2.54</td>\n",
       "      <td>122.550000</td>\n",
       "    </tr>\n",
       "    <tr>\n",
       "      <th>1</th>\n",
       "      <td>1.0</td>\n",
       "      <td>2006.0</td>\n",
       "      <td>7.0</td>\n",
       "      <td>10.0</td>\n",
       "      <td>9.0</td>\n",
       "      <td>6.4</td>\n",
       "      <td>7</td>\n",
       "      <td>8</td>\n",
       "      <td>7</td>\n",
       "      <td>8</td>\n",
       "      <td>2.53</td>\n",
       "      <td>122.558333</td>\n",
       "    </tr>\n",
       "    <tr>\n",
       "      <th>2</th>\n",
       "      <td>1.0</td>\n",
       "      <td>2006.0</td>\n",
       "      <td>7.0</td>\n",
       "      <td>10.0</td>\n",
       "      <td>10.0</td>\n",
       "      <td>7.3</td>\n",
       "      <td>7</td>\n",
       "      <td>9</td>\n",
       "      <td>8</td>\n",
       "      <td>8</td>\n",
       "      <td>2.53</td>\n",
       "      <td>122.566667</td>\n",
       "    </tr>\n",
       "    <tr>\n",
       "      <th>3</th>\n",
       "      <td>1.0</td>\n",
       "      <td>2006.0</td>\n",
       "      <td>7.0</td>\n",
       "      <td>10.0</td>\n",
       "      <td>11.0</td>\n",
       "      <td>8.2</td>\n",
       "      <td>7</td>\n",
       "      <td>10</td>\n",
       "      <td>10</td>\n",
       "      <td>10</td>\n",
       "      <td>2.53</td>\n",
       "      <td>122.575000</td>\n",
       "    </tr>\n",
       "    <tr>\n",
       "      <th>4</th>\n",
       "      <td>1.0</td>\n",
       "      <td>2006.0</td>\n",
       "      <td>7.0</td>\n",
       "      <td>10.0</td>\n",
       "      <td>12.0</td>\n",
       "      <td>11.3</td>\n",
       "      <td>9</td>\n",
       "      <td>12</td>\n",
       "      <td>10</td>\n",
       "      <td>11</td>\n",
       "      <td>2.53</td>\n",
       "      <td>122.575000</td>\n",
       "    </tr>\n",
       "  </tbody>\n",
       "</table>\n",
       "</div>"
      ],
      "text/plain": [
       "   홍수사상번호       연    월     일    시간  유역평균강수3  강우A3  강우B3  강우C3  강우D3  수위E3  \\\n",
       "0     1.0  2006.0  7.0  10.0   8.0      6.3     7     7     7     8  2.54   \n",
       "1     1.0  2006.0  7.0  10.0   9.0      6.4     7     8     7     8  2.53   \n",
       "2     1.0  2006.0  7.0  10.0  10.0      7.3     7     9     8     8  2.53   \n",
       "3     1.0  2006.0  7.0  10.0  11.0      8.2     7    10    10    10  2.53   \n",
       "4     1.0  2006.0  7.0  10.0  12.0     11.3     9    12    10    11  2.53   \n",
       "\n",
       "         수위D3  \n",
       "0  122.550000  \n",
       "1  122.558333  \n",
       "2  122.566667  \n",
       "3  122.575000  \n",
       "4  122.575000  "
      ]
     },
     "execution_count": 228,
     "metadata": {},
     "output_type": "execute_result"
    }
   ],
   "source": [
    "X.head()"
   ]
  },
  {
   "cell_type": "code",
   "execution_count": 229,
   "id": "8987ce70-356e-4e88-9671-d15da057fec8",
   "metadata": {},
   "outputs": [],
   "source": [
    "X_train, X_test, y_train, y_test = train_test_split(X, y, test_size=0.2, shuffle=False)"
   ]
  },
  {
   "cell_type": "code",
   "execution_count": 230,
   "id": "ee9d4993-197a-48bd-bd30-cf08b50ec5da",
   "metadata": {},
   "outputs": [
    {
     "data": {
      "text/plain": [
       "RandomForestRegressor()"
      ]
     },
     "execution_count": 230,
     "metadata": {},
     "output_type": "execute_result"
    }
   ],
   "source": [
    "rf = RandomForestRegressor()\n",
    "rf.fit(X_train, y_train)"
   ]
  },
  {
   "cell_type": "code",
   "execution_count": 231,
   "id": "f16a2595-654a-42cb-8f8d-9d4aef4168bb",
   "metadata": {},
   "outputs": [],
   "source": [
    "predict = rf.predict(X_test)\n",
    "expected = y_test"
   ]
  },
  {
   "cell_type": "code",
   "execution_count": 232,
   "id": "55ee5862-76be-4b8d-89fe-b50ab6f4daf6",
   "metadata": {},
   "outputs": [
    {
     "name": "stdout",
     "output_type": "stream",
     "text": [
      "RMSE : 639.5533255143589\n"
     ]
    }
   ],
   "source": [
    "print('RMSE : {}'.format(mean_squared_error(expected, predict, squared=False)))"
   ]
  },
  {
   "cell_type": "markdown",
   "id": "c3e5dd6b-6734-4c81-8ca9-27eab816cd79",
   "metadata": {},
   "source": [
    "## 데이터 집단 4"
   ]
  },
  {
   "cell_type": "code",
   "execution_count": 233,
   "id": "95140191-ee7b-4670-99d7-6c19fb8bf2a7",
   "metadata": {},
   "outputs": [
    {
     "data": {
      "text/html": [
       "<div>\n",
       "<style scoped>\n",
       "    .dataframe tbody tr th:only-of-type {\n",
       "        vertical-align: middle;\n",
       "    }\n",
       "\n",
       "    .dataframe tbody tr th {\n",
       "        vertical-align: top;\n",
       "    }\n",
       "\n",
       "    .dataframe thead th {\n",
       "        text-align: right;\n",
       "    }\n",
       "</style>\n",
       "<table border=\"1\" class=\"dataframe\">\n",
       "  <thead>\n",
       "    <tr style=\"text-align: right;\">\n",
       "      <th></th>\n",
       "      <th>홍수사상번호</th>\n",
       "      <th>연</th>\n",
       "      <th>월</th>\n",
       "      <th>일</th>\n",
       "      <th>시간</th>\n",
       "      <th>유입량</th>\n",
       "      <th>유역평균강수1</th>\n",
       "      <th>강우A1</th>\n",
       "      <th>강우B1</th>\n",
       "      <th>강우C1</th>\n",
       "      <th>...</th>\n",
       "      <th>강우D5</th>\n",
       "      <th>수위E5</th>\n",
       "      <th>수위D5</th>\n",
       "      <th>유역평균강수6</th>\n",
       "      <th>강우A6</th>\n",
       "      <th>강우B6</th>\n",
       "      <th>강우C6</th>\n",
       "      <th>강우D6</th>\n",
       "      <th>수위E6</th>\n",
       "      <th>수위D6</th>\n",
       "    </tr>\n",
       "  </thead>\n",
       "  <tbody>\n",
       "    <tr>\n",
       "      <th>0</th>\n",
       "      <td>1.0</td>\n",
       "      <td>2006.0</td>\n",
       "      <td>7.0</td>\n",
       "      <td>10.0</td>\n",
       "      <td>8.0</td>\n",
       "      <td>189.100000</td>\n",
       "      <td>6.4</td>\n",
       "      <td>7</td>\n",
       "      <td>7</td>\n",
       "      <td>7</td>\n",
       "      <td>...</td>\n",
       "      <td>8</td>\n",
       "      <td>2.54</td>\n",
       "      <td>122.660</td>\n",
       "      <td>6.4</td>\n",
       "      <td>7</td>\n",
       "      <td>7</td>\n",
       "      <td>8</td>\n",
       "      <td>8</td>\n",
       "      <td>2.54</td>\n",
       "      <td>122.61</td>\n",
       "    </tr>\n",
       "    <tr>\n",
       "      <th>1</th>\n",
       "      <td>1.0</td>\n",
       "      <td>2006.0</td>\n",
       "      <td>7.0</td>\n",
       "      <td>10.0</td>\n",
       "      <td>9.0</td>\n",
       "      <td>216.951962</td>\n",
       "      <td>6.3</td>\n",
       "      <td>7</td>\n",
       "      <td>8</td>\n",
       "      <td>7</td>\n",
       "      <td>...</td>\n",
       "      <td>10</td>\n",
       "      <td>2.53</td>\n",
       "      <td>122.648</td>\n",
       "      <td>7.3</td>\n",
       "      <td>7</td>\n",
       "      <td>8</td>\n",
       "      <td>10</td>\n",
       "      <td>10</td>\n",
       "      <td>2.53</td>\n",
       "      <td>122.60</td>\n",
       "    </tr>\n",
       "    <tr>\n",
       "      <th>2</th>\n",
       "      <td>1.0</td>\n",
       "      <td>2006.0</td>\n",
       "      <td>7.0</td>\n",
       "      <td>10.0</td>\n",
       "      <td>10.0</td>\n",
       "      <td>251.424419</td>\n",
       "      <td>6.4</td>\n",
       "      <td>7</td>\n",
       "      <td>9</td>\n",
       "      <td>7</td>\n",
       "      <td>...</td>\n",
       "      <td>11</td>\n",
       "      <td>2.53</td>\n",
       "      <td>122.636</td>\n",
       "      <td>8.2</td>\n",
       "      <td>7</td>\n",
       "      <td>9</td>\n",
       "      <td>10</td>\n",
       "      <td>11</td>\n",
       "      <td>2.53</td>\n",
       "      <td>122.59</td>\n",
       "    </tr>\n",
       "  </tbody>\n",
       "</table>\n",
       "<p>3 rows × 48 columns</p>\n",
       "</div>"
      ],
      "text/plain": [
       "   홍수사상번호       연    월     일    시간         유입량  유역평균강수1  강우A1  강우B1  강우C1  \\\n",
       "0     1.0  2006.0  7.0  10.0   8.0  189.100000      6.4     7     7     7   \n",
       "1     1.0  2006.0  7.0  10.0   9.0  216.951962      6.3     7     8     7   \n",
       "2     1.0  2006.0  7.0  10.0  10.0  251.424419      6.4     7     9     7   \n",
       "\n",
       "   ...  강우D5  수위E5     수위D5  유역평균강수6  강우A6  강우B6  강우C6  강우D6  수위E6    수위D6  \n",
       "0  ...     8  2.54  122.660      6.4     7     7     8     8  2.54  122.61  \n",
       "1  ...    10  2.53  122.648      7.3     7     8    10    10  2.53  122.60  \n",
       "2  ...    11  2.53  122.636      8.2     7     9    10    11  2.53  122.59  \n",
       "\n",
       "[3 rows x 48 columns]"
      ]
     },
     "execution_count": 233,
     "metadata": {},
     "output_type": "execute_result"
    }
   ],
   "source": [
    "data = pd.read_csv(\"C:/Users/korea/Desktop/문우혁/Github/BigContest_Flood-ZERO/문우혁/Data_Before/train.csv\")\n",
    "data.head(3)"
   ]
  },
  {
   "cell_type": "code",
   "execution_count": 234,
   "id": "85edc305-a4a6-4296-9708-e07547da6f92",
   "metadata": {},
   "outputs": [],
   "source": [
    "X = data.drop('유입량', axis=1)\n",
    "y = data['유입량']"
   ]
  },
  {
   "cell_type": "code",
   "execution_count": 235,
   "id": "89627141-e6f0-43bd-9f9f-7430ac583332",
   "metadata": {},
   "outputs": [],
   "source": [
    "X = X.drop(X.iloc[:, 5:26], axis=1)\n",
    "X = X.drop(X.iloc[:, 12:], axis=1)"
   ]
  },
  {
   "cell_type": "code",
   "execution_count": 236,
   "id": "d7d55faf-aadc-488d-b660-a98d89e359b0",
   "metadata": {},
   "outputs": [
    {
     "data": {
      "text/html": [
       "<div>\n",
       "<style scoped>\n",
       "    .dataframe tbody tr th:only-of-type {\n",
       "        vertical-align: middle;\n",
       "    }\n",
       "\n",
       "    .dataframe tbody tr th {\n",
       "        vertical-align: top;\n",
       "    }\n",
       "\n",
       "    .dataframe thead th {\n",
       "        text-align: right;\n",
       "    }\n",
       "</style>\n",
       "<table border=\"1\" class=\"dataframe\">\n",
       "  <thead>\n",
       "    <tr style=\"text-align: right;\">\n",
       "      <th></th>\n",
       "      <th>홍수사상번호</th>\n",
       "      <th>연</th>\n",
       "      <th>월</th>\n",
       "      <th>일</th>\n",
       "      <th>시간</th>\n",
       "      <th>유역평균강수4</th>\n",
       "      <th>강우A4</th>\n",
       "      <th>강우B4</th>\n",
       "      <th>강우C4</th>\n",
       "      <th>강우D4</th>\n",
       "      <th>수위E4</th>\n",
       "      <th>수위D4</th>\n",
       "    </tr>\n",
       "  </thead>\n",
       "  <tbody>\n",
       "    <tr>\n",
       "      <th>0</th>\n",
       "      <td>1.0</td>\n",
       "      <td>2006.0</td>\n",
       "      <td>7.0</td>\n",
       "      <td>10.0</td>\n",
       "      <td>8.0</td>\n",
       "      <td>6.4</td>\n",
       "      <td>7</td>\n",
       "      <td>7</td>\n",
       "      <td>8</td>\n",
       "      <td>8</td>\n",
       "      <td>2.54</td>\n",
       "      <td>122.675000</td>\n",
       "    </tr>\n",
       "    <tr>\n",
       "      <th>1</th>\n",
       "      <td>1.0</td>\n",
       "      <td>2006.0</td>\n",
       "      <td>7.0</td>\n",
       "      <td>10.0</td>\n",
       "      <td>9.0</td>\n",
       "      <td>7.3</td>\n",
       "      <td>7</td>\n",
       "      <td>8</td>\n",
       "      <td>10</td>\n",
       "      <td>10</td>\n",
       "      <td>2.53</td>\n",
       "      <td>122.667857</td>\n",
       "    </tr>\n",
       "    <tr>\n",
       "      <th>2</th>\n",
       "      <td>1.0</td>\n",
       "      <td>2006.0</td>\n",
       "      <td>7.0</td>\n",
       "      <td>10.0</td>\n",
       "      <td>10.0</td>\n",
       "      <td>8.2</td>\n",
       "      <td>7</td>\n",
       "      <td>9</td>\n",
       "      <td>10</td>\n",
       "      <td>11</td>\n",
       "      <td>2.53</td>\n",
       "      <td>122.660714</td>\n",
       "    </tr>\n",
       "    <tr>\n",
       "      <th>3</th>\n",
       "      <td>1.0</td>\n",
       "      <td>2006.0</td>\n",
       "      <td>7.0</td>\n",
       "      <td>10.0</td>\n",
       "      <td>11.0</td>\n",
       "      <td>11.3</td>\n",
       "      <td>9</td>\n",
       "      <td>10</td>\n",
       "      <td>15</td>\n",
       "      <td>14</td>\n",
       "      <td>2.53</td>\n",
       "      <td>122.653571</td>\n",
       "    </tr>\n",
       "    <tr>\n",
       "      <th>4</th>\n",
       "      <td>1.0</td>\n",
       "      <td>2006.0</td>\n",
       "      <td>7.0</td>\n",
       "      <td>10.0</td>\n",
       "      <td>12.0</td>\n",
       "      <td>14.4</td>\n",
       "      <td>12</td>\n",
       "      <td>12</td>\n",
       "      <td>18</td>\n",
       "      <td>16</td>\n",
       "      <td>2.53</td>\n",
       "      <td>122.639286</td>\n",
       "    </tr>\n",
       "  </tbody>\n",
       "</table>\n",
       "</div>"
      ],
      "text/plain": [
       "   홍수사상번호       연    월     일    시간  유역평균강수4  강우A4  강우B4  강우C4  강우D4  수위E4  \\\n",
       "0     1.0  2006.0  7.0  10.0   8.0      6.4     7     7     8     8  2.54   \n",
       "1     1.0  2006.0  7.0  10.0   9.0      7.3     7     8    10    10  2.53   \n",
       "2     1.0  2006.0  7.0  10.0  10.0      8.2     7     9    10    11  2.53   \n",
       "3     1.0  2006.0  7.0  10.0  11.0     11.3     9    10    15    14  2.53   \n",
       "4     1.0  2006.0  7.0  10.0  12.0     14.4    12    12    18    16  2.53   \n",
       "\n",
       "         수위D4  \n",
       "0  122.675000  \n",
       "1  122.667857  \n",
       "2  122.660714  \n",
       "3  122.653571  \n",
       "4  122.639286  "
      ]
     },
     "execution_count": 236,
     "metadata": {},
     "output_type": "execute_result"
    }
   ],
   "source": [
    "X.head()"
   ]
  },
  {
   "cell_type": "code",
   "execution_count": 237,
   "id": "ca834b7a-57fe-489b-896b-3c5d67b7502e",
   "metadata": {},
   "outputs": [],
   "source": [
    "X_train, X_test, y_train, y_test = train_test_split(X, y, test_size=0.2, shuffle=False)"
   ]
  },
  {
   "cell_type": "code",
   "execution_count": 238,
   "id": "907369e1-d952-466f-8f28-2be586f67266",
   "metadata": {},
   "outputs": [
    {
     "data": {
      "text/plain": [
       "RandomForestRegressor()"
      ]
     },
     "execution_count": 238,
     "metadata": {},
     "output_type": "execute_result"
    }
   ],
   "source": [
    "rf = RandomForestRegressor()\n",
    "rf.fit(X_train, y_train)"
   ]
  },
  {
   "cell_type": "code",
   "execution_count": 239,
   "id": "9dc28301-27eb-41a9-bf6c-fcc5eac51cd3",
   "metadata": {},
   "outputs": [],
   "source": [
    "predict = rf.predict(X_test)\n",
    "expected = y_test"
   ]
  },
  {
   "cell_type": "code",
   "execution_count": 240,
   "id": "b238f2f7-2e8b-4b3a-929f-8e59c5ded176",
   "metadata": {},
   "outputs": [
    {
     "name": "stdout",
     "output_type": "stream",
     "text": [
      "RMSE : 543.0903121119221\n"
     ]
    }
   ],
   "source": [
    "print('RMSE : {}'.format(mean_squared_error(expected, predict, squared=False)))"
   ]
  },
  {
   "cell_type": "markdown",
   "id": "31c99a43-503a-4ced-8338-2994f94c8d5b",
   "metadata": {},
   "source": [
    "## 데이터 집단 5"
   ]
  },
  {
   "cell_type": "code",
   "execution_count": 233,
   "id": "20941dd7-c54e-4ccb-8b89-7b0fad17beec",
   "metadata": {},
   "outputs": [
    {
     "data": {
      "text/html": [
       "<div>\n",
       "<style scoped>\n",
       "    .dataframe tbody tr th:only-of-type {\n",
       "        vertical-align: middle;\n",
       "    }\n",
       "\n",
       "    .dataframe tbody tr th {\n",
       "        vertical-align: top;\n",
       "    }\n",
       "\n",
       "    .dataframe thead th {\n",
       "        text-align: right;\n",
       "    }\n",
       "</style>\n",
       "<table border=\"1\" class=\"dataframe\">\n",
       "  <thead>\n",
       "    <tr style=\"text-align: right;\">\n",
       "      <th></th>\n",
       "      <th>홍수사상번호</th>\n",
       "      <th>연</th>\n",
       "      <th>월</th>\n",
       "      <th>일</th>\n",
       "      <th>시간</th>\n",
       "      <th>유입량</th>\n",
       "      <th>유역평균강수1</th>\n",
       "      <th>강우A1</th>\n",
       "      <th>강우B1</th>\n",
       "      <th>강우C1</th>\n",
       "      <th>...</th>\n",
       "      <th>강우D5</th>\n",
       "      <th>수위E5</th>\n",
       "      <th>수위D5</th>\n",
       "      <th>유역평균강수6</th>\n",
       "      <th>강우A6</th>\n",
       "      <th>강우B6</th>\n",
       "      <th>강우C6</th>\n",
       "      <th>강우D6</th>\n",
       "      <th>수위E6</th>\n",
       "      <th>수위D6</th>\n",
       "    </tr>\n",
       "  </thead>\n",
       "  <tbody>\n",
       "    <tr>\n",
       "      <th>0</th>\n",
       "      <td>1.0</td>\n",
       "      <td>2006.0</td>\n",
       "      <td>7.0</td>\n",
       "      <td>10.0</td>\n",
       "      <td>8.0</td>\n",
       "      <td>189.100000</td>\n",
       "      <td>6.4</td>\n",
       "      <td>7</td>\n",
       "      <td>7</td>\n",
       "      <td>7</td>\n",
       "      <td>...</td>\n",
       "      <td>8</td>\n",
       "      <td>2.54</td>\n",
       "      <td>122.660</td>\n",
       "      <td>6.4</td>\n",
       "      <td>7</td>\n",
       "      <td>7</td>\n",
       "      <td>8</td>\n",
       "      <td>8</td>\n",
       "      <td>2.54</td>\n",
       "      <td>122.61</td>\n",
       "    </tr>\n",
       "    <tr>\n",
       "      <th>1</th>\n",
       "      <td>1.0</td>\n",
       "      <td>2006.0</td>\n",
       "      <td>7.0</td>\n",
       "      <td>10.0</td>\n",
       "      <td>9.0</td>\n",
       "      <td>216.951962</td>\n",
       "      <td>6.3</td>\n",
       "      <td>7</td>\n",
       "      <td>8</td>\n",
       "      <td>7</td>\n",
       "      <td>...</td>\n",
       "      <td>10</td>\n",
       "      <td>2.53</td>\n",
       "      <td>122.648</td>\n",
       "      <td>7.3</td>\n",
       "      <td>7</td>\n",
       "      <td>8</td>\n",
       "      <td>10</td>\n",
       "      <td>10</td>\n",
       "      <td>2.53</td>\n",
       "      <td>122.60</td>\n",
       "    </tr>\n",
       "    <tr>\n",
       "      <th>2</th>\n",
       "      <td>1.0</td>\n",
       "      <td>2006.0</td>\n",
       "      <td>7.0</td>\n",
       "      <td>10.0</td>\n",
       "      <td>10.0</td>\n",
       "      <td>251.424419</td>\n",
       "      <td>6.4</td>\n",
       "      <td>7</td>\n",
       "      <td>9</td>\n",
       "      <td>7</td>\n",
       "      <td>...</td>\n",
       "      <td>11</td>\n",
       "      <td>2.53</td>\n",
       "      <td>122.636</td>\n",
       "      <td>8.2</td>\n",
       "      <td>7</td>\n",
       "      <td>9</td>\n",
       "      <td>10</td>\n",
       "      <td>11</td>\n",
       "      <td>2.53</td>\n",
       "      <td>122.59</td>\n",
       "    </tr>\n",
       "  </tbody>\n",
       "</table>\n",
       "<p>3 rows × 48 columns</p>\n",
       "</div>"
      ],
      "text/plain": [
       "   홍수사상번호       연    월     일    시간         유입량  유역평균강수1  강우A1  강우B1  강우C1  \\\n",
       "0     1.0  2006.0  7.0  10.0   8.0  189.100000      6.4     7     7     7   \n",
       "1     1.0  2006.0  7.0  10.0   9.0  216.951962      6.3     7     8     7   \n",
       "2     1.0  2006.0  7.0  10.0  10.0  251.424419      6.4     7     9     7   \n",
       "\n",
       "   ...  강우D5  수위E5     수위D5  유역평균강수6  강우A6  강우B6  강우C6  강우D6  수위E6    수위D6  \n",
       "0  ...     8  2.54  122.660      6.4     7     7     8     8  2.54  122.61  \n",
       "1  ...    10  2.53  122.648      7.3     7     8    10    10  2.53  122.60  \n",
       "2  ...    11  2.53  122.636      8.2     7     9    10    11  2.53  122.59  \n",
       "\n",
       "[3 rows x 48 columns]"
      ]
     },
     "execution_count": 233,
     "metadata": {},
     "output_type": "execute_result"
    }
   ],
   "source": [
    "data = pd.read_csv(\"C:/Users/korea/Desktop/문우혁/Github/BigContest_Flood-ZERO/문우혁/Data_Before/train.csv\")\n",
    "data.head(3)"
   ]
  },
  {
   "cell_type": "code",
   "execution_count": 234,
   "id": "80c00c78-819b-4aad-bd48-d1b4b249770b",
   "metadata": {},
   "outputs": [],
   "source": [
    "X = data.drop('유입량', axis=1)\n",
    "y = data['유입량']"
   ]
  },
  {
   "cell_type": "code",
   "execution_count": 235,
   "id": "79211d6a-4607-45b6-a627-1db06ea39c6d",
   "metadata": {},
   "outputs": [],
   "source": [
    "X = X.drop(X.iloc[:, 5:26], axis=1)\n",
    "X = X.drop(X.iloc[:, 12:], axis=1)"
   ]
  },
  {
   "cell_type": "code",
   "execution_count": 236,
   "id": "c3c1535a-4f81-44bc-98d2-3ade364d8da1",
   "metadata": {},
   "outputs": [
    {
     "data": {
      "text/html": [
       "<div>\n",
       "<style scoped>\n",
       "    .dataframe tbody tr th:only-of-type {\n",
       "        vertical-align: middle;\n",
       "    }\n",
       "\n",
       "    .dataframe tbody tr th {\n",
       "        vertical-align: top;\n",
       "    }\n",
       "\n",
       "    .dataframe thead th {\n",
       "        text-align: right;\n",
       "    }\n",
       "</style>\n",
       "<table border=\"1\" class=\"dataframe\">\n",
       "  <thead>\n",
       "    <tr style=\"text-align: right;\">\n",
       "      <th></th>\n",
       "      <th>홍수사상번호</th>\n",
       "      <th>연</th>\n",
       "      <th>월</th>\n",
       "      <th>일</th>\n",
       "      <th>시간</th>\n",
       "      <th>유역평균강수4</th>\n",
       "      <th>강우A4</th>\n",
       "      <th>강우B4</th>\n",
       "      <th>강우C4</th>\n",
       "      <th>강우D4</th>\n",
       "      <th>수위E4</th>\n",
       "      <th>수위D4</th>\n",
       "    </tr>\n",
       "  </thead>\n",
       "  <tbody>\n",
       "    <tr>\n",
       "      <th>0</th>\n",
       "      <td>1.0</td>\n",
       "      <td>2006.0</td>\n",
       "      <td>7.0</td>\n",
       "      <td>10.0</td>\n",
       "      <td>8.0</td>\n",
       "      <td>6.4</td>\n",
       "      <td>7</td>\n",
       "      <td>7</td>\n",
       "      <td>8</td>\n",
       "      <td>8</td>\n",
       "      <td>2.54</td>\n",
       "      <td>122.675000</td>\n",
       "    </tr>\n",
       "    <tr>\n",
       "      <th>1</th>\n",
       "      <td>1.0</td>\n",
       "      <td>2006.0</td>\n",
       "      <td>7.0</td>\n",
       "      <td>10.0</td>\n",
       "      <td>9.0</td>\n",
       "      <td>7.3</td>\n",
       "      <td>7</td>\n",
       "      <td>8</td>\n",
       "      <td>10</td>\n",
       "      <td>10</td>\n",
       "      <td>2.53</td>\n",
       "      <td>122.667857</td>\n",
       "    </tr>\n",
       "    <tr>\n",
       "      <th>2</th>\n",
       "      <td>1.0</td>\n",
       "      <td>2006.0</td>\n",
       "      <td>7.0</td>\n",
       "      <td>10.0</td>\n",
       "      <td>10.0</td>\n",
       "      <td>8.2</td>\n",
       "      <td>7</td>\n",
       "      <td>9</td>\n",
       "      <td>10</td>\n",
       "      <td>11</td>\n",
       "      <td>2.53</td>\n",
       "      <td>122.660714</td>\n",
       "    </tr>\n",
       "    <tr>\n",
       "      <th>3</th>\n",
       "      <td>1.0</td>\n",
       "      <td>2006.0</td>\n",
       "      <td>7.0</td>\n",
       "      <td>10.0</td>\n",
       "      <td>11.0</td>\n",
       "      <td>11.3</td>\n",
       "      <td>9</td>\n",
       "      <td>10</td>\n",
       "      <td>15</td>\n",
       "      <td>14</td>\n",
       "      <td>2.53</td>\n",
       "      <td>122.653571</td>\n",
       "    </tr>\n",
       "    <tr>\n",
       "      <th>4</th>\n",
       "      <td>1.0</td>\n",
       "      <td>2006.0</td>\n",
       "      <td>7.0</td>\n",
       "      <td>10.0</td>\n",
       "      <td>12.0</td>\n",
       "      <td>14.4</td>\n",
       "      <td>12</td>\n",
       "      <td>12</td>\n",
       "      <td>18</td>\n",
       "      <td>16</td>\n",
       "      <td>2.53</td>\n",
       "      <td>122.639286</td>\n",
       "    </tr>\n",
       "  </tbody>\n",
       "</table>\n",
       "</div>"
      ],
      "text/plain": [
       "   홍수사상번호       연    월     일    시간  유역평균강수4  강우A4  강우B4  강우C4  강우D4  수위E4  \\\n",
       "0     1.0  2006.0  7.0  10.0   8.0      6.4     7     7     8     8  2.54   \n",
       "1     1.0  2006.0  7.0  10.0   9.0      7.3     7     8    10    10  2.53   \n",
       "2     1.0  2006.0  7.0  10.0  10.0      8.2     7     9    10    11  2.53   \n",
       "3     1.0  2006.0  7.0  10.0  11.0     11.3     9    10    15    14  2.53   \n",
       "4     1.0  2006.0  7.0  10.0  12.0     14.4    12    12    18    16  2.53   \n",
       "\n",
       "         수위D4  \n",
       "0  122.675000  \n",
       "1  122.667857  \n",
       "2  122.660714  \n",
       "3  122.653571  \n",
       "4  122.639286  "
      ]
     },
     "execution_count": 236,
     "metadata": {},
     "output_type": "execute_result"
    }
   ],
   "source": [
    "X.head()"
   ]
  },
  {
   "cell_type": "code",
   "execution_count": 237,
   "id": "16ee7b80-452c-4764-a2b2-66b9ba4d4524",
   "metadata": {},
   "outputs": [],
   "source": [
    "X_train, X_test, y_train, y_test = train_test_split(X, y, test_size=0.2, shuffle=False)"
   ]
  },
  {
   "cell_type": "code",
   "execution_count": 238,
   "id": "765661cd-a0bb-4536-98a7-0224ee441104",
   "metadata": {},
   "outputs": [
    {
     "data": {
      "text/plain": [
       "RandomForestRegressor()"
      ]
     },
     "execution_count": 238,
     "metadata": {},
     "output_type": "execute_result"
    }
   ],
   "source": [
    "rf = RandomForestRegressor()\n",
    "rf.fit(X_train, y_train)"
   ]
  },
  {
   "cell_type": "code",
   "execution_count": 239,
   "id": "b02f4613-5d98-42f4-94da-e676d2550801",
   "metadata": {},
   "outputs": [],
   "source": [
    "predict = rf.predict(X_test)\n",
    "expected = y_test"
   ]
  },
  {
   "cell_type": "code",
   "execution_count": 240,
   "id": "fe6fbc7d-328b-4017-a559-47a9811e92e7",
   "metadata": {},
   "outputs": [
    {
     "name": "stdout",
     "output_type": "stream",
     "text": [
      "RMSE : 543.0903121119221\n"
     ]
    }
   ],
   "source": [
    "print('RMSE : {}'.format(mean_squared_error(expected, predict, squared=False)))"
   ]
  },
  {
   "cell_type": "code",
   "execution_count": null,
   "id": "a7b6c0ef-525e-441a-afe2-b49d12db1d0d",
   "metadata": {},
   "outputs": [],
   "source": [
    "ㅍ"
   ]
  }
 ],
 "metadata": {
  "kernelspec": {
   "display_name": "Python 3 (ipykernel)",
   "language": "python",
   "name": "python3"
  },
  "language_info": {
   "codemirror_mode": {
    "name": "ipython",
    "version": 3
   },
   "file_extension": ".py",
   "mimetype": "text/x-python",
   "name": "python",
   "nbconvert_exporter": "python",
   "pygments_lexer": "ipython3",
   "version": "3.8.11"
  }
 },
 "nbformat": 4,
 "nbformat_minor": 5
}

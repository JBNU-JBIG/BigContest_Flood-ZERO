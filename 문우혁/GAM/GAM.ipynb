{
 "cells": [
  {
   "cell_type": "code",
   "execution_count": 1,
   "metadata": {},
   "outputs": [
    {
     "name": "stdout",
     "output_type": "stream",
     "text": [
      "Collecting pygam\n",
      "  Downloading pygam-0.8.0-py2.py3-none-any.whl (1.8 MB)\n",
      "Requirement already satisfied: future in c:\\users\\moon\\anaconda3\\lib\\site-packages (from pygam) (0.18.2)\n",
      "Collecting progressbar2\n",
      "  Downloading progressbar2-3.53.1-py2.py3-none-any.whl (25 kB)\n",
      "Requirement already satisfied: numpy in c:\\users\\moon\\anaconda3\\lib\\site-packages (from pygam) (1.19.2)\n",
      "Requirement already satisfied: scipy in c:\\users\\moon\\anaconda3\\lib\\site-packages (from pygam) (1.5.2)\n",
      "Collecting python-utils>=2.3.0\n",
      "  Downloading python_utils-2.5.6-py2.py3-none-any.whl (12 kB)\n",
      "Requirement already satisfied: six in c:\\users\\moon\\anaconda3\\lib\\site-packages (from progressbar2->pygam) (1.15.0)\n",
      "Installing collected packages: python-utils, progressbar2, pygam\n",
      "Successfully installed progressbar2-3.53.1 pygam-0.8.0 python-utils-2.5.6\n"
     ]
    }
   ],
   "source": [
    "!pip install pygam"
   ]
  },
  {
   "cell_type": "code",
   "execution_count": null,
   "metadata": {},
   "outputs": [],
   "source": []
  }
 ],
 "metadata": {
  "kernelspec": {
   "display_name": "Python 3",
   "language": "python",
   "name": "python3"
  },
  "language_info": {
   "codemirror_mode": {
    "name": "ipython",
    "version": 3
   },
   "file_extension": ".py",
   "mimetype": "text/x-python",
   "name": "python",
   "nbconvert_exporter": "python",
   "pygments_lexer": "ipython3",
   "version": "3.8.5"
  }
 },
 "nbformat": 4,
 "nbformat_minor": 4
}

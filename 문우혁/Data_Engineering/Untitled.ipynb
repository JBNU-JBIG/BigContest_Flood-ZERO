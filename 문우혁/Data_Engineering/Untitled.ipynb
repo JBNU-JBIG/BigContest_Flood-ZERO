{
 "cells": [
  {
   "cell_type": "code",
   "execution_count": 1,
   "metadata": {},
   "outputs": [],
   "source": [
    "import pandas as pd"
   ]
  },
  {
   "cell_type": "code",
   "execution_count": 160,
   "metadata": {},
   "outputs": [],
   "source": [
    "train = pd.read_csv('C:/Users/korea/Desktop/문우혁/Github/BigContest_Flood-ZERO/문우혁/Data_After/train.csv')"
   ]
  },
  {
   "cell_type": "code",
   "execution_count": 161,
   "metadata": {},
   "outputs": [],
   "source": [
    "train['year']=pd.to_datetime(train['year'])\n",
    "train['month']=pd.to_datetime(train['month'])\n",
    "train['day']=pd.to_datetime(train['day'])\n",
    "train['time']=pd.to_datetime(train['time'])"
   ]
  },
  {
   "cell_type": "code",
   "execution_count": 162,
   "metadata": {},
   "outputs": [],
   "source": [
    "train['year']=pd.to_numeric(train['year'])\n",
    "train['month']=pd.to_numeric(train['month'])\n",
    "train['day']=pd.to_numeric(train['day'])\n",
    "train['time']=pd.to_numeric(train['time'])"
   ]
  },
  {
   "cell_type": "code",
   "execution_count": 27,
   "metadata": {},
   "outputs": [
    {
     "data": {
      "text/plain": [
       "num             float64\n",
       "year              int64\n",
       "month             int64\n",
       "day               int64\n",
       "time              int64\n",
       "flow            float64\n",
       "mean_rain       float64\n",
       "rain_A            int64\n",
       "rain_B            int64\n",
       "rain_C            int64\n",
       "rain_D            int64\n",
       "waterLevel_E    float64\n",
       "waterLevel_D    float64\n",
       "dtype: object"
      ]
     },
     "execution_count": 27,
     "metadata": {},
     "output_type": "execute_result"
    }
   ],
   "source": [
    "train.dtypes"
   ]
  },
  {
   "cell_type": "code",
   "execution_count": 191,
   "metadata": {},
   "outputs": [
    {
     "data": {
      "text/html": [
       "<div>\n",
       "<style scoped>\n",
       "    .dataframe tbody tr th:only-of-type {\n",
       "        vertical-align: middle;\n",
       "    }\n",
       "\n",
       "    .dataframe tbody tr th {\n",
       "        vertical-align: top;\n",
       "    }\n",
       "\n",
       "    .dataframe thead th {\n",
       "        text-align: right;\n",
       "    }\n",
       "</style>\n",
       "<table border=\"1\" class=\"dataframe\">\n",
       "  <thead>\n",
       "    <tr style=\"text-align: right;\">\n",
       "      <th></th>\n",
       "      <th>num</th>\n",
       "      <th>year</th>\n",
       "      <th>month</th>\n",
       "      <th>day</th>\n",
       "      <th>time</th>\n",
       "      <th>flow</th>\n",
       "      <th>mean_rain</th>\n",
       "      <th>rain_A</th>\n",
       "      <th>rain_B</th>\n",
       "      <th>rain_C</th>\n",
       "      <th>rain_D</th>\n",
       "      <th>waterLevel_E</th>\n",
       "      <th>waterLevel_D</th>\n",
       "      <th>date</th>\n",
       "    </tr>\n",
       "  </thead>\n",
       "  <tbody>\n",
       "    <tr>\n",
       "      <th>0</th>\n",
       "      <td>1.0</td>\n",
       "      <td>2006</td>\n",
       "      <td>7</td>\n",
       "      <td>10</td>\n",
       "      <td>8</td>\n",
       "      <td>189.100000</td>\n",
       "      <td>6.4</td>\n",
       "      <td>7</td>\n",
       "      <td>7</td>\n",
       "      <td>7</td>\n",
       "      <td>8</td>\n",
       "      <td>2.54</td>\n",
       "      <td>122.56875</td>\n",
       "      <td>2006-07-10 08:00:00</td>\n",
       "    </tr>\n",
       "    <tr>\n",
       "      <th>1</th>\n",
       "      <td>1.0</td>\n",
       "      <td>2006</td>\n",
       "      <td>7</td>\n",
       "      <td>10</td>\n",
       "      <td>9</td>\n",
       "      <td>216.951962</td>\n",
       "      <td>6.3</td>\n",
       "      <td>7</td>\n",
       "      <td>8</td>\n",
       "      <td>7</td>\n",
       "      <td>8</td>\n",
       "      <td>2.53</td>\n",
       "      <td>122.56250</td>\n",
       "      <td>2006-07-10 09:00:00</td>\n",
       "    </tr>\n",
       "    <tr>\n",
       "      <th>2</th>\n",
       "      <td>1.0</td>\n",
       "      <td>2006</td>\n",
       "      <td>7</td>\n",
       "      <td>10</td>\n",
       "      <td>10</td>\n",
       "      <td>251.424419</td>\n",
       "      <td>6.4</td>\n",
       "      <td>7</td>\n",
       "      <td>9</td>\n",
       "      <td>7</td>\n",
       "      <td>8</td>\n",
       "      <td>2.53</td>\n",
       "      <td>122.55625</td>\n",
       "      <td>2006-07-10 10:00:00</td>\n",
       "    </tr>\n",
       "  </tbody>\n",
       "</table>\n",
       "</div>"
      ],
      "text/plain": [
       "   num  year  month  day  time        flow  mean_rain  rain_A  rain_B  rain_C  \\\n",
       "0  1.0  2006      7   10     8  189.100000        6.4       7       7       7   \n",
       "1  1.0  2006      7   10     9  216.951962        6.3       7       8       7   \n",
       "2  1.0  2006      7   10    10  251.424419        6.4       7       9       7   \n",
       "\n",
       "   rain_D  waterLevel_E  waterLevel_D                date  \n",
       "0       8          2.54     122.56875 2006-07-10 08:00:00  \n",
       "1       8          2.53     122.56250 2006-07-10 09:00:00  \n",
       "2       8          2.53     122.55625 2006-07-10 10:00:00  "
      ]
     },
     "execution_count": 191,
     "metadata": {},
     "output_type": "execute_result"
    }
   ],
   "source": [
    "train.head(3)"
   ]
  },
  {
   "cell_type": "code",
   "execution_count": 169,
   "metadata": {},
   "outputs": [
    {
     "name": "stderr",
     "output_type": "stream",
     "text": [
      "C:\\Users\\Public\\Documents\\ESTsoft\\CreatorTemp/ipykernel_26916/1797927558.py:2: SettingWithCopyWarning: \n",
      "A value is trying to be set on a copy of a slice from a DataFrame\n",
      "\n",
      "See the caveats in the documentation: https://pandas.pydata.org/pandas-docs/stable/user_guide/indexing.html#returning-a-view-versus-a-copy\n",
      "  train['time'][index]=0\n"
     ]
    }
   ],
   "source": [
    "index = train[train['time']==24].index\n",
    "train['time'][index]=0"
   ]
  },
  {
   "cell_type": "code",
   "execution_count": 186,
   "metadata": {
    "tags": []
   },
   "outputs": [],
   "source": [
    "train['date'] = train['month'].astype(str) + ' ' + train['day'].astype(str) + ' ' + train['year'].astype(str) + ' ' + train['time'].astype(str)"
   ]
  },
  {
   "cell_type": "code",
   "execution_count": 188,
   "metadata": {},
   "outputs": [],
   "source": [
    "train['date'] = pd.to_datetime(train['date'], format='%m %d %Y %H')"
   ]
  },
  {
   "cell_type": "code",
   "execution_count": 184,
   "metadata": {},
   "outputs": [
    {
     "data": {
      "text/plain": [
       "num             0\n",
       "year            0\n",
       "month           0\n",
       "day             0\n",
       "time            0\n",
       "flow            0\n",
       "mean_rain       0\n",
       "rain_A          0\n",
       "rain_B          0\n",
       "rain_C          0\n",
       "rain_D          0\n",
       "waterLevel_E    0\n",
       "waterLevel_D    0\n",
       "date            0\n",
       "dtype: int64"
      ]
     },
     "execution_count": 184,
     "metadata": {},
     "output_type": "execute_result"
    }
   ],
   "source": [
    "train.isnull().sum()"
   ]
  },
  {
   "cell_type": "code",
   "execution_count": 192,
   "metadata": {},
   "outputs": [
    {
     "data": {
      "text/html": [
       "<div>\n",
       "<style scoped>\n",
       "    .dataframe tbody tr th:only-of-type {\n",
       "        vertical-align: middle;\n",
       "    }\n",
       "\n",
       "    .dataframe tbody tr th {\n",
       "        vertical-align: top;\n",
       "    }\n",
       "\n",
       "    .dataframe thead th {\n",
       "        text-align: right;\n",
       "    }\n",
       "</style>\n",
       "<table border=\"1\" class=\"dataframe\">\n",
       "  <thead>\n",
       "    <tr style=\"text-align: right;\">\n",
       "      <th></th>\n",
       "      <th>num</th>\n",
       "      <th>year</th>\n",
       "      <th>month</th>\n",
       "      <th>day</th>\n",
       "      <th>time</th>\n",
       "      <th>flow</th>\n",
       "      <th>mean_rain</th>\n",
       "      <th>rain_A</th>\n",
       "      <th>rain_B</th>\n",
       "      <th>rain_C</th>\n",
       "      <th>rain_D</th>\n",
       "      <th>waterLevel_E</th>\n",
       "      <th>waterLevel_D</th>\n",
       "      <th>date</th>\n",
       "    </tr>\n",
       "  </thead>\n",
       "  <tbody>\n",
       "    <tr>\n",
       "      <th>0</th>\n",
       "      <td>1.0</td>\n",
       "      <td>2006</td>\n",
       "      <td>7</td>\n",
       "      <td>10</td>\n",
       "      <td>8</td>\n",
       "      <td>189.100000</td>\n",
       "      <td>6.4</td>\n",
       "      <td>7</td>\n",
       "      <td>7</td>\n",
       "      <td>7</td>\n",
       "      <td>8</td>\n",
       "      <td>2.54</td>\n",
       "      <td>122.56875</td>\n",
       "      <td>2006-07-10 08:00:00</td>\n",
       "    </tr>\n",
       "    <tr>\n",
       "      <th>1</th>\n",
       "      <td>1.0</td>\n",
       "      <td>2006</td>\n",
       "      <td>7</td>\n",
       "      <td>10</td>\n",
       "      <td>9</td>\n",
       "      <td>216.951962</td>\n",
       "      <td>6.3</td>\n",
       "      <td>7</td>\n",
       "      <td>8</td>\n",
       "      <td>7</td>\n",
       "      <td>8</td>\n",
       "      <td>2.53</td>\n",
       "      <td>122.56250</td>\n",
       "      <td>2006-07-10 09:00:00</td>\n",
       "    </tr>\n",
       "    <tr>\n",
       "      <th>2</th>\n",
       "      <td>1.0</td>\n",
       "      <td>2006</td>\n",
       "      <td>7</td>\n",
       "      <td>10</td>\n",
       "      <td>10</td>\n",
       "      <td>251.424419</td>\n",
       "      <td>6.4</td>\n",
       "      <td>7</td>\n",
       "      <td>9</td>\n",
       "      <td>7</td>\n",
       "      <td>8</td>\n",
       "      <td>2.53</td>\n",
       "      <td>122.55625</td>\n",
       "      <td>2006-07-10 10:00:00</td>\n",
       "    </tr>\n",
       "  </tbody>\n",
       "</table>\n",
       "</div>"
      ],
      "text/plain": [
       "   num  year  month  day  time        flow  mean_rain  rain_A  rain_B  rain_C  \\\n",
       "0  1.0  2006      7   10     8  189.100000        6.4       7       7       7   \n",
       "1  1.0  2006      7   10     9  216.951962        6.3       7       8       7   \n",
       "2  1.0  2006      7   10    10  251.424419        6.4       7       9       7   \n",
       "\n",
       "   rain_D  waterLevel_E  waterLevel_D                date  \n",
       "0       8          2.54     122.56875 2006-07-10 08:00:00  \n",
       "1       8          2.53     122.56250 2006-07-10 09:00:00  \n",
       "2       8          2.53     122.55625 2006-07-10 10:00:00  "
      ]
     },
     "execution_count": 192,
     "metadata": {},
     "output_type": "execute_result"
    }
   ],
   "source": [
    "train.head(3)"
   ]
  },
  {
   "cell_type": "code",
   "execution_count": 195,
   "metadata": {},
   "outputs": [],
   "source": [
    "train = train.sort_values(by=['date'])"
   ]
  },
  {
   "cell_type": "code",
   "execution_count": 197,
   "metadata": {},
   "outputs": [],
   "source": [
    "train.to_csv('C:/Users/korea/Desktop/문우혁/Github/BigContest_Flood-ZERO/문우혁/Data_After/train.csv', index=False)"
   ]
  },
  {
   "cell_type": "code",
   "execution_count": null,
   "metadata": {},
   "outputs": [],
   "source": []
  }
 ],
 "metadata": {
  "kernelspec": {
   "display_name": "Python 3",
   "language": "python",
   "name": "python3"
  },
  "language_info": {
   "codemirror_mode": {
    "name": "ipython",
    "version": 3
   },
   "file_extension": ".py",
   "mimetype": "text/x-python",
   "name": "python",
   "nbconvert_exporter": "python",
   "pygments_lexer": "ipython3",
   "version": "3.8.5"
  }
 },
 "nbformat": 4,
 "nbformat_minor": 5
}

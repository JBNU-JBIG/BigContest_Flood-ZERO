{
 "cells": [
  {
   "cell_type": "code",
   "execution_count": null,
   "id": "impaired-summit",
   "metadata": {},
   "outputs": [],
   "source": [
    "import pandas as pd\n",
    "import numpy as np\n",
    "\n",
    "from catboost import CatBoostRegressor\n",
    "cat = CatBoostRegressor()\n",
    "\n",
    "from sklearn.metrics import mean_squared_error\n",
    "from sklearn.model_selection import train_test_split"
   ]
  },
  {
   "cell_type": "code",
   "execution_count": null,
   "id": "independent-fever",
   "metadata": {},
   "outputs": [],
   "source": [
    "train = pd.read_csv('G:/내 드라이브/Github/BigContest_Flood-ZERO/고경수/train.csv')\n",
    "test = pd.read_csv('G:/내 드라이브/Github/BigContest_Flood-ZERO/고경수/test.csv')\n",
    "submission = pd.read_csv('G:/내 드라이브/Github/BigContest_Flood-ZERO/고경수/submission.csv')"
   ]
  },
  {
   "cell_type": "code",
   "execution_count": null,
   "id": "laden-virtue",
   "metadata": {},
   "outputs": [],
   "source": [
    "train.head()"
   ]
  },
  {
   "cell_type": "code",
   "execution_count": null,
   "id": "amber-suffering",
   "metadata": {},
   "outputs": [],
   "source": [
    "len(train)"
   ]
  },
  {
   "cell_type": "code",
   "execution_count": null,
   "id": "bacterial-familiar",
   "metadata": {},
   "outputs": [],
   "source": [
    "유역평균강수 = ['유역평균강수1','유역평균강수2','유역평균강수3','유역평균강수4','유역평균강수5','유역평균강수6']\n",
    "강우A = ['강우A1','강우A2','강우A3','강우A4','강우A5','강우A6']\n",
    "강우B = ['강우B1','강우B2','강우B3','강우B4','강우B5','강우B6']\n",
    "강우C = ['강우C1','강우C2','강우C3','강우C4','강우C5','강우C6']\n",
    "강우D = ['강우D1','강우D2','강우D3','강우D4','강우D5','강우D6']\n",
    "수위E = ['수위E1','수위E2','수위E3','수위E4','수위E5','수위E6']\n",
    "수위D = ['수위D1','수위D2','수위D3','수위D4','수위D5','수위D6']"
   ]
  },
  {
   "cell_type": "code",
   "execution_count": null,
   "id": "electoral-barcelona",
   "metadata": {},
   "outputs": [],
   "source": [
    "train['홍수사상번호'] = train['홍수사상번호'].astype(str)\n",
    "train['월'] = train['월'].astype(str)\n",
    "train['일'] = train['일'].astype(str)\n",
    "train['시간'] = train['시간'].astype(str)\n",
    "\n",
    "test['홍수사상번호'] = test['홍수사상번호'].astype(str)\n",
    "test['월'] = test['월'].astype(str)\n",
    "test['일'] = test['일'].astype(str)\n",
    "test['시간'] = test['시간'].astype(str)"
   ]
  },
  {
   "cell_type": "code",
   "execution_count": null,
   "id": "august-medicare",
   "metadata": {},
   "outputs": [],
   "source": [
    "X_train, X_test, y_train, y_test = train_test_split(train[['홍수사상번호','연','월','일','시간',*유역평균강수, *강우A, *강우B, *강우C, *강우D, *수위E, *수위D]],\n",
    "                                                           train['유입량'], test_size=0.11241784, shuffle=False)\n",
    "\n",
    "Original_train = X_train # 사상번호 1 ~ 22\n",
    "Original_test = X_test # 사상번호 23 ~ 25"
   ]
  },
  {
   "cell_type": "markdown",
   "id": "surprised-rehabilitation",
   "metadata": {},
   "source": [
    "---"
   ]
  },
  {
   "cell_type": "markdown",
   "id": "finnish-security",
   "metadata": {},
   "source": [
    "# 월, 일, 시간을 넣었을 때"
   ]
  },
  {
   "cell_type": "code",
   "execution_count": null,
   "id": "liquid-reader",
   "metadata": {
    "jupyter": {
     "source_hidden": true
    }
   },
   "outputs": [],
   "source": [
    "X = train[['월','일','시간',유역평균강수[0], 강우A[0], 강우B[0], 강우C[0], 강우D[0], 수위E[0], 수위D[0]]]\n",
    "y = train['유입량']"
   ]
  },
  {
   "cell_type": "code",
   "execution_count": null,
   "id": "authorized-resident",
   "metadata": {},
   "outputs": [],
   "source": [
    "X_train = Original_train[['월','일','시간',유역평균강수[0], 강우A[0], 강우B[0], 강우C[0], 강우D[0], 수위E[0], 수위D[0]]]\n",
    "X_test = Original_test[['월','일','시간',유역평균강수[0], 강우A[0], 강우B[0], 강우C[0], 강우D[0], 수위E[0], 수위D[0]]]\n",
    "\n",
    "categorical_features_indices1 = np.where(X_train.dtypes == np.object)[0]\n",
    "\n",
    "model = cat\n",
    "model.fit(X_train, y_train, cat_features = categorical_features_indices1)"
   ]
  },
  {
   "cell_type": "code",
   "execution_count": null,
   "id": "equipped-cricket",
   "metadata": {},
   "outputs": [],
   "source": [
    "pred = model.predict(X_test)"
   ]
  },
  {
   "cell_type": "code",
   "execution_count": null,
   "id": "relevant-prison",
   "metadata": {},
   "outputs": [],
   "source": [
    "rmse = (np.sqrt(np.mean(mean_squared_error(y_test, pred))))\n",
    "rmse\n",
    "# 1: 804"
   ]
  },
  {
   "cell_type": "markdown",
   "id": "streaming-operator",
   "metadata": {},
   "source": [
    "---\n",
    "# 월만 넣었을 때"
   ]
  },
  {
   "cell_type": "code",
   "execution_count": null,
   "id": "ruled-ending",
   "metadata": {},
   "outputs": [],
   "source": [
    "X_train = Original_train[['월',유역평균강수[0], 강우A[0], 강우B[0], 강우C[0], 강우D[0], 수위E[0], 수위D[0]]]\n",
    "X_test = Original_test[['월',유역평균강수[0], 강우A[0], 강우B[0], 강우C[0], 강우D[0], 수위E[0], 수위D[0]]]\n",
    "\n",
    "categorical_features_indices1 = np.where(X_train.dtypes == np.object)[0]\n",
    "\n",
    "model = cat\n",
    "model.fit(X_train, y_train, cat_features = categorical_features_indices1)"
   ]
  },
  {
   "cell_type": "code",
   "execution_count": null,
   "id": "floral-probe",
   "metadata": {},
   "outputs": [],
   "source": [
    "pred = model.predict(X_test)"
   ]
  },
  {
   "cell_type": "code",
   "execution_count": null,
   "id": "wrong-thermal",
   "metadata": {},
   "outputs": [],
   "source": [
    "rmse = (np.sqrt(np.mean(mean_squared_error(y_test, pred))))\n",
    "rmse\n",
    "# 1: 821"
   ]
  },
  {
   "cell_type": "markdown",
   "id": "solid-chance",
   "metadata": {},
   "source": [
    "---\n",
    "# 시간만 넣었을 때"
   ]
  },
  {
   "cell_type": "code",
   "execution_count": null,
   "id": "cultural-childhood",
   "metadata": {},
   "outputs": [],
   "source": [
    "X_train = Original_train[['시간',유역평균강수[0], 강우A[0], 강우B[0], 강우C[0], 강우D[0], 수위E[0], 수위D[0]]]\n",
    "X_test = Original_test[['시간',유역평균강수[0], 강우A[0], 강우B[0], 강우C[0], 강우D[0], 수위E[0], 수위D[0]]]\n",
    "\n",
    "categorical_features_indices1 = np.where(X_train.dtypes == np.object)[0]\n",
    "\n",
    "model = cat\n",
    "model.fit(X_train, y_train, cat_features = categorical_features_indices1)"
   ]
  },
  {
   "cell_type": "code",
   "execution_count": null,
   "id": "going-tuition",
   "metadata": {},
   "outputs": [],
   "source": [
    "pred = model.predict(X_test)"
   ]
  },
  {
   "cell_type": "code",
   "execution_count": null,
   "id": "identified-tsunami",
   "metadata": {},
   "outputs": [],
   "source": [
    "rmse = (np.sqrt(np.mean(mean_squared_error(y_test, pred))))\n",
    "rmse\n",
    "# 1: 736"
   ]
  },
  {
   "cell_type": "markdown",
   "id": "continued-pitch",
   "metadata": {},
   "source": [
    "---\n",
    "# 일만 넣었을 때"
   ]
  },
  {
   "cell_type": "code",
   "execution_count": null,
   "id": "undefined-protocol",
   "metadata": {},
   "outputs": [],
   "source": [
    "X_train = Original_train[['일',유역평균강수[0], 강우A[0], 강우B[0], 강우C[0], 강우D[0], 수위E[0], 수위D[0]]]\n",
    "X_test = Original_test[['일',유역평균강수[0], 강우A[0], 강우B[0], 강우C[0], 강우D[0], 수위E[0], 수위D[0]]]\n",
    "\n",
    "categorical_features_indices1 = np.where(X_train.dtypes == np.object)[0]\n",
    "\n",
    "model = cat\n",
    "model.fit(X_train, y_train, cat_features = categorical_features_indices1)"
   ]
  },
  {
   "cell_type": "code",
   "execution_count": null,
   "id": "similar-montana",
   "metadata": {},
   "outputs": [],
   "source": [
    "pred = model.predict(X_test)"
   ]
  },
  {
   "cell_type": "code",
   "execution_count": null,
   "id": "amazing-terrain",
   "metadata": {},
   "outputs": [],
   "source": [
    "rmse = (np.sqrt(np.mean(mean_squared_error(y_test, pred))))\n",
    "rmse\n",
    "# 1: 1109"
   ]
  },
  {
   "cell_type": "markdown",
   "id": "roman-latest",
   "metadata": {},
   "source": [
    "---\n",
    "# 아무것도 안 넣었을 때"
   ]
  },
  {
   "cell_type": "code",
   "execution_count": null,
   "id": "adaptive-tamil",
   "metadata": {},
   "outputs": [],
   "source": [
    "X_train = Original_train[[유역평균강수[0], 강우A[0], 강우B[0], 강우C[0], 강우D[0], 수위E[0], 수위D[0]]]\n",
    "X_test = Original_test[[유역평균강수[0], 강우A[0], 강우B[0], 강우C[0], 강우D[0], 수위E[0], 수위D[0]]]\n",
    "\n",
    "categorical_features_indices1 = np.where(X_train.dtypes == np.object)[0]\n",
    "\n",
    "model = cat\n",
    "model.fit(X_train, y_train, cat_features = categorical_features_indices1)"
   ]
  },
  {
   "cell_type": "code",
   "execution_count": null,
   "id": "connected-vulnerability",
   "metadata": {},
   "outputs": [],
   "source": [
    "pred = model.predict(X_test)"
   ]
  },
  {
   "cell_type": "code",
   "execution_count": null,
   "id": "brutal-peter",
   "metadata": {},
   "outputs": [],
   "source": [
    "rmse = (np.sqrt(np.mean(mean_squared_error(y_test, pred))))\n",
    "rmse\n",
    "# 1: 774"
   ]
  },
  {
   "cell_type": "markdown",
   "id": "clear-circle",
   "metadata": {},
   "source": [
    "---\n",
    "# 월, 일 넣었을 때"
   ]
  },
  {
   "cell_type": "code",
   "execution_count": null,
   "id": "false-certificate",
   "metadata": {},
   "outputs": [],
   "source": [
    "X_train = Original_train[['월','일',유역평균강수[0], 강우A[0], 강우B[0], 강우C[0], 강우D[0], 수위E[0], 수위D[0]]]\n",
    "X_test = Original_test[['월','일',유역평균강수[0], 강우A[0], 강우B[0], 강우C[0], 강우D[0], 수위E[0], 수위D[0]]]\n",
    "\n",
    "categorical_features_indices1 = np.where(X_train.dtypes == np.object)[0]\n",
    "\n",
    "model = cat\n",
    "model.fit(X_train, y_train, cat_features = categorical_features_indices1)"
   ]
  },
  {
   "cell_type": "code",
   "execution_count": null,
   "id": "front-custody",
   "metadata": {},
   "outputs": [],
   "source": [
    "pred = model.predict(X_test)"
   ]
  },
  {
   "cell_type": "code",
   "execution_count": null,
   "id": "collect-smile",
   "metadata": {},
   "outputs": [],
   "source": [
    "rmse = (np.sqrt(np.mean(mean_squared_error(y_test, pred))))\n",
    "rmse\n",
    "# 1: 1100"
   ]
  },
  {
   "cell_type": "markdown",
   "id": "heated-wayne",
   "metadata": {},
   "source": [
    "# 시간을 추가하는게 더 잘 맞추는 것 같음."
   ]
  },
  {
   "cell_type": "markdown",
   "id": "primary-brooklyn",
   "metadata": {},
   "source": []
  },
  {
   "cell_type": "code",
   "execution_count": null,
   "id": "fallen-respondent",
   "metadata": {},
   "outputs": [],
   "source": []
  },
  {
   "cell_type": "code",
   "execution_count": null,
   "id": "broke-riverside",
   "metadata": {},
   "outputs": [],
   "source": []
  }
 ],
 "metadata": {
  "kernelspec": {
   "display_name": "Python 3",
   "language": "python",
   "name": "python3"
  },
  "language_info": {
   "codemirror_mode": {
    "name": "ipython",
    "version": 3
   },
   "file_extension": ".py",
   "mimetype": "text/x-python",
   "name": "python",
   "nbconvert_exporter": "python",
   "pygments_lexer": "ipython3",
   "version": "3.8.8"
  }
 },
 "nbformat": 4,
 "nbformat_minor": 5
}

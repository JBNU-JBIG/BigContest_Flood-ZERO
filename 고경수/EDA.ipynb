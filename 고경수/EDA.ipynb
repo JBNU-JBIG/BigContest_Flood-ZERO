{
 "cells": [
  {
   "cell_type": "code",
   "execution_count": 1,
   "id": "hourly-pepper",
   "metadata": {},
   "outputs": [],
   "source": [
    "import pandas as pd\n",
    "import numpy as np\n",
    "\n",
    "from catboost import CatBoostRegressor\n",
    "cat = CatBoostRegressor()\n",
    "\n",
    "from sklearn.metrics import mean_squared_error\n",
    "from sklearn.model_selection import train_test_split"
   ]
  },
  {
   "cell_type": "code",
   "execution_count": 2,
   "id": "infinite-institution",
   "metadata": {},
   "outputs": [],
   "source": [
    "train = pd.read_csv('G:/내 드라이브/Github/BigContest_Flood-ZERO/고경수/train.csv')\n",
    "test = pd.read_csv('G:/내 드라이브/Github/BigContest_Flood-ZERO/고경수/test.csv')\n",
    "submission = pd.read_csv('G:/내 드라이브/Github/BigContest_Flood-ZERO/고경수/submission.csv')"
   ]
  },
  {
   "cell_type": "code",
   "execution_count": 3,
   "id": "nonprofit-fossil",
   "metadata": {},
   "outputs": [
    {
     "data": {
      "text/html": [
       "<div>\n",
       "<style scoped>\n",
       "    .dataframe tbody tr th:only-of-type {\n",
       "        vertical-align: middle;\n",
       "    }\n",
       "\n",
       "    .dataframe tbody tr th {\n",
       "        vertical-align: top;\n",
       "    }\n",
       "\n",
       "    .dataframe thead th {\n",
       "        text-align: right;\n",
       "    }\n",
       "</style>\n",
       "<table border=\"1\" class=\"dataframe\">\n",
       "  <thead>\n",
       "    <tr style=\"text-align: right;\">\n",
       "      <th></th>\n",
       "      <th>홍수사상번호</th>\n",
       "      <th>연</th>\n",
       "      <th>월</th>\n",
       "      <th>일</th>\n",
       "      <th>시간</th>\n",
       "      <th>유입량</th>\n",
       "      <th>유역평균강수1</th>\n",
       "      <th>강우A1</th>\n",
       "      <th>강우B1</th>\n",
       "      <th>강우C1</th>\n",
       "      <th>...</th>\n",
       "      <th>강우D5</th>\n",
       "      <th>수위E5</th>\n",
       "      <th>수위D5</th>\n",
       "      <th>유역평균강수6</th>\n",
       "      <th>강우A6</th>\n",
       "      <th>강우B6</th>\n",
       "      <th>강우C6</th>\n",
       "      <th>강우D6</th>\n",
       "      <th>수위E6</th>\n",
       "      <th>수위D6</th>\n",
       "    </tr>\n",
       "  </thead>\n",
       "  <tbody>\n",
       "    <tr>\n",
       "      <th>0</th>\n",
       "      <td>1.0</td>\n",
       "      <td>2006.0</td>\n",
       "      <td>7.0</td>\n",
       "      <td>10.0</td>\n",
       "      <td>8.0</td>\n",
       "      <td>189.100000</td>\n",
       "      <td>6.4</td>\n",
       "      <td>7</td>\n",
       "      <td>7</td>\n",
       "      <td>7</td>\n",
       "      <td>...</td>\n",
       "      <td>8</td>\n",
       "      <td>2.54</td>\n",
       "      <td>122.660</td>\n",
       "      <td>6.4</td>\n",
       "      <td>7</td>\n",
       "      <td>7</td>\n",
       "      <td>8</td>\n",
       "      <td>8</td>\n",
       "      <td>2.54</td>\n",
       "      <td>122.610</td>\n",
       "    </tr>\n",
       "    <tr>\n",
       "      <th>1</th>\n",
       "      <td>1.0</td>\n",
       "      <td>2006.0</td>\n",
       "      <td>7.0</td>\n",
       "      <td>10.0</td>\n",
       "      <td>9.0</td>\n",
       "      <td>216.951962</td>\n",
       "      <td>6.3</td>\n",
       "      <td>7</td>\n",
       "      <td>8</td>\n",
       "      <td>7</td>\n",
       "      <td>...</td>\n",
       "      <td>10</td>\n",
       "      <td>2.53</td>\n",
       "      <td>122.648</td>\n",
       "      <td>7.3</td>\n",
       "      <td>7</td>\n",
       "      <td>8</td>\n",
       "      <td>10</td>\n",
       "      <td>10</td>\n",
       "      <td>2.53</td>\n",
       "      <td>122.600</td>\n",
       "    </tr>\n",
       "    <tr>\n",
       "      <th>2</th>\n",
       "      <td>1.0</td>\n",
       "      <td>2006.0</td>\n",
       "      <td>7.0</td>\n",
       "      <td>10.0</td>\n",
       "      <td>10.0</td>\n",
       "      <td>251.424419</td>\n",
       "      <td>6.4</td>\n",
       "      <td>7</td>\n",
       "      <td>9</td>\n",
       "      <td>7</td>\n",
       "      <td>...</td>\n",
       "      <td>11</td>\n",
       "      <td>2.53</td>\n",
       "      <td>122.636</td>\n",
       "      <td>8.2</td>\n",
       "      <td>7</td>\n",
       "      <td>9</td>\n",
       "      <td>10</td>\n",
       "      <td>11</td>\n",
       "      <td>2.53</td>\n",
       "      <td>122.590</td>\n",
       "    </tr>\n",
       "    <tr>\n",
       "      <th>3</th>\n",
       "      <td>1.0</td>\n",
       "      <td>2006.0</td>\n",
       "      <td>7.0</td>\n",
       "      <td>10.0</td>\n",
       "      <td>11.0</td>\n",
       "      <td>302.812199</td>\n",
       "      <td>7.3</td>\n",
       "      <td>7</td>\n",
       "      <td>10</td>\n",
       "      <td>7</td>\n",
       "      <td>...</td>\n",
       "      <td>14</td>\n",
       "      <td>2.53</td>\n",
       "      <td>122.620</td>\n",
       "      <td>11.3</td>\n",
       "      <td>9</td>\n",
       "      <td>10</td>\n",
       "      <td>15</td>\n",
       "      <td>14</td>\n",
       "      <td>2.53</td>\n",
       "      <td>122.585</td>\n",
       "    </tr>\n",
       "    <tr>\n",
       "      <th>4</th>\n",
       "      <td>1.0</td>\n",
       "      <td>2006.0</td>\n",
       "      <td>7.0</td>\n",
       "      <td>10.0</td>\n",
       "      <td>12.0</td>\n",
       "      <td>384.783406</td>\n",
       "      <td>8.2</td>\n",
       "      <td>7</td>\n",
       "      <td>12</td>\n",
       "      <td>8</td>\n",
       "      <td>...</td>\n",
       "      <td>16</td>\n",
       "      <td>2.53</td>\n",
       "      <td>122.604</td>\n",
       "      <td>14.4</td>\n",
       "      <td>12</td>\n",
       "      <td>12</td>\n",
       "      <td>18</td>\n",
       "      <td>16</td>\n",
       "      <td>2.53</td>\n",
       "      <td>122.575</td>\n",
       "    </tr>\n",
       "  </tbody>\n",
       "</table>\n",
       "<p>5 rows × 48 columns</p>\n",
       "</div>"
      ],
      "text/plain": [
       "   홍수사상번호       연    월     일    시간         유입량  유역평균강수1  강우A1  강우B1  강우C1  \\\n",
       "0     1.0  2006.0  7.0  10.0   8.0  189.100000      6.4     7     7     7   \n",
       "1     1.0  2006.0  7.0  10.0   9.0  216.951962      6.3     7     8     7   \n",
       "2     1.0  2006.0  7.0  10.0  10.0  251.424419      6.4     7     9     7   \n",
       "3     1.0  2006.0  7.0  10.0  11.0  302.812199      7.3     7    10     7   \n",
       "4     1.0  2006.0  7.0  10.0  12.0  384.783406      8.2     7    12     8   \n",
       "\n",
       "   ...  강우D5  수위E5     수위D5  유역평균강수6  강우A6  강우B6  강우C6  강우D6  수위E6     수위D6  \n",
       "0  ...     8  2.54  122.660      6.4     7     7     8     8  2.54  122.610  \n",
       "1  ...    10  2.53  122.648      7.3     7     8    10    10  2.53  122.600  \n",
       "2  ...    11  2.53  122.636      8.2     7     9    10    11  2.53  122.590  \n",
       "3  ...    14  2.53  122.620     11.3     9    10    15    14  2.53  122.585  \n",
       "4  ...    16  2.53  122.604     14.4    12    12    18    16  2.53  122.575  \n",
       "\n",
       "[5 rows x 48 columns]"
      ]
     },
     "execution_count": 3,
     "metadata": {},
     "output_type": "execute_result"
    }
   ],
   "source": [
    "train.head()"
   ]
  },
  {
   "cell_type": "code",
   "execution_count": 4,
   "id": "turned-system",
   "metadata": {},
   "outputs": [],
   "source": [
    "# train.corr()['유입량']"
   ]
  },
  {
   "cell_type": "code",
   "execution_count": 5,
   "id": "lonely-ballot",
   "metadata": {},
   "outputs": [],
   "source": [
    "유역평균강수 = ['유역평균강수1','유역평균강수2','유역평균강수3','유역평균강수4','유역평균강수5','유역평균강수6']\n",
    "강우A = ['강우A1','강우A2','강우A3','강우A4','강우A5','강우A6']\n",
    "강우B = ['강우B1','강우B2','강우B3','강우B4','강우B5','강우B6']\n",
    "강우C = ['강우C1','강우C2','강우C3','강우C4','강우C5','강우C6']\n",
    "강우D = ['강우D1','강우D2','강우D3','강우D4','강우D5','강우D6']\n",
    "수위E = ['수위E1','수위E2','수위E3','수위E4','수위E5','수위E6']\n",
    "수위D = ['수위D1','수위D2','수위D3','수위D4','수위D5','수위D6']"
   ]
  },
  {
   "cell_type": "code",
   "execution_count": 46,
   "id": "federal-tulsa",
   "metadata": {},
   "outputs": [],
   "source": [
    "# print(train[유역평균강수].mean())"
   ]
  },
  {
   "cell_type": "code",
   "execution_count": 47,
   "id": "intellectual-southwest",
   "metadata": {},
   "outputs": [],
   "source": [
    "# print(train[강우A].mean())"
   ]
  },
  {
   "cell_type": "code",
   "execution_count": 48,
   "id": "orange-designer",
   "metadata": {},
   "outputs": [],
   "source": [
    "# print(train[강우B].mean())"
   ]
  },
  {
   "cell_type": "code",
   "execution_count": 49,
   "id": "selective-access",
   "metadata": {},
   "outputs": [],
   "source": [
    "# print(train[강우C].mean())"
   ]
  },
  {
   "cell_type": "code",
   "execution_count": 50,
   "id": "ranking-penalty",
   "metadata": {},
   "outputs": [],
   "source": [
    "# print(train[강우D].mean())"
   ]
  },
  {
   "cell_type": "code",
   "execution_count": 51,
   "id": "black-header",
   "metadata": {},
   "outputs": [],
   "source": [
    "# print(train[수위E].mean())"
   ]
  },
  {
   "cell_type": "code",
   "execution_count": 52,
   "id": "phantom-yesterday",
   "metadata": {},
   "outputs": [],
   "source": [
    "# print(train[수위D].mean())"
   ]
  },
  {
   "cell_type": "code",
   "execution_count": 55,
   "id": "tamil-darkness",
   "metadata": {},
   "outputs": [],
   "source": [
    "# drops = [*유역평균강수,*강우A,*강우B,*강우C,*강우D,*수위E,*수위D]\n",
    "\n",
    "# train = train.drop(drops, axis=1)"
   ]
  },
  {
   "cell_type": "code",
   "execution_count": 56,
   "id": "earlier-colony",
   "metadata": {},
   "outputs": [],
   "source": [
    "# train.head()"
   ]
  },
  {
   "cell_type": "code",
   "execution_count": 57,
   "id": "relative-preparation",
   "metadata": {},
   "outputs": [],
   "source": [
    "# train.columns"
   ]
  },
  {
   "cell_type": "code",
   "execution_count": 59,
   "id": "agricultural-lambda",
   "metadata": {},
   "outputs": [],
   "source": [
    "# x_train = train[['유역평균강수', '강우A', '강우B', '강우C','강우D', '수위E', '수위D']]\n",
    "# y_train = train['유입량']\n",
    "\n",
    "# x_test = test[['유역평균강수', '강우A', '강우B', '강우C','강우D', '수위E', '수위D']]\n",
    "\n",
    "# X = train[['시간','월','유역평균강수', '강우A', '강우B', '강우C','강우D', '수위E', '수위D']]\n",
    "\n",
    "X = train[['월',*유역평균강수, *강우A, *강우B, *강우C,*강우D, *수위E, *수위D]]\n",
    "\n",
    "y = train['유입량']"
   ]
  }
 ],
 "metadata": {
  "kernelspec": {
   "display_name": "Python 3",
   "language": "python",
   "name": "python3"
  },
  "language_info": {
   "codemirror_mode": {
    "name": "ipython",
    "version": 3
   },
   "file_extension": ".py",
   "mimetype": "text/x-python",
   "name": "python",
   "nbconvert_exporter": "python",
   "pygments_lexer": "ipython3",
   "version": "3.8.8"
  }
 },
 "nbformat": 4,
 "nbformat_minor": 5
}

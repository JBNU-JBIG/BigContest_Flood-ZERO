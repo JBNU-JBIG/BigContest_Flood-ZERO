{
 "cells": [
  {
   "cell_type": "code",
   "execution_count": 2,
   "id": "fewer-energy",
   "metadata": {},
   "outputs": [],
   "source": [
    "import pandas as pd\n",
    "\n",
    "from catboost import CatBoostRegressor\n",
    "cat = CatBoostRegressor()"
   ]
  },
  {
   "cell_type": "code",
   "execution_count": 6,
   "id": "every-therapist",
   "metadata": {},
   "outputs": [],
   "source": [
    "train = pd.read_csv('G:/내 드라이브/Github/BigContest_Flood-ZERO/고경수/train.csv')\n",
    "test = pd.read_csv('G:/내 드라이브/Github/BigContest_Flood-ZERO/고경수/test.csv')\n",
    "submission = pd.read_csv('G:/내 드라이브/Github/BigContest_Flood-ZERO/고경수/submission.csv')"
   ]
  },
  {
   "cell_type": "code",
   "execution_count": 7,
   "id": "owned-institute",
   "metadata": {},
   "outputs": [
    {
     "data": {
      "text/html": [
       "<div>\n",
       "<style scoped>\n",
       "    .dataframe tbody tr th:only-of-type {\n",
       "        vertical-align: middle;\n",
       "    }\n",
       "\n",
       "    .dataframe tbody tr th {\n",
       "        vertical-align: top;\n",
       "    }\n",
       "\n",
       "    .dataframe thead th {\n",
       "        text-align: right;\n",
       "    }\n",
       "</style>\n",
       "<table border=\"1\" class=\"dataframe\">\n",
       "  <thead>\n",
       "    <tr style=\"text-align: right;\">\n",
       "      <th></th>\n",
       "      <th>홍수사상번호</th>\n",
       "      <th>연</th>\n",
       "      <th>월</th>\n",
       "      <th>일</th>\n",
       "      <th>시간</th>\n",
       "      <th>유입량</th>\n",
       "      <th>유역평균강수1</th>\n",
       "      <th>강우A1</th>\n",
       "      <th>강우B1</th>\n",
       "      <th>강우C1</th>\n",
       "      <th>...</th>\n",
       "      <th>강우D5</th>\n",
       "      <th>수위E5</th>\n",
       "      <th>수위D5</th>\n",
       "      <th>유역평균강수6</th>\n",
       "      <th>강우A6</th>\n",
       "      <th>강우B6</th>\n",
       "      <th>강우C6</th>\n",
       "      <th>강우D6</th>\n",
       "      <th>수위E6</th>\n",
       "      <th>수위D6</th>\n",
       "    </tr>\n",
       "  </thead>\n",
       "  <tbody>\n",
       "    <tr>\n",
       "      <th>0</th>\n",
       "      <td>1.0</td>\n",
       "      <td>2006.0</td>\n",
       "      <td>7.0</td>\n",
       "      <td>10.0</td>\n",
       "      <td>8.0</td>\n",
       "      <td>189.100000</td>\n",
       "      <td>6.4</td>\n",
       "      <td>7</td>\n",
       "      <td>7</td>\n",
       "      <td>7</td>\n",
       "      <td>...</td>\n",
       "      <td>8</td>\n",
       "      <td>2.54</td>\n",
       "      <td>122.660</td>\n",
       "      <td>6.4</td>\n",
       "      <td>7</td>\n",
       "      <td>7</td>\n",
       "      <td>8</td>\n",
       "      <td>8</td>\n",
       "      <td>2.54</td>\n",
       "      <td>122.610</td>\n",
       "    </tr>\n",
       "    <tr>\n",
       "      <th>1</th>\n",
       "      <td>1.0</td>\n",
       "      <td>2006.0</td>\n",
       "      <td>7.0</td>\n",
       "      <td>10.0</td>\n",
       "      <td>9.0</td>\n",
       "      <td>216.951962</td>\n",
       "      <td>6.3</td>\n",
       "      <td>7</td>\n",
       "      <td>8</td>\n",
       "      <td>7</td>\n",
       "      <td>...</td>\n",
       "      <td>10</td>\n",
       "      <td>2.53</td>\n",
       "      <td>122.648</td>\n",
       "      <td>7.3</td>\n",
       "      <td>7</td>\n",
       "      <td>8</td>\n",
       "      <td>10</td>\n",
       "      <td>10</td>\n",
       "      <td>2.53</td>\n",
       "      <td>122.600</td>\n",
       "    </tr>\n",
       "    <tr>\n",
       "      <th>2</th>\n",
       "      <td>1.0</td>\n",
       "      <td>2006.0</td>\n",
       "      <td>7.0</td>\n",
       "      <td>10.0</td>\n",
       "      <td>10.0</td>\n",
       "      <td>251.424419</td>\n",
       "      <td>6.4</td>\n",
       "      <td>7</td>\n",
       "      <td>9</td>\n",
       "      <td>7</td>\n",
       "      <td>...</td>\n",
       "      <td>11</td>\n",
       "      <td>2.53</td>\n",
       "      <td>122.636</td>\n",
       "      <td>8.2</td>\n",
       "      <td>7</td>\n",
       "      <td>9</td>\n",
       "      <td>10</td>\n",
       "      <td>11</td>\n",
       "      <td>2.53</td>\n",
       "      <td>122.590</td>\n",
       "    </tr>\n",
       "    <tr>\n",
       "      <th>3</th>\n",
       "      <td>1.0</td>\n",
       "      <td>2006.0</td>\n",
       "      <td>7.0</td>\n",
       "      <td>10.0</td>\n",
       "      <td>11.0</td>\n",
       "      <td>302.812199</td>\n",
       "      <td>7.3</td>\n",
       "      <td>7</td>\n",
       "      <td>10</td>\n",
       "      <td>7</td>\n",
       "      <td>...</td>\n",
       "      <td>14</td>\n",
       "      <td>2.53</td>\n",
       "      <td>122.620</td>\n",
       "      <td>11.3</td>\n",
       "      <td>9</td>\n",
       "      <td>10</td>\n",
       "      <td>15</td>\n",
       "      <td>14</td>\n",
       "      <td>2.53</td>\n",
       "      <td>122.585</td>\n",
       "    </tr>\n",
       "    <tr>\n",
       "      <th>4</th>\n",
       "      <td>1.0</td>\n",
       "      <td>2006.0</td>\n",
       "      <td>7.0</td>\n",
       "      <td>10.0</td>\n",
       "      <td>12.0</td>\n",
       "      <td>384.783406</td>\n",
       "      <td>8.2</td>\n",
       "      <td>7</td>\n",
       "      <td>12</td>\n",
       "      <td>8</td>\n",
       "      <td>...</td>\n",
       "      <td>16</td>\n",
       "      <td>2.53</td>\n",
       "      <td>122.604</td>\n",
       "      <td>14.4</td>\n",
       "      <td>12</td>\n",
       "      <td>12</td>\n",
       "      <td>18</td>\n",
       "      <td>16</td>\n",
       "      <td>2.53</td>\n",
       "      <td>122.575</td>\n",
       "    </tr>\n",
       "  </tbody>\n",
       "</table>\n",
       "<p>5 rows × 48 columns</p>\n",
       "</div>"
      ],
      "text/plain": [
       "   홍수사상번호       연    월     일    시간         유입량  유역평균강수1  강우A1  강우B1  강우C1  \\\n",
       "0     1.0  2006.0  7.0  10.0   8.0  189.100000      6.4     7     7     7   \n",
       "1     1.0  2006.0  7.0  10.0   9.0  216.951962      6.3     7     8     7   \n",
       "2     1.0  2006.0  7.0  10.0  10.0  251.424419      6.4     7     9     7   \n",
       "3     1.0  2006.0  7.0  10.0  11.0  302.812199      7.3     7    10     7   \n",
       "4     1.0  2006.0  7.0  10.0  12.0  384.783406      8.2     7    12     8   \n",
       "\n",
       "   ...  강우D5  수위E5     수위D5  유역평균강수6  강우A6  강우B6  강우C6  강우D6  수위E6     수위D6  \n",
       "0  ...     8  2.54  122.660      6.4     7     7     8     8  2.54  122.610  \n",
       "1  ...    10  2.53  122.648      7.3     7     8    10    10  2.53  122.600  \n",
       "2  ...    11  2.53  122.636      8.2     7     9    10    11  2.53  122.590  \n",
       "3  ...    14  2.53  122.620     11.3     9    10    15    14  2.53  122.585  \n",
       "4  ...    16  2.53  122.604     14.4    12    12    18    16  2.53  122.575  \n",
       "\n",
       "[5 rows x 48 columns]"
      ]
     },
     "execution_count": 7,
     "metadata": {},
     "output_type": "execute_result"
    }
   ],
   "source": [
    "train.head()"
   ]
  },
  {
   "cell_type": "code",
   "execution_count": 15,
   "id": "subjective-sigma",
   "metadata": {},
   "outputs": [
    {
     "data": {
      "text/plain": [
       "홍수사상번호    -0.376751\n",
       "연         -0.349836\n",
       "월         -0.116182\n",
       "일          0.052061\n",
       "시간         0.016276\n",
       "유입량        1.000000\n",
       "유역평균강수1    0.742268\n",
       "강우A1       0.617424\n",
       "강우B1       0.739951\n",
       "강우C1       0.605588\n",
       "강우D1       0.700568\n",
       "수위E1       0.903840\n",
       "수위D1       0.109475\n",
       "유역평균강수2    0.752184\n",
       "강우A2       0.615217\n",
       "강우B2       0.743754\n",
       "강우C2       0.626355\n",
       "강우D2       0.700568\n",
       "수위E2       0.903840\n",
       "수위D2       0.124289\n",
       "유역평균강수3    0.752184\n",
       "강우A3       0.615217\n",
       "강우B3       0.771063\n",
       "강우C3       0.641773\n",
       "강우D3       0.710927\n",
       "수위E3       0.903840\n",
       "수위D3       0.133473\n",
       "유역평균강수4    0.760476\n",
       "강우A4       0.612004\n",
       "강우B4       0.771063\n",
       "강우C4       0.619889\n",
       "강우D4       0.722170\n",
       "수위E4       0.903840\n",
       "수위D4       0.084623\n",
       "유역평균강수5    0.767842\n",
       "강우A5       0.612004\n",
       "강우B5       0.771063\n",
       "강우C5       0.619889\n",
       "강우D5       0.722170\n",
       "수위E5       0.903840\n",
       "수위D5       0.091073\n",
       "유역평균강수6    0.790920\n",
       "강우A6       0.612004\n",
       "강우B6       0.767258\n",
       "강우C6       0.669108\n",
       "강우D6       0.727581\n",
       "수위E6       0.903840\n",
       "수위D6       0.097066\n",
       "Name: 유입량, dtype: float64"
      ]
     },
     "execution_count": 15,
     "metadata": {},
     "output_type": "execute_result"
    }
   ],
   "source": [
    "train.corr()['유입량']"
   ]
  },
  {
   "cell_type": "code",
   "execution_count": 23,
   "id": "found-promise",
   "metadata": {},
   "outputs": [],
   "source": [
    "강우A = ['강우A1','강우A2','강우A3','강우A4','강우A5','강우A6']\n",
    "강우B = ['강우B1','강우B2','강우B3','강우B4','강우B5','강우B6']\n",
    "강우C = ['강우C1','강우C2','강우C3','강우C4','강우C5','강우C6']\n",
    "강우D = ['강우D1','강우D2','강우D3','강우D4','강우D5','강우D6']\n",
    "수위E = ['수위E1','수위E2','수위E3','수위E4','수위E5','수위E6']\n",
    "수위D = ['수위D1','수위D2','수위D3','수위D4','수위D5','수위D6']\n",
    "\n"
   ]
  },
  {
   "cell_type": "code",
   "execution_count": 45,
   "id": "knowing-motorcycle",
   "metadata": {},
   "outputs": [
    {
     "name": "stdout",
     "output_type": "stream",
     "text": [
      "강우A1    79.865790\n",
      "강우A2    83.111726\n",
      "강우A3    83.111726\n",
      "강우A4    84.734694\n",
      "강우A5    84.734694\n",
      "강우A6    84.734694\n",
      "dtype: float64\n"
     ]
    }
   ],
   "source": [
    "print(train[강우A].mean())"
   ]
  },
  {
   "cell_type": "code",
   "execution_count": 46,
   "id": "nearby-animal",
   "metadata": {},
   "outputs": [
    {
     "name": "stdout",
     "output_type": "stream",
     "text": [
      "강우B1    64.320996\n",
      "강우B2    63.459011\n",
      "강우B3    57.274991\n",
      "강우B4    57.274991\n",
      "강우B5    57.274991\n",
      "강우B6    58.176064\n",
      "dtype: float64\n"
     ]
    }
   ],
   "source": [
    "print(train[강우B].mean())"
   ]
  },
  {
   "cell_type": "code",
   "execution_count": 47,
   "id": "genuine-background",
   "metadata": {},
   "outputs": [
    {
     "name": "stdout",
     "output_type": "stream",
     "text": [
      "강우C1    40.029747\n",
      "강우C2    39.464199\n",
      "강우C3    39.700796\n",
      "강우C4    51.492909\n",
      "강우C5    51.492909\n",
      "강우C6    39.168108\n",
      "dtype: float64\n"
     ]
    }
   ],
   "source": [
    "print(train[강우C].mean())"
   ]
  },
  {
   "cell_type": "code",
   "execution_count": 48,
   "id": "demographic-stopping",
   "metadata": {},
   "outputs": [
    {
     "name": "stdout",
     "output_type": "stream",
     "text": [
      "강우D1    53.355240\n",
      "강우D2    53.355240\n",
      "강우D3    53.777240\n",
      "강우D4    55.565202\n",
      "강우D5    55.565202\n",
      "강우D6    53.470771\n",
      "dtype: float64\n"
     ]
    }
   ],
   "source": [
    "print(train[강우D].mean())"
   ]
  },
  {
   "cell_type": "code",
   "execution_count": 49,
   "id": "excessive-stockholm",
   "metadata": {},
   "outputs": [
    {
     "name": "stdout",
     "output_type": "stream",
     "text": [
      "수위E1    4.583075\n",
      "수위E2    4.583075\n",
      "수위E3    4.583075\n",
      "수위E4    4.583075\n",
      "수위E5    4.583075\n",
      "수위E6    4.583075\n",
      "dtype: float64\n"
     ]
    }
   ],
   "source": [
    "print(train[수위E].mean())"
   ]
  },
  {
   "cell_type": "code",
   "execution_count": 50,
   "id": "strategic-elements",
   "metadata": {},
   "outputs": [
    {
     "name": "stdout",
     "output_type": "stream",
     "text": [
      "수위D1    131.868337\n",
      "수위D2    131.937138\n",
      "수위D3    131.973432\n",
      "수위D4    131.713814\n",
      "수위D5    131.758356\n",
      "수위D6    131.802854\n",
      "dtype: float64\n"
     ]
    }
   ],
   "source": [
    "print(train[수위D].mean())"
   ]
  },
  {
   "cell_type": "code",
   "execution_count": null,
   "id": "signal-abortion",
   "metadata": {},
   "outputs": [],
   "source": []
  }
 ],
 "metadata": {
  "kernelspec": {
   "display_name": "Python 3",
   "language": "python",
   "name": "python3"
  },
  "language_info": {
   "codemirror_mode": {
    "name": "ipython",
    "version": 3
   },
   "file_extension": ".py",
   "mimetype": "text/x-python",
   "name": "python",
   "nbconvert_exporter": "python",
   "pygments_lexer": "ipython3",
   "version": "3.8.8"
  }
 },
 "nbformat": 4,
 "nbformat_minor": 5
}

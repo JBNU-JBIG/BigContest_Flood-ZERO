{
 "cells": [
  {
   "cell_type": "code",
   "execution_count": 23,
   "id": "successful-rehabilitation",
   "metadata": {},
   "outputs": [],
   "source": [
    "import pandas as pd\n",
    "import numpy as np\n",
    "\n",
    "from catboost import CatBoostRegressor\n",
    "cat = CatBoostRegressor()"
   ]
  },
  {
   "cell_type": "code",
   "execution_count": 24,
   "id": "meaningful-cliff",
   "metadata": {},
   "outputs": [],
   "source": [
    "train = pd.read_csv('G:/내 드라이브/Github/BigContest_Flood-ZERO/고경수/train.csv')\n",
    "test = pd.read_csv('G:/내 드라이브/Github/BigContest_Flood-ZERO/고경수/test.csv')\n",
    "submission = pd.read_csv('G:/내 드라이브/Github/BigContest_Flood-ZERO/고경수/submission.csv')"
   ]
  },
  {
   "cell_type": "code",
   "execution_count": 25,
   "id": "thousand-satin",
   "metadata": {},
   "outputs": [
    {
     "data": {
      "text/html": [
       "<div>\n",
       "<style scoped>\n",
       "    .dataframe tbody tr th:only-of-type {\n",
       "        vertical-align: middle;\n",
       "    }\n",
       "\n",
       "    .dataframe tbody tr th {\n",
       "        vertical-align: top;\n",
       "    }\n",
       "\n",
       "    .dataframe thead th {\n",
       "        text-align: right;\n",
       "    }\n",
       "</style>\n",
       "<table border=\"1\" class=\"dataframe\">\n",
       "  <thead>\n",
       "    <tr style=\"text-align: right;\">\n",
       "      <th></th>\n",
       "      <th>홍수사상번호</th>\n",
       "      <th>연</th>\n",
       "      <th>월</th>\n",
       "      <th>일</th>\n",
       "      <th>시간</th>\n",
       "      <th>유입량</th>\n",
       "      <th>유역평균강수1</th>\n",
       "      <th>강우A1</th>\n",
       "      <th>강우B1</th>\n",
       "      <th>강우C1</th>\n",
       "      <th>...</th>\n",
       "      <th>강우D5</th>\n",
       "      <th>수위E5</th>\n",
       "      <th>수위D5</th>\n",
       "      <th>유역평균강수6</th>\n",
       "      <th>강우A6</th>\n",
       "      <th>강우B6</th>\n",
       "      <th>강우C6</th>\n",
       "      <th>강우D6</th>\n",
       "      <th>수위E6</th>\n",
       "      <th>수위D6</th>\n",
       "    </tr>\n",
       "  </thead>\n",
       "  <tbody>\n",
       "    <tr>\n",
       "      <th>0</th>\n",
       "      <td>1.0</td>\n",
       "      <td>2006.0</td>\n",
       "      <td>7.0</td>\n",
       "      <td>10.0</td>\n",
       "      <td>8.0</td>\n",
       "      <td>189.100000</td>\n",
       "      <td>6.4</td>\n",
       "      <td>7</td>\n",
       "      <td>7</td>\n",
       "      <td>7</td>\n",
       "      <td>...</td>\n",
       "      <td>8</td>\n",
       "      <td>2.54</td>\n",
       "      <td>122.660</td>\n",
       "      <td>6.4</td>\n",
       "      <td>7</td>\n",
       "      <td>7</td>\n",
       "      <td>8</td>\n",
       "      <td>8</td>\n",
       "      <td>2.54</td>\n",
       "      <td>122.610</td>\n",
       "    </tr>\n",
       "    <tr>\n",
       "      <th>1</th>\n",
       "      <td>1.0</td>\n",
       "      <td>2006.0</td>\n",
       "      <td>7.0</td>\n",
       "      <td>10.0</td>\n",
       "      <td>9.0</td>\n",
       "      <td>216.951962</td>\n",
       "      <td>6.3</td>\n",
       "      <td>7</td>\n",
       "      <td>8</td>\n",
       "      <td>7</td>\n",
       "      <td>...</td>\n",
       "      <td>10</td>\n",
       "      <td>2.53</td>\n",
       "      <td>122.648</td>\n",
       "      <td>7.3</td>\n",
       "      <td>7</td>\n",
       "      <td>8</td>\n",
       "      <td>10</td>\n",
       "      <td>10</td>\n",
       "      <td>2.53</td>\n",
       "      <td>122.600</td>\n",
       "    </tr>\n",
       "    <tr>\n",
       "      <th>2</th>\n",
       "      <td>1.0</td>\n",
       "      <td>2006.0</td>\n",
       "      <td>7.0</td>\n",
       "      <td>10.0</td>\n",
       "      <td>10.0</td>\n",
       "      <td>251.424419</td>\n",
       "      <td>6.4</td>\n",
       "      <td>7</td>\n",
       "      <td>9</td>\n",
       "      <td>7</td>\n",
       "      <td>...</td>\n",
       "      <td>11</td>\n",
       "      <td>2.53</td>\n",
       "      <td>122.636</td>\n",
       "      <td>8.2</td>\n",
       "      <td>7</td>\n",
       "      <td>9</td>\n",
       "      <td>10</td>\n",
       "      <td>11</td>\n",
       "      <td>2.53</td>\n",
       "      <td>122.590</td>\n",
       "    </tr>\n",
       "    <tr>\n",
       "      <th>3</th>\n",
       "      <td>1.0</td>\n",
       "      <td>2006.0</td>\n",
       "      <td>7.0</td>\n",
       "      <td>10.0</td>\n",
       "      <td>11.0</td>\n",
       "      <td>302.812199</td>\n",
       "      <td>7.3</td>\n",
       "      <td>7</td>\n",
       "      <td>10</td>\n",
       "      <td>7</td>\n",
       "      <td>...</td>\n",
       "      <td>14</td>\n",
       "      <td>2.53</td>\n",
       "      <td>122.620</td>\n",
       "      <td>11.3</td>\n",
       "      <td>9</td>\n",
       "      <td>10</td>\n",
       "      <td>15</td>\n",
       "      <td>14</td>\n",
       "      <td>2.53</td>\n",
       "      <td>122.585</td>\n",
       "    </tr>\n",
       "    <tr>\n",
       "      <th>4</th>\n",
       "      <td>1.0</td>\n",
       "      <td>2006.0</td>\n",
       "      <td>7.0</td>\n",
       "      <td>10.0</td>\n",
       "      <td>12.0</td>\n",
       "      <td>384.783406</td>\n",
       "      <td>8.2</td>\n",
       "      <td>7</td>\n",
       "      <td>12</td>\n",
       "      <td>8</td>\n",
       "      <td>...</td>\n",
       "      <td>16</td>\n",
       "      <td>2.53</td>\n",
       "      <td>122.604</td>\n",
       "      <td>14.4</td>\n",
       "      <td>12</td>\n",
       "      <td>12</td>\n",
       "      <td>18</td>\n",
       "      <td>16</td>\n",
       "      <td>2.53</td>\n",
       "      <td>122.575</td>\n",
       "    </tr>\n",
       "  </tbody>\n",
       "</table>\n",
       "<p>5 rows × 48 columns</p>\n",
       "</div>"
      ],
      "text/plain": [
       "   홍수사상번호       연    월     일    시간         유입량  유역평균강수1  강우A1  강우B1  강우C1  \\\n",
       "0     1.0  2006.0  7.0  10.0   8.0  189.100000      6.4     7     7     7   \n",
       "1     1.0  2006.0  7.0  10.0   9.0  216.951962      6.3     7     8     7   \n",
       "2     1.0  2006.0  7.0  10.0  10.0  251.424419      6.4     7     9     7   \n",
       "3     1.0  2006.0  7.0  10.0  11.0  302.812199      7.3     7    10     7   \n",
       "4     1.0  2006.0  7.0  10.0  12.0  384.783406      8.2     7    12     8   \n",
       "\n",
       "   ...  강우D5  수위E5     수위D5  유역평균강수6  강우A6  강우B6  강우C6  강우D6  수위E6     수위D6  \n",
       "0  ...     8  2.54  122.660      6.4     7     7     8     8  2.54  122.610  \n",
       "1  ...    10  2.53  122.648      7.3     7     8    10    10  2.53  122.600  \n",
       "2  ...    11  2.53  122.636      8.2     7     9    10    11  2.53  122.590  \n",
       "3  ...    14  2.53  122.620     11.3     9    10    15    14  2.53  122.585  \n",
       "4  ...    16  2.53  122.604     14.4    12    12    18    16  2.53  122.575  \n",
       "\n",
       "[5 rows x 48 columns]"
      ]
     },
     "execution_count": 25,
     "metadata": {},
     "output_type": "execute_result"
    }
   ],
   "source": [
    "train.head()"
   ]
  },
  {
   "cell_type": "code",
   "execution_count": 26,
   "id": "featured-lincoln",
   "metadata": {},
   "outputs": [],
   "source": [
    "# train.corr()['유입량']"
   ]
  },
  {
   "cell_type": "code",
   "execution_count": 27,
   "id": "swedish-columbus",
   "metadata": {},
   "outputs": [],
   "source": [
    "유역평균강수 = ['유역평균강수1','유역평균강수2','유역평균강수3','유역평균강수4','유역평균강수5','유역평균강수6']\n",
    "강우A = ['강우A1','강우A2','강우A3','강우A4','강우A5','강우A6']\n",
    "강우B = ['강우B1','강우B2','강우B3','강우B4','강우B5','강우B6']\n",
    "강우C = ['강우C1','강우C2','강우C3','강우C4','강우C5','강우C6']\n",
    "강우D = ['강우D1','강우D2','강우D3','강우D4','강우D5','강우D6']\n",
    "수위E = ['수위E1','수위E2','수위E3','수위E4','수위E5','수위E6']\n",
    "수위D = ['수위D1','수위D2','수위D3','수위D4','수위D5','수위D6']"
   ]
  },
  {
   "cell_type": "code",
   "execution_count": 28,
   "id": "stuck-latino",
   "metadata": {},
   "outputs": [],
   "source": [
    "# print(train[유역평균강수].mean())"
   ]
  },
  {
   "cell_type": "code",
   "execution_count": 29,
   "id": "invisible-arrow",
   "metadata": {},
   "outputs": [],
   "source": [
    "# print(train[강우A].mean())"
   ]
  },
  {
   "cell_type": "code",
   "execution_count": 30,
   "id": "other-bottle",
   "metadata": {},
   "outputs": [],
   "source": [
    "# print(train[강우B].mean())"
   ]
  },
  {
   "cell_type": "code",
   "execution_count": 31,
   "id": "employed-roller",
   "metadata": {},
   "outputs": [],
   "source": [
    "# print(train[강우C].mean())"
   ]
  },
  {
   "cell_type": "code",
   "execution_count": 32,
   "id": "adolescent-frequency",
   "metadata": {},
   "outputs": [],
   "source": [
    "# print(train[강우D].mean())"
   ]
  },
  {
   "cell_type": "code",
   "execution_count": 33,
   "id": "adjusted-newport",
   "metadata": {},
   "outputs": [],
   "source": [
    "# print(train[수위E].mean())"
   ]
  },
  {
   "cell_type": "code",
   "execution_count": 34,
   "id": "surrounded-dividend",
   "metadata": {},
   "outputs": [],
   "source": [
    "# print(train[수위D].mean())"
   ]
  },
  {
   "cell_type": "code",
   "execution_count": 35,
   "id": "changed-review",
   "metadata": {},
   "outputs": [],
   "source": [
    "train['유역평균강수'] = test[유역평균강수].apply(np.mean , axis=1)\n",
    "train['강우A'] = train[강우A].apply(np.mean ,axis=1)\n",
    "train['강우B'] = train[강우B].apply(np.mean ,axis=1)\n",
    "train['강우C'] = train[강우C].apply(np.mean ,axis=1)\n",
    "train['강우D'] = train[강우D].apply(np.mean ,axis=1)\n",
    "train['수위E'] = train[수위E].apply(np.mean ,axis=1)\n",
    "train['수위D'] = train[수위D].apply(np.mean ,axis=1)"
   ]
  },
  {
   "cell_type": "code",
   "execution_count": 36,
   "id": "moral-example",
   "metadata": {},
   "outputs": [],
   "source": [
    "test['유역평균강수'] = test[유역평균강수].apply(np.mean , axis=1)\n",
    "test['강우A'] = test[강우A].apply(np.mean ,axis=1)\n",
    "test['강우B'] = test[강우B].apply(np.mean ,axis=1)\n",
    "test['강우C'] = test[강우C].apply(np.mean ,axis=1)\n",
    "test['강우D'] = test[강우D].apply(np.mean ,axis=1)\n",
    "test['수위E'] = test[수위E].apply(np.mean ,axis=1)\n",
    "test['수위D'] = test[수위D].apply(np.mean ,axis=1)"
   ]
  },
  {
   "cell_type": "code",
   "execution_count": 37,
   "id": "sharp-soldier",
   "metadata": {},
   "outputs": [],
   "source": [
    "# drops = [*유역평균강수,*강우A,*강우B,*강우C,*강우D,*수위E,*수위D]\n",
    "\n",
    "# train = train.drop(drops, axis=1)"
   ]
  },
  {
   "cell_type": "code",
   "execution_count": 38,
   "id": "dominant-astrology",
   "metadata": {},
   "outputs": [],
   "source": [
    "# train.head()"
   ]
  },
  {
   "cell_type": "code",
   "execution_count": 39,
   "id": "superior-framework",
   "metadata": {},
   "outputs": [],
   "source": [
    "# train.columns"
   ]
  },
  {
   "cell_type": "code",
   "execution_count": 40,
   "id": "pleased-compromise",
   "metadata": {},
   "outputs": [],
   "source": [
    "from sklearn.model_selection import train_test_split"
   ]
  },
  {
   "cell_type": "code",
   "execution_count": 41,
   "id": "certified-argument",
   "metadata": {},
   "outputs": [],
   "source": [
    "# x_train = train[['유역평균강수', '강우A', '강우B', '강우C','강우D', '수위E', '수위D']]\n",
    "# y_train = train['유입량']\n",
    "\n",
    "# x_test = test[['유역평균강수', '강우A', '강우B', '강우C','강우D', '수위E', '수위D']]\n",
    "\n",
    "# X = train[['시간','월','유역평균강수', '강우A', '강우B', '강우C','강우D', '수위E', '수위D']]\n",
    "\n",
    "X = train[['월',*유역평균강수, *강우A, *강우B, *강우C,*강우D, *수위E, *수위D]]\n",
    "\n",
    "y = train['유입량']"
   ]
  },
  {
   "cell_type": "code",
   "execution_count": 42,
   "id": "moved-settlement",
   "metadata": {},
   "outputs": [
    {
     "name": "stderr",
     "output_type": "stream",
     "text": [
      "<ipython-input-42-a4ca2d4b8bae>:1: SettingWithCopyWarning: \n",
      "A value is trying to be set on a copy of a slice from a DataFrame.\n",
      "Try using .loc[row_indexer,col_indexer] = value instead\n",
      "\n",
      "See the caveats in the documentation: https://pandas.pydata.org/pandas-docs/stable/user_guide/indexing.html#returning-a-view-versus-a-copy\n",
      "  X['월'] = X['월'].astype(str)\n"
     ]
    }
   ],
   "source": [
    "X['월'] = X['월'].astype(str)\n",
    "# X['일'] = X['일'].astype(str)\n",
    "#X['시간'].astype(object)"
   ]
  },
  {
   "cell_type": "code",
   "execution_count": 43,
   "id": "unlikely-postcard",
   "metadata": {},
   "outputs": [
    {
     "data": {
      "text/plain": [
       "0       7.0\n",
       "1       7.0\n",
       "2       7.0\n",
       "3       7.0\n",
       "4       7.0\n",
       "       ... \n",
       "2886    7.0\n",
       "2887    7.0\n",
       "2888    7.0\n",
       "2889    7.0\n",
       "2890    7.0\n",
       "Name: 월, Length: 2891, dtype: object"
      ]
     },
     "execution_count": 43,
     "metadata": {},
     "output_type": "execute_result"
    }
   ],
   "source": [
    "X['월']"
   ]
  },
  {
   "cell_type": "code",
   "execution_count": 44,
   "id": "quantitative-plumbing",
   "metadata": {},
   "outputs": [
    {
     "ename": "NameError",
     "evalue": "name 'X_train' is not defined",
     "output_type": "error",
     "traceback": [
      "\u001b[1;31m---------------------------------------------------------------------------\u001b[0m",
      "\u001b[1;31mNameError\u001b[0m                                 Traceback (most recent call last)",
      "\u001b[1;32m<ipython-input-44-931765772341>\u001b[0m in \u001b[0;36m<module>\u001b[1;34m\u001b[0m\n\u001b[1;32m----> 1\u001b[1;33m \u001b[0mX_train\u001b[0m\u001b[1;33m\u001b[0m\u001b[1;33m\u001b[0m\u001b[0m\n\u001b[0m",
      "\u001b[1;31mNameError\u001b[0m: name 'X_train' is not defined"
     ]
    }
   ],
   "source": [
    "X_train"
   ]
  },
  {
   "cell_type": "code",
   "execution_count": 45,
   "id": "announced-calculator",
   "metadata": {},
   "outputs": [],
   "source": [
    "X_train, X_test, y_train, y_test = train_test_split(X, y, test_size=0.2)\n",
    "\n",
    "categorical_features_indices1 = np.where(X_train.dtypes == np.object)[0]"
   ]
  },
  {
   "cell_type": "code",
   "execution_count": 49,
   "id": "dried-plant",
   "metadata": {},
   "outputs": [
    {
     "data": {
      "text/plain": [
       "2312"
      ]
     },
     "execution_count": 49,
     "metadata": {},
     "output_type": "execute_result"
    }
   ],
   "source": [
    "len(X_train)"
   ]
  },
  {
   "cell_type": "code",
   "execution_count": 50,
   "id": "complicated-receptor",
   "metadata": {},
   "outputs": [
    {
     "data": {
      "text/plain": [
       "579"
      ]
     },
     "execution_count": 50,
     "metadata": {},
     "output_type": "execute_result"
    }
   ],
   "source": [
    "len(X_test)"
   ]
  },
  {
   "cell_type": "code",
   "execution_count": null,
   "id": "bridal-electronics",
   "metadata": {},
   "outputs": [],
   "source": [
    "categorical_features_indices1"
   ]
  },
  {
   "cell_type": "code",
   "execution_count": null,
   "id": "vital-rainbow",
   "metadata": {},
   "outputs": [],
   "source": [
    "model = cat"
   ]
  },
  {
   "cell_type": "code",
   "execution_count": null,
   "id": "accessory-ceramic",
   "metadata": {},
   "outputs": [],
   "source": []
  },
  {
   "cell_type": "code",
   "execution_count": null,
   "id": "precious-school",
   "metadata": {},
   "outputs": [],
   "source": [
    "model.fit(X_train, y_train, cat_features = categorical_features_indices1)\n",
    "#pred = model.predict(X_test)"
   ]
  },
  {
   "cell_type": "code",
   "execution_count": null,
   "id": "numeric-shark",
   "metadata": {},
   "outputs": [],
   "source": [
    "pred = model.predict(X_test)"
   ]
  },
  {
   "cell_type": "code",
   "execution_count": null,
   "id": "pacific-second",
   "metadata": {},
   "outputs": [],
   "source": [
    "# +월 넣음\n",
    "rmse = (np.sqrt(np.mean(mean_squared_error(y_test, pred))))\n",
    "rmse\n",
    "\n",
    "# 224.3599727834725"
   ]
  },
  {
   "cell_type": "code",
   "execution_count": null,
   "id": "southeast-municipality",
   "metadata": {},
   "outputs": [],
   "source": [
    "rmse_list = []\n",
    "for i in range(10):\n",
    "    model.fit(X_train, y_train)\n",
    "    pred = model.predict(X_test)\n",
    "    rmse_list.append((np.sqrt(np.mean(mean_squared_error(y_test, pred)))))"
   ]
  },
  {
   "cell_type": "code",
   "execution_count": null,
   "id": "wicked-auction",
   "metadata": {},
   "outputs": [],
   "source": [
    "sum(rmse_list)/10"
   ]
  },
  {
   "cell_type": "markdown",
   "id": "pending-deviation",
   "metadata": {},
   "source": [
    "---"
   ]
  },
  {
   "cell_type": "code",
   "execution_count": null,
   "id": "cultural-jackson",
   "metadata": {},
   "outputs": [],
   "source": [
    "# +월,일 넣음\n",
    "rmse = (np.sqrt(np.mean(mean_squared_error(y_test, pred))))\n",
    "rmse\n",
    "\n",
    "# 2677.7373792782087"
   ]
  },
  {
   "cell_type": "code",
   "execution_count": null,
   "id": "political-shell",
   "metadata": {},
   "outputs": [],
   "source": [
    "# +월,시간 넣음\n",
    "rmse = (np.sqrt(np.mean(mean_squared_error(y_test, pred))))\n",
    "rmse\n",
    "\n",
    "# 2974.5291207780074"
   ]
  },
  {
   "cell_type": "code",
   "execution_count": null,
   "id": "maritime-luxembourg",
   "metadata": {},
   "outputs": [],
   "source": [
    "# 평균안하고 그냥 다넣어버림\n",
    "\n",
    "rmse = (np.sqrt(np.mean(mean_squared_error(y_test, pred))))\n",
    "rmse"
   ]
  },
  {
   "cell_type": "code",
   "execution_count": null,
   "id": "cordless-chair",
   "metadata": {},
   "outputs": [],
   "source": [
    "# 시간관련 아무것도 안넣음\n",
    "from sklearn.metrics import mean_squared_error\n",
    "rmse = (np.sqrt(np.mean(mean_squared_error(y_test, pred))))\n",
    "rmse"
   ]
  },
  {
   "cell_type": "code",
   "execution_count": null,
   "id": "induced-pastor",
   "metadata": {},
   "outputs": [],
   "source": [
    "|"
   ]
  }
 ],
 "metadata": {
  "kernelspec": {
   "display_name": "Python 3",
   "language": "python",
   "name": "python3"
  },
  "language_info": {
   "codemirror_mode": {
    "name": "ipython",
    "version": 3
   },
   "file_extension": ".py",
   "mimetype": "text/x-python",
   "name": "python",
   "nbconvert_exporter": "python",
   "pygments_lexer": "ipython3",
   "version": "3.8.8"
  }
 },
 "nbformat": 4,
 "nbformat_minor": 5
}

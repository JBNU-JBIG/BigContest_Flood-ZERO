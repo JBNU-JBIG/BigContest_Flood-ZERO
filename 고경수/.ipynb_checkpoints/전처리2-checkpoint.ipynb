{
 "cells": [
  {
   "cell_type": "code",
   "execution_count": 49,
   "id": "electoral-copyright",
   "metadata": {},
   "outputs": [],
   "source": [
    "import pandas as pd\n",
    "from sklearn.metrics import mean_squared_error\n",
    "from sklearn.model_selection import train_test_split"
   ]
  },
  {
   "cell_type": "code",
   "execution_count": 32,
   "id": "traditional-roller",
   "metadata": {},
   "outputs": [],
   "source": [
    "train = pd.read_csv('G:/내 드라이브/Github/BigContest_Flood-ZERO/고경수/train.csv')\n",
    "test = pd.read_csv('G:/내 드라이브/Github/BigContest_Flood-ZERO/고경수/test.csv')\n",
    "submission = pd.read_csv('G:/내 드라이브/Github/BigContest_Flood-ZERO/고경수/submission.csv')"
   ]
  },
  {
   "cell_type": "code",
   "execution_count": 38,
   "id": "fourth-prairie",
   "metadata": {},
   "outputs": [],
   "source": [
    "df_1 = train[['홍수사상번호', '연', '월', '일', '시간', '유입량', \n",
    "              '유역평균강수1', '강우A1', '강우B1', '강우C1','강우D1', '수위E1', '수위D1','열번호']]\n",
    "df_2 = train[['홍수사상번호', '연', '월', '일', '시간', '유입량', \n",
    "              '유역평균강수2', '강우A2', '강우B2', '강우C2','강우D2', '수위E2', '수위D2','열번호']]\n",
    "df_3 = train[['홍수사상번호', '연', '월', '일', '시간', '유입량', \n",
    "              '유역평균강수3', '강우A3', '강우B3', '강우C3','강우D3', '수위E3', '수위D3','열번호']]\n",
    "df_4 = train[['홍수사상번호', '연', '월', '일', '시간', '유입량', \n",
    "              '유역평균강수4', '강우A4', '강우B4', '강우C4','강우D4', '수위E4', '수위D4','열번호']]\n",
    "df_5 = train[['홍수사상번호', '연', '월', '일', '시간', '유입량', \n",
    "              '유역평균강수5', '강우A5', '강우B5', '강우C5','강우D5', '수위E5', '수위D5','열번호']]\n",
    "df_6 = train[['홍수사상번호', '연', '월', '일', '시간', '유입량', \n",
    "              '유역평균강수6', '강우A6', '강우B6', '강우C6','강우D6', '수위E6', '수위D6','열번호']]\n",
    "\n",
    "df_1.columns = ['홍수사상번호','연', '월', '일', '시간','유입량',\n",
    "                '유역평균강수','강우A','강우B','강우C','강우D','수위E','수위D','열번호']\n",
    "df_2.columns = ['홍수사상번호','연', '월', '일', '시간','유입량',\n",
    "                '유역평균강수','강우A','강우B','강우C','강우D','수위E','수위D','열번호']\n",
    "df_3.columns = ['홍수사상번호','연', '월', '일', '시간','유입량',\n",
    "                '유역평균강수','강우A','강우B','강우C','강우D','수위E','수위D','열번호']\n",
    "df_4.columns = ['홍수사상번호','연', '월', '일', '시간','유입량',\n",
    "                '유역평균강수','강우A','강우B','강우C','강우D','수위E','수위D','열번호']\n",
    "df_5.columns = ['홍수사상번호','연', '월', '일', '시간','유입량',\n",
    "                '유역평균강수','강우A','강우B','강우C','강우D','수위E','수위D','열번호']\n",
    "df_6.columns = ['홍수사상번호','연', '월', '일', '시간','유입량',\n",
    "                '유역평균강수','강우A','강우B','강우C','강우D','수위E','수위D','열번호']"
   ]
  },
  {
   "cell_type": "code",
   "execution_count": 39,
   "id": "furnished-samoa",
   "metadata": {},
   "outputs": [],
   "source": [
    "train = pd.concat([df_1,df_2,df_3,df_4,df_5,df_6], axis=0)"
   ]
  },
  {
   "cell_type": "code",
   "execution_count": 45,
   "id": "tribal-instrumentation",
   "metadata": {},
   "outputs": [],
   "source": [
    "train = train.sort_values(by='열번호')"
   ]
  },
  {
   "cell_type": "code",
   "execution_count": 46,
   "id": "derived-family",
   "metadata": {},
   "outputs": [],
   "source": [
    "from pycaret.regression import *"
   ]
  },
  {
   "cell_type": "code",
   "execution_count": 47,
   "id": "divided-index",
   "metadata": {},
   "outputs": [],
   "source": [
    "X = train[['홍수사상번호','연', '월', '일', '시간','유입량',\n",
    "                '유역평균강수','강우A','강우B','강우C','강우D','수위E','수위D','열번호']]"
   ]
  },
  {
   "cell_type": "code",
   "execution_count": 50,
   "id": "demanding-lawsuit",
   "metadata": {},
   "outputs": [],
   "source": [
    "X_train, X_test = train_test_split(X, test_size=0.03, shuffle = False, random_state = 40)\n",
    "categorical_features_indices = np.where(X_train.dtypes == np.object)[0]"
   ]
  },
  {
   "cell_type": "code",
   "execution_count": null,
   "id": "foster-heather",
   "metadata": {},
   "outputs": [],
   "source": []
  }
 ],
 "metadata": {
  "kernelspec": {
   "display_name": "Python 3",
   "language": "python",
   "name": "python3"
  },
  "language_info": {
   "codemirror_mode": {
    "name": "ipython",
    "version": 3
   },
   "file_extension": ".py",
   "mimetype": "text/x-python",
   "name": "python",
   "nbconvert_exporter": "python",
   "pygments_lexer": "ipython3",
   "version": "3.8.8"
  }
 },
 "nbformat": 4,
 "nbformat_minor": 5
}

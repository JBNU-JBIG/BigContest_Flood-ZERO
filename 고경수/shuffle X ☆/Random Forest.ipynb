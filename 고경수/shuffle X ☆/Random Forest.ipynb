{
 "cells": [
  {
   "cell_type": "code",
   "execution_count": 5,
   "id": "elementary-dimension",
   "metadata": {},
   "outputs": [],
   "source": [
    "import pandas as pd\n",
    "import numpy as np\n",
    "\n",
    "from catboost import CatBoostRegressor\n",
    "cat = CatBoostRegressor()\n",
    "\n",
    "from sklearn.metrics import mean_squared_error\n",
    "from sklearn.model_selection import train_test_split"
   ]
  },
  {
   "cell_type": "code",
   "execution_count": 6,
   "id": "heated-punishment",
   "metadata": {},
   "outputs": [],
   "source": [
    "from sklearn.ensemble import RandomForestRegressor\n",
    "from sklearn.model_selection import train_test_split, GridSearchCV, cross_val_score, LeaveOneOut\n",
    "from sklearn.metrics import mean_squared_error"
   ]
  },
  {
   "cell_type": "code",
   "execution_count": 7,
   "id": "incorporate-breed",
   "metadata": {},
   "outputs": [],
   "source": [
    "train = pd.read_csv('G:/내 드라이브/Github/BigContest_Flood-ZERO/고경수/train.csv')\n",
    "test = pd.read_csv('G:/내 드라이브/Github/BigContest_Flood-ZERO/고경수/test.csv')\n",
    "submission = pd.read_csv('G:/내 드라이브/Github/BigContest_Flood-ZERO/고경수/submission.csv')"
   ]
  },
  {
   "cell_type": "code",
   "execution_count": 8,
   "id": "adequate-permission",
   "metadata": {},
   "outputs": [],
   "source": [
    "유역평균강수 = ['유역평균강수1','유역평균강수2','유역평균강수3','유역평균강수4','유역평균강수5','유역평균강수6']\n",
    "강우A = ['강우A1','강우A2','강우A3','강우A4','강우A5','강우A6']\n",
    "강우B = ['강우B1','강우B2','강우B3','강우B4','강우B5','강우B6']\n",
    "강우C = ['강우C1','강우C2','강우C3','강우C4','강우C5','강우C6']\n",
    "강우D = ['강우D1','강우D2','강우D3','강우D4','강우D5','강우D6']\n",
    "수위E = ['수위E1','수위E2','수위E3','수위E4','수위E5','수위E6']\n",
    "수위D = ['수위D1','수위D2','수위D3','수위D4','수위D5','수위D6']"
   ]
  },
  {
   "cell_type": "code",
   "execution_count": 9,
   "id": "infrared-liver",
   "metadata": {},
   "outputs": [],
   "source": [
    "train['홍수사상번호'] = train['홍수사상번호'].astype(str)\n",
    "train['월'] = train['월'].astype(str)\n",
    "train['일'] = train['일'].astype(str)\n",
    "train['시간'] = train['시간'].astype(str)\n",
    "\n",
    "test['홍수사상번호'] = test['홍수사상번호'].astype(str)\n",
    "test['월'] = test['월'].astype(str)\n",
    "test['일'] = test['일'].astype(str)\n",
    "test['시간'] = test['시간'].astype(str)"
   ]
  },
  {
   "cell_type": "code",
   "execution_count": 10,
   "id": "economic-treasure",
   "metadata": {},
   "outputs": [],
   "source": [
    "X_train, X_test, y_train, y_test = train_test_split(train[['홍수사상번호','연','월','일','시간',*유역평균강수, *강우A, *강우B, *강우C, *강우D, *수위E, *수위D]],\n",
    "                                                           train['유입량'], test_size=0.2109996, shuffle=False)\n",
    "\n",
    "Original_train = X_train # 사상번호 1 ~ 23\n",
    "Original_test = X_test # 사상번호 24 ~ 25"
   ]
  },
  {
   "cell_type": "code",
   "execution_count": 15,
   "id": "stretch-garden",
   "metadata": {},
   "outputs": [
    {
     "data": {
      "text/plain": [
       "연         -0.349836\n",
       "유입량        1.000000\n",
       "유역평균강수1    0.742268\n",
       "강우A1       0.617424\n",
       "강우B1       0.739951\n",
       "강우C1       0.605588\n",
       "강우D1       0.700568\n",
       "수위E1       0.903840\n",
       "수위D1       0.109475\n",
       "Name: 유입량, dtype: float64"
      ]
     },
     "execution_count": 15,
     "metadata": {},
     "output_type": "execute_result"
    }
   ],
   "source": [
    "# 집단 1개만을 사용한 상관계수 비교\n",
    "data = train[['홍수사상번호', '연', '월', '일', '시간', '유입량', '유역평균강수1', '강우A1', '강우B1', '강우C1',\n",
    "       '강우D1', '수위E1', '수위D1']]\n",
    "data.corr()['유입량']"
   ]
  },
  {
   "cell_type": "markdown",
   "id": "metropolitan-humidity",
   "metadata": {},
   "source": [
    "- 수위D의 상관계수가 0.1로 매우 낮다"
   ]
  },
  {
   "cell_type": "markdown",
   "id": "stopped-sterling",
   "metadata": {},
   "source": [
    "---\n",
    "# 사상 X"
   ]
  },
  {
   "cell_type": "code",
   "execution_count": 16,
   "id": "hazardous-carter",
   "metadata": {},
   "outputs": [
    {
     "data": {
      "text/plain": [
       "RandomForestRegressor()"
      ]
     },
     "execution_count": 16,
     "metadata": {},
     "output_type": "execute_result"
    }
   ],
   "source": [
    "X_train = Original_train[[유역평균강수[4], 강우A[4], 강우B[4], 강우C[4], 강우D[4], 수위D[4], 수위E[4]]]\n",
    "X_test = Original_test[[유역평균강수[4], 강우A[4], 강우B[4], 강우C[4], 강우D[4], 수위D[4], 수위E[4]]]\n",
    "\n",
    "categorical_features_indices1 = np.where(X_train.dtypes == np.object)[0]\n",
    "\n",
    "model = RandomForestRegressor()\n",
    "model.fit(X_train, y_train)"
   ]
  },
  {
   "cell_type": "code",
   "execution_count": 17,
   "id": "rational-shaft",
   "metadata": {},
   "outputs": [],
   "source": [
    "pred = model.predict(X_test)"
   ]
  },
  {
   "cell_type": "code",
   "execution_count": 18,
   "id": "fundamental-modern",
   "metadata": {},
   "outputs": [
    {
     "data": {
      "text/plain": [
       "667.3283997230722"
      ]
     },
     "execution_count": 18,
     "metadata": {},
     "output_type": "execute_result"
    }
   ],
   "source": [
    "rmse = (np.sqrt(np.mean(mean_squared_error(y_test, pred))))\n",
    "rmse\n",
    "# 1: 748"
   ]
  },
  {
   "cell_type": "code",
   "execution_count": null,
   "id": "sufficient-virgin",
   "metadata": {},
   "outputs": [],
   "source": []
  }
 ],
 "metadata": {
  "kernelspec": {
   "display_name": "Python 3",
   "language": "python",
   "name": "python3"
  },
  "language_info": {
   "codemirror_mode": {
    "name": "ipython",
    "version": 3
   },
   "file_extension": ".py",
   "mimetype": "text/x-python",
   "name": "python",
   "nbconvert_exporter": "python",
   "pygments_lexer": "ipython3",
   "version": "3.8.8"
  }
 },
 "nbformat": 4,
 "nbformat_minor": 5
}

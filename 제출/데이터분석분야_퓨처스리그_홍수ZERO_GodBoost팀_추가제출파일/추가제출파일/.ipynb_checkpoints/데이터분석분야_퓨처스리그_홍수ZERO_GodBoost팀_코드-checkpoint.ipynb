{
 "cells": [
  {
   "cell_type": "code",
   "execution_count": 1,
   "metadata": {},
   "outputs": [],
   "source": [
    "import pandas as pd\n",
    "import numpy as np\n",
    "\n",
    "from catboost import CatBoostRegressor\n",
    "cat = CatBoostRegressor()\n",
    "import matplotlib.pyplot as plt\n",
    "\n",
    "from matplotlib import font_manager, rc\n",
    "import matplotlib\n",
    "\n",
    "font_name = font_manager.FontProperties(fname=\"c:/Windows/Fonts/malgun.ttf\").get_name()\n",
    "rc('font', family=font_name)\n",
    "matplotlib.rcParams['axes.unicode_minus'] = False\n",
    "\n",
    "from sklearn.metrics import mean_squared_error\n",
    "from sklearn.model_selection import train_test_split\n",
    "\n",
    "import seaborn as sns"
   ]
  },
  {
   "cell_type": "markdown",
   "metadata": {},
   "source": [
    "## Train, Test 전처리"
   ]
  },
  {
   "cell_type": "code",
   "execution_count": 2,
   "metadata": {},
   "outputs": [],
   "source": [
    "data = pd.read_excel(\"G:\\내 드라이브\\Github\\BigContest_Flood-ZERO/2021 빅콘테스트_데이터분석분야_퓨처스리그_홍수ZERO_댐유입량,강우,수위데이터_210902_update.xlsx\" )"
   ]
  },
  {
   "cell_type": "code",
   "execution_count": 3,
   "metadata": {},
   "outputs": [],
   "source": [
    "data.columns = ['홍수사상번호','연', '월', '일', '시간','유입량',\n",
    "'유역평균강수1','강우A1','강우B1','강우C1','강우D1','수위E1','수위D1',\n",
    "'유역평균강수2','강우A2','강우B2','강우C2','강우D2','수위E2','수위D2',\n",
    "'유역평균강수3','강우A3','강우B3','강우C3','강우D3','수위E3','수위D3',\n",
    "'유역평균강수4','강우A4','강우B4','강우C4','강우D4','수위E4','수위D4',\n",
    "'유역평균강수5','강우A5','강우B5','강우C5','강우D5','수위E5','수위D5',\n",
    "'유역평균강수6','강우A6','강우B6','강우C6','강우D6','수위E6','수위D6']"
   ]
  },
  {
   "cell_type": "code",
   "execution_count": 4,
   "metadata": {},
   "outputs": [],
   "source": [
    "train = data.iloc[1:2892]"
   ]
  },
  {
   "cell_type": "code",
   "execution_count": 5,
   "metadata": {},
   "outputs": [
    {
     "data": {
      "text/html": [
       "<div>\n",
       "<style scoped>\n",
       "    .dataframe tbody tr th:only-of-type {\n",
       "        vertical-align: middle;\n",
       "    }\n",
       "\n",
       "    .dataframe tbody tr th {\n",
       "        vertical-align: top;\n",
       "    }\n",
       "\n",
       "    .dataframe thead th {\n",
       "        text-align: right;\n",
       "    }\n",
       "</style>\n",
       "<table border=\"1\" class=\"dataframe\">\n",
       "  <thead>\n",
       "    <tr style=\"text-align: right;\">\n",
       "      <th></th>\n",
       "      <th>홍수사상번호</th>\n",
       "      <th>연</th>\n",
       "      <th>월</th>\n",
       "      <th>일</th>\n",
       "      <th>시간</th>\n",
       "      <th>유입량</th>\n",
       "      <th>유역평균강수1</th>\n",
       "      <th>강우A1</th>\n",
       "      <th>강우B1</th>\n",
       "      <th>강우C1</th>\n",
       "      <th>...</th>\n",
       "      <th>강우D5</th>\n",
       "      <th>수위E5</th>\n",
       "      <th>수위D5</th>\n",
       "      <th>유역평균강수6</th>\n",
       "      <th>강우A6</th>\n",
       "      <th>강우B6</th>\n",
       "      <th>강우C6</th>\n",
       "      <th>강우D6</th>\n",
       "      <th>수위E6</th>\n",
       "      <th>수위D6</th>\n",
       "    </tr>\n",
       "  </thead>\n",
       "  <tbody>\n",
       "    <tr>\n",
       "      <th>1</th>\n",
       "      <td>1.0</td>\n",
       "      <td>2006.0</td>\n",
       "      <td>7.0</td>\n",
       "      <td>10.0</td>\n",
       "      <td>8.0</td>\n",
       "      <td>189.100000</td>\n",
       "      <td>6.4</td>\n",
       "      <td>7</td>\n",
       "      <td>7</td>\n",
       "      <td>7</td>\n",
       "      <td>...</td>\n",
       "      <td>8</td>\n",
       "      <td>2.54</td>\n",
       "      <td>122.66</td>\n",
       "      <td>6.4</td>\n",
       "      <td>7</td>\n",
       "      <td>7</td>\n",
       "      <td>8</td>\n",
       "      <td>8</td>\n",
       "      <td>2.54</td>\n",
       "      <td>122.61</td>\n",
       "    </tr>\n",
       "    <tr>\n",
       "      <th>2</th>\n",
       "      <td>1.0</td>\n",
       "      <td>2006.0</td>\n",
       "      <td>7.0</td>\n",
       "      <td>10.0</td>\n",
       "      <td>9.0</td>\n",
       "      <td>216.951962</td>\n",
       "      <td>6.3</td>\n",
       "      <td>7</td>\n",
       "      <td>8</td>\n",
       "      <td>7</td>\n",
       "      <td>...</td>\n",
       "      <td>10</td>\n",
       "      <td>2.53</td>\n",
       "      <td>122.648</td>\n",
       "      <td>7.3</td>\n",
       "      <td>7</td>\n",
       "      <td>8</td>\n",
       "      <td>10</td>\n",
       "      <td>10</td>\n",
       "      <td>2.53</td>\n",
       "      <td>122.6</td>\n",
       "    </tr>\n",
       "    <tr>\n",
       "      <th>3</th>\n",
       "      <td>1.0</td>\n",
       "      <td>2006.0</td>\n",
       "      <td>7.0</td>\n",
       "      <td>10.0</td>\n",
       "      <td>10.0</td>\n",
       "      <td>251.424419</td>\n",
       "      <td>6.4</td>\n",
       "      <td>7</td>\n",
       "      <td>9</td>\n",
       "      <td>7</td>\n",
       "      <td>...</td>\n",
       "      <td>11</td>\n",
       "      <td>2.53</td>\n",
       "      <td>122.636</td>\n",
       "      <td>8.2</td>\n",
       "      <td>7</td>\n",
       "      <td>9</td>\n",
       "      <td>10</td>\n",
       "      <td>11</td>\n",
       "      <td>2.53</td>\n",
       "      <td>122.59</td>\n",
       "    </tr>\n",
       "    <tr>\n",
       "      <th>4</th>\n",
       "      <td>1.0</td>\n",
       "      <td>2006.0</td>\n",
       "      <td>7.0</td>\n",
       "      <td>10.0</td>\n",
       "      <td>11.0</td>\n",
       "      <td>302.812199</td>\n",
       "      <td>7.3</td>\n",
       "      <td>7</td>\n",
       "      <td>10</td>\n",
       "      <td>7</td>\n",
       "      <td>...</td>\n",
       "      <td>14</td>\n",
       "      <td>2.53</td>\n",
       "      <td>122.62</td>\n",
       "      <td>11.3</td>\n",
       "      <td>9</td>\n",
       "      <td>10</td>\n",
       "      <td>15</td>\n",
       "      <td>14</td>\n",
       "      <td>2.53</td>\n",
       "      <td>122.585</td>\n",
       "    </tr>\n",
       "    <tr>\n",
       "      <th>5</th>\n",
       "      <td>1.0</td>\n",
       "      <td>2006.0</td>\n",
       "      <td>7.0</td>\n",
       "      <td>10.0</td>\n",
       "      <td>12.0</td>\n",
       "      <td>384.783406</td>\n",
       "      <td>8.2</td>\n",
       "      <td>7</td>\n",
       "      <td>12</td>\n",
       "      <td>8</td>\n",
       "      <td>...</td>\n",
       "      <td>16</td>\n",
       "      <td>2.53</td>\n",
       "      <td>122.604</td>\n",
       "      <td>14.4</td>\n",
       "      <td>12</td>\n",
       "      <td>12</td>\n",
       "      <td>18</td>\n",
       "      <td>16</td>\n",
       "      <td>2.53</td>\n",
       "      <td>122.575</td>\n",
       "    </tr>\n",
       "  </tbody>\n",
       "</table>\n",
       "<p>5 rows × 48 columns</p>\n",
       "</div>"
      ],
      "text/plain": [
       "   홍수사상번호       연    월     일    시간         유입량 유역평균강수1 강우A1 강우B1 강우C1  ...  \\\n",
       "1     1.0  2006.0  7.0  10.0   8.0  189.100000     6.4    7    7    7  ...   \n",
       "2     1.0  2006.0  7.0  10.0   9.0  216.951962     6.3    7    8    7  ...   \n",
       "3     1.0  2006.0  7.0  10.0  10.0  251.424419     6.4    7    9    7  ...   \n",
       "4     1.0  2006.0  7.0  10.0  11.0  302.812199     7.3    7   10    7  ...   \n",
       "5     1.0  2006.0  7.0  10.0  12.0  384.783406     8.2    7   12    8  ...   \n",
       "\n",
       "  강우D5  수위E5     수위D5 유역평균강수6 강우A6 강우B6 강우C6 강우D6  수위E6     수위D6  \n",
       "1    8  2.54   122.66     6.4    7    7    8    8  2.54   122.61  \n",
       "2   10  2.53  122.648     7.3    7    8   10   10  2.53    122.6  \n",
       "3   11  2.53  122.636     8.2    7    9   10   11  2.53   122.59  \n",
       "4   14  2.53   122.62    11.3    9   10   15   14  2.53  122.585  \n",
       "5   16  2.53  122.604    14.4   12   12   18   16  2.53  122.575  \n",
       "\n",
       "[5 rows x 48 columns]"
      ]
     },
     "execution_count": 5,
     "metadata": {},
     "output_type": "execute_result"
    }
   ],
   "source": [
    "train.head()"
   ]
  },
  {
   "cell_type": "code",
   "execution_count": 6,
   "metadata": {},
   "outputs": [],
   "source": [
    "test = data.iloc[2892:]\n",
    "test = test.reset_index().drop(['index'],axis =1)"
   ]
  },
  {
   "cell_type": "code",
   "execution_count": 13,
   "metadata": {},
   "outputs": [],
   "source": [
    "test.to_csv('test.csv', index = False)\n",
    "train.to_csv('train.csv', index = False)"
   ]
  },
  {
   "cell_type": "code",
   "execution_count": 8,
   "metadata": {},
   "outputs": [],
   "source": [
    "train = train.astype(float)\n",
    "test = test.astype(float)"
   ]
  },
  {
   "cell_type": "markdown",
   "metadata": {},
   "source": [
    "---"
   ]
  },
  {
   "cell_type": "markdown",
   "metadata": {},
   "source": [
    "## Submission 전처리"
   ]
  },
  {
   "cell_type": "code",
   "execution_count": 10,
   "metadata": {},
   "outputs": [],
   "source": [
    "submission = pd.read_excel(\"G:/내 드라이브/Github/BigContest_Flood-ZERO/2021 빅콘테스트_데이터분석분야_퓨처스리그_홍수ZERO_평가데이터_210803.xlsx\" )"
   ]
  },
  {
   "cell_type": "code",
   "execution_count": 11,
   "metadata": {},
   "outputs": [],
   "source": [
    "submission = submission.iloc[1:]\n",
    "submission = submission.reset_index().drop(['index'],axis =1)"
   ]
  },
  {
   "cell_type": "code",
   "execution_count": 12,
   "metadata": {},
   "outputs": [],
   "source": [
    "유역평균강수 = ['유역평균강수1','유역평균강수2','유역평균강수3','유역평균강수4','유역평균강수5','유역평균강수6']\n",
    "강우A = ['강우A1','강우A2','강우A3','강우A4','강우A5','강우A6']\n",
    "강우B = ['강우B1','강우B2','강우B3','강우B4','강우B5','강우B6']\n",
    "강우C = ['강우C1','강우C2','강우C3','강우C4','강우C5','강우C6']\n",
    "강우D = ['강우D1','강우D2','강우D3','강우D4','강우D5','강우D6']\n",
    "수위E = ['수위E1','수위E2','수위E3','수위E4','수위E5','수위E6']\n",
    "수위D = ['수위D1','수위D2','수위D3','수위D4','수위D5','수위D6']"
   ]
  },
  {
   "cell_type": "markdown",
   "metadata": {},
   "source": [
    "---"
   ]
  },
  {
   "cell_type": "markdown",
   "metadata": {},
   "source": [
    "- 홍수사상번호별로 정규화된 인덱스를 추가\n",
    "\n",
    "- 주어진 홍수사상번호 1 ~ 25번에서 홍수사상번호 1 ~ 21번을 train set, 22 ~ 25번을 test set로 임의로 나누어 점수를 비교하며 변수가 유의미한지 체크하였다.\n",
    "    \n",
    "    - 집단별로 다중공선성이 있다고 판단하여, 하나의 집단만을 사용하기위해 점수를 가장 잘 예측하는 집단을 체크하여 사용\n",
    "    - 수위D의 상관계수가 0.1로 낮아, 변수의 유무에 따른 점수차이를 체크\n",
    "    - 온도가 증발량과 관련이 있을것으로 판단하여 온도변수의 유무에 따른 점수차이를 체크\n",
    "    \n",
    "    - 다른 모델(XGBoost, LGBM)과 점수차이 체크\n",
    "    - 학습후, 예측할때 다른 집단 데이터를 사용한 점수차이 체크"
   ]
  },
  {
   "cell_type": "markdown",
   "metadata": {},
   "source": [
    "---\n",
    "## train 1~25 홍수사상번호별 정규화된 인덱스 추가"
   ]
  },
  {
   "cell_type": "code",
   "execution_count": 239,
   "metadata": {},
   "outputs": [],
   "source": [
    "X = train.drop('유입량', axis=1)\n",
    "y = train['유입량']"
   ]
  },
  {
   "cell_type": "code",
   "execution_count": 240,
   "metadata": {},
   "outputs": [],
   "source": [
    "X_1 = X.iloc[:226]\n",
    "X_2 = X.iloc[226:326]\n",
    "X_3 = X.iloc[326:407]\n",
    "X_4 = X.iloc[407:441]\n",
    "X_5 = X.iloc[441:535]\n",
    "X_6 = X.iloc[535:581]\n",
    "X_7 = X.iloc[581:632]\n",
    "X_8 = X.iloc[632:673]\n",
    "X_9 = X.iloc[673:741]\n",
    "X_10 = X.iloc[741:827]\n",
    "X_11 = X.iloc[827:937]\n",
    "X_12 = X.iloc[937:1064]\n",
    "X_13 = X.iloc[1064:1131]\n",
    "X_14 = X.iloc[1131:1181]\n",
    "X_15 = X.iloc[1181:1443]\n",
    "X_16 = X.iloc[1443:1648]\n",
    "X_17 = X.iloc[1648:1773]\n",
    "X_18 = X.iloc[1773:1838]\n",
    "X_19 = X.iloc[1838:1933]\n",
    "X_20 = X.iloc[1933:2197]\n",
    "X_21 = X.iloc[2197:2281]\n",
    "X_22 = X.iloc[2281:2565]\n",
    "X_23 = X.iloc[2565:2694]\n",
    "X_24 = X.iloc[2694:2788]\n",
    "X_25 = X.iloc[2788:2891]"
   ]
  },
  {
   "cell_type": "code",
   "execution_count": 241,
   "metadata": {},
   "outputs": [],
   "source": [
    "dtlists = []\n",
    "index = pd.DataFrame()\n",
    "for j in range(1, 26):\n",
    "    eval('dtlists.append(X_'+str(j)+')')\n",
    "    dtlists[j-1] = dtlists[j-1].reset_index()\n",
    "    dtlists[j-1]['인덱스'] = dtlists[j-1].index\n",
    "    dtlists[j-1]['정규화인덱스'] = dtlists[j-1]['인덱스'] / (len(dtlists[j-1])-1)\n",
    "    index = pd.concat([index, pd.DataFrame(dtlists[j-1])])\n",
    "    \n",
    "index = index.reset_index()\n",
    "train['정규화인덱스'] = index['정규화인덱스']"
   ]
  },
  {
   "cell_type": "markdown",
   "metadata": {},
   "source": [
    "## test 26번 홍수사상번호정규화된 인덱스 추가"
   ]
  },
  {
   "cell_type": "code",
   "execution_count": 242,
   "metadata": {},
   "outputs": [],
   "source": [
    "test['인덱스'] = test.index\n",
    "test['정규화인덱스'] = test['인덱스'] / (len(test)-1)"
   ]
  },
  {
   "cell_type": "markdown",
   "metadata": {},
   "source": [
    "- 홍수사상번호별로 시간의 흐름에 따라 유입량을 살펴본 결과, 처음과 끝은 유입량이 적고 중간이 가장 높은 경향을 보였다."
   ]
  },
  {
   "cell_type": "code",
   "execution_count": 243,
   "metadata": {},
   "outputs": [
    {
     "data": {
      "image/png": "[encoded data removed]",
      "text/plain": [
       "<Figure size 864x288 with 1 Axes>"
      ]
     },
     "metadata": {
      "needs_background": "light"
     },
     "output_type": "display_data"
    },
    {
     "data": {
      "image/png": "[encoded data removed]",
      "text/plain": [
       "<Figure size 864x288 with 1 Axes>"
      ]
     },
     "metadata": {
      "needs_background": "light"
     },
     "output_type": "display_data"
    },
    {
     "data": {
      "image/png": "[encoded data removed]",
      "text/plain": [
       "<Figure size 864x288 with 1 Axes>"
      ]
     },
     "metadata": {
      "needs_background": "light"
     },
     "output_type": "display_data"
    }
   ],
   "source": [
    "for i in range(1, 4):\n",
    "    plt.figure(figsize=(12,4))\n",
    "    eval('plt.plot(train.query(\\'홍수사상번호=='+str(i)+'\\').index, train.query(\\'홍수사상번호=='+str(i)+'\\')[\\'유입량\\'])')\n",
    "    plt.ylabel('유입량', size=12)\n",
    "    plt.xlabel('인덱스', size=12)\n",
    "    plt.tight_layout()"
   ]
  },
  {
   "cell_type": "markdown",
   "metadata": {},
   "source": [
    "- 이러한 경향을 학습시키기 위하여 인덱스 변수를 추가하였다.\n",
    "- 홍수사상번호별로 행의 갯수가 다르기에 모두 인덱스변수를 정규화하여 사용하였다."
   ]
  },
  {
   "cell_type": "markdown",
   "metadata": {},
   "source": [
    "---"
   ]
  },
  {
   "cell_type": "markdown",
   "metadata": {},
   "source": [
    "## 점수 예측을 위한 임시 train(홍수사상번호 1 ~ 21) / test(홍수사상번호 22 ~ 25) 분리"
   ]
  },
  {
   "cell_type": "code",
   "execution_count": 244,
   "metadata": {},
   "outputs": [],
   "source": [
    "X_train, X_test, y_train, y_test = train_test_split(train[['정규화인덱스',*유역평균강수, *강우A, *강우B, *강우C, *강우D, *수위E, *수위D]],\n",
    "                                                           train['유입량'], test_size=0.2109996, shuffle=False)\n",
    "\n",
    "Original_train = X_train # 사상번호 1 ~ 21\n",
    "Original_test = X_test # 사상번호 22 ~ 25"
   ]
  },
  {
   "cell_type": "markdown",
   "metadata": {},
   "source": [
    "---\n",
    "## 집단별 점수 비교"
   ]
  },
  {
   "cell_type": "code",
   "execution_count": 245,
   "metadata": {},
   "outputs": [],
   "source": [
    "X = X.drop(['홍수사상번호', '연', '일', '시간'], axis=1)\n",
    "\n",
    "X_1_1 = X.drop(X.iloc[:, 8:], axis=1)\n",
    "X_1_1 = X_1_1.iloc[:226]\n",
    "\n",
    "X_1_2 = X.drop(X.iloc[:, 1:8], axis=1)\n",
    "X_1_2 = X_1_2.drop(X.iloc[:, 15:], axis=1)\n",
    "X_1_2 = X_1_2.iloc[:226]"
   ]
  },
  {
   "cell_type": "code",
   "execution_count": 246,
   "metadata": {},
   "outputs": [],
   "source": [
    "corrs = pd.DataFrame(index=X_1_2.drop(['월'], axis=1).columns, columns=X_1_1.drop(['월'], axis=1).columns)"
   ]
  },
  {
   "cell_type": "code",
   "execution_count": 247,
   "metadata": {},
   "outputs": [],
   "source": [
    "for i in range(7):\n",
    "    corrs.iloc[:, i] = pd.to_numeric(corrs.iloc[:, i])"
   ]
  },
  {
   "cell_type": "code",
   "execution_count": 248,
   "metadata": {},
   "outputs": [],
   "source": [
    "for i in range(0, 7):\n",
    "    for j in range(0, 7):\n",
    "        corrs.iloc[i, j] = np.corrcoef(train.iloc[:, j+6], train.iloc[:, i+13])[0, 1]"
   ]
  },
  {
   "cell_type": "code",
   "execution_count": 249,
   "metadata": {},
   "outputs": [
    {
     "data": {
      "text/plain": [
       "<AxesSubplot:>"
      ]
     },
     "execution_count": 249,
     "metadata": {},
     "output_type": "execute_result"
    },
    {
     "data": {
      "image/png": "[encoded data removed]",
      "text/plain": [
       "<Figure size 576x288 with 2 Axes>"
      ]
     },
     "metadata": {
      "needs_background": "light"
     },
     "output_type": "display_data"
    }
   ],
   "source": [
    "plt.figure(figsize=(8,4))\n",
    "sns.heatmap(corrs, annot=True, fmt='.2f', linewidths=.5, cmap='Blues')"
   ]
  },
  {
   "cell_type": "markdown",
   "metadata": {},
   "source": [
    "- 집단간에 상관계수를 비교해봤을때, 상관계수가 매우 높다. 이 변수들을 모두 사용했을때, 다중공선성이 있을 것이라 판단하여 집단을 하나만 사용하였다."
   ]
  },
  {
   "cell_type": "markdown",
   "metadata": {},
   "source": [
    "### 집단 1"
   ]
  },
  {
   "cell_type": "code",
   "execution_count": 250,
   "metadata": {},
   "outputs": [
    {
     "data": {
      "text/plain": [
       "<catboost.core.CatBoostRegressor at 0x1c7c2f3ca00>"
      ]
     },
     "execution_count": 250,
     "metadata": {},
     "output_type": "execute_result"
    }
   ],
   "source": [
    "X_train = Original_train[[유역평균강수[0], 강우A[0], 강우B[0], 강우C[0], 강우D[0], 수위E[0], 수위D[0]]]\n",
    "X_test = Original_test[[유역평균강수[0], 강우A[0], 강우B[0], 강우C[0], 강우D[0], 수위E[0], 수위D[0]]]\n",
    "\n",
    "model = cat\n",
    "model.fit(X_train, y_train, silent=True)"
   ]
  },
  {
   "cell_type": "code",
   "execution_count": 251,
   "metadata": {},
   "outputs": [],
   "source": [
    "pred = model.predict(X_test)"
   ]
  },
  {
   "cell_type": "code",
   "execution_count": 252,
   "metadata": {},
   "outputs": [
    {
     "data": {
      "text/plain": [
       "759.7370959418506"
      ]
     },
     "execution_count": 252,
     "metadata": {},
     "output_type": "execute_result"
    }
   ],
   "source": [
    "rmse = (np.sqrt(np.mean(mean_squared_error(y_test, pred))))\n",
    "rmse"
   ]
  },
  {
   "cell_type": "markdown",
   "metadata": {},
   "source": [
    "### 집단 2"
   ]
  },
  {
   "cell_type": "code",
   "execution_count": 253,
   "metadata": {},
   "outputs": [
    {
     "data": {
      "text/plain": [
       "<catboost.core.CatBoostRegressor at 0x1c7c2f3ca00>"
      ]
     },
     "execution_count": 253,
     "metadata": {},
     "output_type": "execute_result"
    }
   ],
   "source": [
    "X_train = Original_train[[유역평균강수[1], 강우A[1], 강우B[1], 강우C[1], 강우D[1], 수위E[1], 수위D[1]]]\n",
    "X_test = Original_test[[유역평균강수[1], 강우A[1], 강우B[1], 강우C[1], 강우D[1], 수위E[1], 수위D[1]]]\n",
    "\n",
    "categorical_features_indices1 = np.where(X_train.dtypes == np.object)[0]\n",
    "\n",
    "model = cat\n",
    "model.fit(X_train, y_train, silent=True)"
   ]
  },
  {
   "cell_type": "code",
   "execution_count": 254,
   "metadata": {},
   "outputs": [],
   "source": [
    "pred = model.predict(X_test)"
   ]
  },
  {
   "cell_type": "code",
   "execution_count": 255,
   "metadata": {},
   "outputs": [
    {
     "data": {
      "text/plain": [
       "803.1710778071422"
      ]
     },
     "execution_count": 255,
     "metadata": {},
     "output_type": "execute_result"
    }
   ],
   "source": [
    "rmse = (np.sqrt(np.mean(mean_squared_error(y_test, pred))))\n",
    "rmse"
   ]
  },
  {
   "cell_type": "markdown",
   "metadata": {},
   "source": [
    "### 집단 3"
   ]
  },
  {
   "cell_type": "code",
   "execution_count": 256,
   "metadata": {},
   "outputs": [
    {
     "data": {
      "text/plain": [
       "<catboost.core.CatBoostRegressor at 0x1c7c2f3ca00>"
      ]
     },
     "execution_count": 256,
     "metadata": {},
     "output_type": "execute_result"
    }
   ],
   "source": [
    "X_train = Original_train[[유역평균강수[2], 강우A[2], 강우B[2], 강우C[2], 강우D[2], 수위E[2], 수위D[2]]]\n",
    "X_test = Original_test[[유역평균강수[2], 강우A[2], 강우B[2], 강우C[2], 강우D[2], 수위E[2], 수위D[2]]]\n",
    "\n",
    "model = cat\n",
    "model.fit(X_train, y_train, silent=True)"
   ]
  },
  {
   "cell_type": "code",
   "execution_count": 257,
   "metadata": {},
   "outputs": [],
   "source": [
    "pred = model.predict(X_test)"
   ]
  },
  {
   "cell_type": "code",
   "execution_count": 258,
   "metadata": {},
   "outputs": [
    {
     "data": {
      "text/plain": [
       "792.0017813608149"
      ]
     },
     "execution_count": 258,
     "metadata": {},
     "output_type": "execute_result"
    }
   ],
   "source": [
    "rmse = (np.sqrt(np.mean(mean_squared_error(y_test, pred))))\n",
    "rmse"
   ]
  },
  {
   "cell_type": "markdown",
   "metadata": {},
   "source": [
    "\n",
    "### 집단 4"
   ]
  },
  {
   "cell_type": "code",
   "execution_count": 259,
   "metadata": {},
   "outputs": [
    {
     "data": {
      "text/plain": [
       "<catboost.core.CatBoostRegressor at 0x1c7c2f3ca00>"
      ]
     },
     "execution_count": 259,
     "metadata": {},
     "output_type": "execute_result"
    }
   ],
   "source": [
    "X_train = Original_train[[유역평균강수[3], 강우A[3], 강우B[3], 강우C[3], 강우D[3], 수위E[3], 수위D[3]]]\n",
    "X_test = Original_test[[유역평균강수[3], 강우A[3], 강우B[3], 강우C[3], 강우D[3], 수위E[3], 수위D[3]]]\n",
    "\n",
    "model = cat\n",
    "model.fit(X_train, y_train, silent=True)"
   ]
  },
  {
   "cell_type": "code",
   "execution_count": 260,
   "metadata": {},
   "outputs": [],
   "source": [
    "pred = model.predict(X_test)"
   ]
  },
  {
   "cell_type": "code",
   "execution_count": 261,
   "metadata": {},
   "outputs": [
    {
     "data": {
      "text/plain": [
       "704.6983613897916"
      ]
     },
     "execution_count": 261,
     "metadata": {},
     "output_type": "execute_result"
    }
   ],
   "source": [
    "rmse = (np.sqrt(np.mean(mean_squared_error(y_test, pred))))\n",
    "rmse"
   ]
  },
  {
   "cell_type": "markdown",
   "metadata": {},
   "source": [
    "\n",
    "### 집단 5"
   ]
  },
  {
   "cell_type": "code",
   "execution_count": 262,
   "metadata": {},
   "outputs": [
    {
     "data": {
      "text/plain": [
       "<catboost.core.CatBoostRegressor at 0x1c7c2f3ca00>"
      ]
     },
     "execution_count": 262,
     "metadata": {},
     "output_type": "execute_result"
    }
   ],
   "source": [
    "X_train = Original_train[[유역평균강수[4], 강우A[4], 강우B[4], 강우C[4], 강우D[4], 수위E[4], 수위D[4]]]\n",
    "X_test = Original_test[[유역평균강수[4], 강우A[4], 강우B[4], 강우C[4], 강우D[4], 수위E[4], 수위D[4]]]\n",
    "\n",
    "categorical_features_indices1 = np.where(X_train.dtypes == np.object)[0]\n",
    "\n",
    "model = cat\n",
    "model.fit(X_train, y_train, silent=True)"
   ]
  },
  {
   "cell_type": "code",
   "execution_count": 263,
   "metadata": {},
   "outputs": [],
   "source": [
    "pred = model.predict(X_test)"
   ]
  },
  {
   "cell_type": "code",
   "execution_count": 264,
   "metadata": {},
   "outputs": [
    {
     "data": {
      "text/plain": [
       "670.9822236789764"
      ]
     },
     "execution_count": 264,
     "metadata": {},
     "output_type": "execute_result"
    }
   ],
   "source": [
    "rmse = (np.sqrt(np.mean(mean_squared_error(y_test, pred))))\n",
    "rmse"
   ]
  },
  {
   "cell_type": "markdown",
   "metadata": {},
   "source": [
    "### 집단 6"
   ]
  },
  {
   "cell_type": "code",
   "execution_count": 265,
   "metadata": {},
   "outputs": [
    {
     "data": {
      "text/plain": [
       "<catboost.core.CatBoostRegressor at 0x1c7c2f3ca00>"
      ]
     },
     "execution_count": 265,
     "metadata": {},
     "output_type": "execute_result"
    }
   ],
   "source": [
    "X_train = Original_train[[유역평균강수[5], 강우A[5], 강우B[5], 강우C[5], 강우D[5], 수위E[5], 수위D[5]]]\n",
    "X_test = Original_test[[유역평균강수[5], 강우A[5], 강우B[5], 강우C[5], 강우D[5], 수위E[5], 수위D[5]]]\n",
    "\n",
    "model = cat\n",
    "model.fit(X_train, y_train, silent=True)"
   ]
  },
  {
   "cell_type": "code",
   "execution_count": 266,
   "metadata": {},
   "outputs": [],
   "source": [
    "pred = model.predict(X_test)"
   ]
  },
  {
   "cell_type": "code",
   "execution_count": 267,
   "metadata": {},
   "outputs": [
    {
     "data": {
      "text/plain": [
       "780.2260861941985"
      ]
     },
     "execution_count": 267,
     "metadata": {},
     "output_type": "execute_result"
    }
   ],
   "source": [
    "rmse = (np.sqrt(np.mean(mean_squared_error(y_test, pred))))\n",
    "rmse"
   ]
  },
  {
   "cell_type": "markdown",
   "metadata": {},
   "source": [
    "- 집단 5의 점수가 가장 좋게나와서 집단5만을 사용하였다."
   ]
  },
  {
   "cell_type": "markdown",
   "metadata": {},
   "source": [
    "---\n",
    "## 수위 D의 유무에 따른 점수 비교"
   ]
  },
  {
   "cell_type": "code",
   "execution_count": 268,
   "metadata": {},
   "outputs": [
    {
     "data": {
      "text/plain": [
       "유입량        1.000000\n",
       "유역평균강수1    0.742268\n",
       "강우A1       0.617424\n",
       "강우B1       0.739951\n",
       "강우C1       0.605588\n",
       "강우D1       0.700568\n",
       "수위E1       0.903840\n",
       "수위D1       0.109475\n",
       "Name: 유입량, dtype: float64"
      ]
     },
     "execution_count": 268,
     "metadata": {},
     "output_type": "execute_result"
    }
   ],
   "source": [
    "# 집단 1개만을 사용한 상관계수 비교\n",
    "data = train[['유입량', '유역평균강수1', '강우A1', '강우B1', '강우C1',\n",
    "       '강우D1', '수위E1', '수위D1']]\n",
    "data.corr()['유입량']"
   ]
  },
  {
   "cell_type": "markdown",
   "metadata": {},
   "source": [
    "- 수위D의 상관계수가 0.1로 매우 낮다"
   ]
  },
  {
   "cell_type": "markdown",
   "metadata": {},
   "source": [
    "### 수위D 안넣었을 때"
   ]
  },
  {
   "cell_type": "code",
   "execution_count": 269,
   "metadata": {},
   "outputs": [
    {
     "data": {
      "text/plain": [
       "<catboost.core.CatBoostRegressor at 0x1c7c2f3ca00>"
      ]
     },
     "execution_count": 269,
     "metadata": {},
     "output_type": "execute_result"
    }
   ],
   "source": [
    "X_train = Original_train[[유역평균강수[4],강우A[4], 강우B[4], 강우C[4], 강우D[4], 수위E[4]]]\n",
    "X_test = Original_test[[유역평균강수[4],강우A[4], 강우B[4], 강우C[4], 강우D[4], 수위E[4]]]\n",
    "\n",
    "model = cat\n",
    "model.fit(X_train, y_train, silent=True)"
   ]
  },
  {
   "cell_type": "code",
   "execution_count": 270,
   "metadata": {},
   "outputs": [],
   "source": [
    "pred = model.predict(X_test)"
   ]
  },
  {
   "cell_type": "code",
   "execution_count": 271,
   "metadata": {},
   "outputs": [
    {
     "data": {
      "text/plain": [
       "795.6776213730046"
      ]
     },
     "execution_count": 271,
     "metadata": {},
     "output_type": "execute_result"
    }
   ],
   "source": [
    "rmse = (np.sqrt(np.mean(mean_squared_error(y_test, pred))))\n",
    "rmse"
   ]
  },
  {
   "cell_type": "markdown",
   "metadata": {},
   "source": [
    "### 수위D 넣었을 때"
   ]
  },
  {
   "cell_type": "code",
   "execution_count": 272,
   "metadata": {},
   "outputs": [
    {
     "data": {
      "text/plain": [
       "<catboost.core.CatBoostRegressor at 0x1c7c2f3ca00>"
      ]
     },
     "execution_count": 272,
     "metadata": {},
     "output_type": "execute_result"
    }
   ],
   "source": [
    "X_train = Original_train[[유역평균강수[4], 강우A[4], 강우B[4], 강우C[4], 강우D[4], 수위D[4], 수위E[4]]]\n",
    "X_test = Original_test[[유역평균강수[4], 강우A[4], 강우B[4], 강우C[4], 강우D[4], 수위D[4], 수위E[4]]]\n",
    "\n",
    "model = cat\n",
    "model.fit(X_train, y_train, silent=True)"
   ]
  },
  {
   "cell_type": "code",
   "execution_count": 273,
   "metadata": {},
   "outputs": [],
   "source": [
    "pred = model.predict(X_test)"
   ]
  },
  {
   "cell_type": "code",
   "execution_count": 274,
   "metadata": {},
   "outputs": [
    {
     "data": {
      "text/plain": [
       "648.5832381659743"
      ]
     },
     "execution_count": 274,
     "metadata": {},
     "output_type": "execute_result"
    }
   ],
   "source": [
    "rmse = (np.sqrt(np.mean(mean_squared_error(y_test, pred))))\n",
    "rmse"
   ]
  },
  {
   "cell_type": "markdown",
   "metadata": {},
   "source": [
    "- 수위D를 넣는게 더 좋게 나와서 수위D를 그대로 사용하였다."
   ]
  },
  {
   "cell_type": "markdown",
   "metadata": {},
   "source": [
    "---\n",
    "## 다른 모델과 점수차이 비교"
   ]
  },
  {
   "cell_type": "code",
   "execution_count": 275,
   "metadata": {},
   "outputs": [],
   "source": [
    "from xgboost import XGBRegressor\n",
    "from lightgbm import LGBMRegressor"
   ]
  },
  {
   "cell_type": "markdown",
   "metadata": {},
   "source": [
    "### XGBoostRegressor"
   ]
  },
  {
   "cell_type": "code",
   "execution_count": 276,
   "metadata": {},
   "outputs": [
    {
     "data": {
      "text/plain": [
       "XGBRegressor(base_score=0.5, booster='gbtree', colsample_bylevel=1,\n",
       "             colsample_bynode=1, colsample_bytree=1, gamma=0, gpu_id=-1,\n",
       "             importance_type='gain', interaction_constraints='',\n",
       "             learning_rate=0.300000012, max_delta_step=0, max_depth=6,\n",
       "             min_child_weight=1, missing=nan, monotone_constraints='()',\n",
       "             n_estimators=100, n_jobs=4, num_parallel_tree=1, random_state=0,\n",
       "             reg_alpha=0, reg_lambda=1, scale_pos_weight=1, subsample=1,\n",
       "             tree_method='exact', validate_parameters=1, verbosity=None)"
      ]
     },
     "execution_count": 276,
     "metadata": {},
     "output_type": "execute_result"
    }
   ],
   "source": [
    "X_train = Original_train[['정규화인덱스', 유역평균강수[4], 강우A[4], 강우B[4], 강우C[4], 강우D[4],수위D[4], 수위E[4]]]\n",
    "X_test = Original_test[['정규화인덱스', 유역평균강수[4], 강우A[4], 강우B[4], 강우C[4], 강우D[4],수위D[4], 수위E[4]]]\n",
    "\n",
    "model = XGBRegressor()\n",
    "model.fit(X_train, y_train)"
   ]
  },
  {
   "cell_type": "code",
   "execution_count": 277,
   "metadata": {},
   "outputs": [],
   "source": [
    "pred = model.predict(X_test)"
   ]
  },
  {
   "cell_type": "code",
   "execution_count": 278,
   "metadata": {},
   "outputs": [
    {
     "data": {
      "text/plain": [
       "552.0518058209736"
      ]
     },
     "execution_count": 278,
     "metadata": {},
     "output_type": "execute_result"
    }
   ],
   "source": [
    "rmse = (np.sqrt(np.mean(mean_squared_error(y_test, pred))))\n",
    "rmse"
   ]
  },
  {
   "cell_type": "markdown",
   "metadata": {},
   "source": [
    "### LGBMRegressor"
   ]
  },
  {
   "cell_type": "code",
   "execution_count": 279,
   "metadata": {},
   "outputs": [
    {
     "data": {
      "text/plain": [
       "LGBMRegressor()"
      ]
     },
     "execution_count": 279,
     "metadata": {},
     "output_type": "execute_result"
    }
   ],
   "source": [
    "X_train = Original_train[['정규화인덱스', 유역평균강수[4], 강우A[4], 강우B[4], 강우C[4], 강우D[4],수위D[4], 수위E[4]]]\n",
    "X_test = Original_test[['정규화인덱스', 유역평균강수[4], 강우A[4], 강우B[4], 강우C[4], 강우D[4],수위D[4], 수위E[4]]]\n",
    "\n",
    "model = LGBMRegressor()\n",
    "model.fit(X_train, y_train)"
   ]
  },
  {
   "cell_type": "code",
   "execution_count": 280,
   "metadata": {},
   "outputs": [],
   "source": [
    "pred = model.predict(X_test)"
   ]
  },
  {
   "cell_type": "code",
   "execution_count": 281,
   "metadata": {},
   "outputs": [
    {
     "data": {
      "text/plain": [
       "538.0813745593989"
      ]
     },
     "execution_count": 281,
     "metadata": {},
     "output_type": "execute_result"
    }
   ],
   "source": [
    "rmse = (np.sqrt(np.mean(mean_squared_error(y_test, pred))))\n",
    "rmse"
   ]
  },
  {
   "cell_type": "markdown",
   "metadata": {},
   "source": [
    "### CatBoostRegressor"
   ]
  },
  {
   "cell_type": "code",
   "execution_count": 282,
   "metadata": {},
   "outputs": [
    {
     "data": {
      "text/plain": [
       "<catboost.core.CatBoostRegressor at 0x1c7c2f3ca00>"
      ]
     },
     "execution_count": 282,
     "metadata": {},
     "output_type": "execute_result"
    }
   ],
   "source": [
    "X_train = Original_train[['정규화인덱스', 유역평균강수[4], 강우A[4], 강우B[4], 강우C[4], 강우D[4], 수위D[4], 수위E[4]]]\n",
    "X_test = Original_test[['정규화인덱스', 유역평균강수[4], 강우A[4], 강우B[4], 강우C[4], 강우D[4], 수위D[4], 수위E[4]]]\n",
    "\n",
    "model = cat\n",
    "model.fit(X_train, y_train, silent=True)"
   ]
  },
  {
   "cell_type": "code",
   "execution_count": 283,
   "metadata": {},
   "outputs": [],
   "source": [
    "pred = model.predict(X_test)"
   ]
  },
  {
   "cell_type": "code",
   "execution_count": 284,
   "metadata": {},
   "outputs": [
    {
     "data": {
      "text/plain": [
       "421.1103896772417"
      ]
     },
     "execution_count": 284,
     "metadata": {},
     "output_type": "execute_result"
    }
   ],
   "source": [
    "rmse = (np.sqrt(np.mean(mean_squared_error(y_test, pred))))\n",
    "rmse"
   ]
  },
  {
   "cell_type": "markdown",
   "metadata": {},
   "source": [
    "XGBoost : 552.0518058209736\n",
    "\n",
    "LGBM : 538.0813745593989\n",
    "\n",
    "CatBoost : `421.1103896772417`\n",
    "    \n",
    "- CatBoost의 rmse가 가장 우수했다."
   ]
  },
  {
   "cell_type": "markdown",
   "metadata": {},
   "source": [
    "---\n",
    "## 학습은 5로 시킨 뒤, 각각의 집단 데이터를 이용해 예측 후 산술평균"
   ]
  },
  {
   "cell_type": "code",
   "execution_count": 285,
   "metadata": {},
   "outputs": [],
   "source": [
    "X_train = Original_train[['정규화인덱스', 유역평균강수[4], 강우A[4], 강우B[4], 강우C[4], 강우D[4], 수위D[4], 수위E[4]]]\n",
    "X_test = Original_test[['정규화인덱스', 유역평균강수[4], 강우A[4], 강우B[4], 강우C[4], 강우D[4], 수위D[4], 수위E[4]]]\n",
    "\n",
    "model = cat\n",
    "model.fit(X_train, y_train, silent = True)\n",
    "\n",
    "X_test = Original_test[['정규화인덱스', 유역평균강수[0], 강우A[0], 강우B[0], 강우C[0], 강우D[0],수위D[0], 수위E[0]]]\n",
    "X_test.columns=['정규화인덱스', '유역평균강수5', '강우A5', '강우B5', '강우C5', '강우D5', '수위D5', '수위E5'] # 열 이름 감제 병합\n",
    "pred1 = model.predict(X_test)\n",
    "\n",
    "X_test = Original_test[['정규화인덱스', 유역평균강수[1], 강우A[1], 강우B[1], 강우C[1], 강우D[1],수위D[1], 수위E[1]]]\n",
    "X_test.columns=['정규화인덱스', '유역평균강수5', '강우A5', '강우B5', '강우C5', '강우D5', '수위D5', '수위E5'] # 열 이름 감제 병합\n",
    "pred2 = model.predict(X_test)\n",
    "\n",
    "X_test = Original_test[['정규화인덱스', 유역평균강수[2], 강우A[2], 강우B[2], 강우C[2], 강우D[2],수위D[2], 수위E[2]]]\n",
    "X_test.columns=['정규화인덱스', '유역평균강수5', '강우A5', '강우B5', '강우C5', '강우D5', '수위D5', '수위E5'] # 열 이름 감제 병합\n",
    "pred3 = model.predict(X_test)\n",
    "\n",
    "X_test = Original_test[['정규화인덱스', 유역평균강수[3], 강우A[3], 강우B[3], 강우C[3], 강우D[3],수위D[3], 수위E[3]]]\n",
    "X_test.columns=['정규화인덱스', '유역평균강수5', '강우A5', '강우B5', '강우C5', '강우D5', '수위D5', '수위E5'] # 열 이름 감제 병합\n",
    "pred4 = model.predict(X_test)\n",
    "\n",
    "X_test = Original_test[['정규화인덱스', 유역평균강수[4], 강우A[4], 강우B[4], 강우C[4], 강우D[4],수위D[4], 수위E[4]]]\n",
    "X_test.columns=['정규화인덱스', '유역평균강수5', '강우A5', '강우B5', '강우C5', '강우D5', '수위D5', '수위E5'] # 열 이름 감제 병합\n",
    "pred5 = model.predict(X_test)\n",
    "\n",
    "X_test = Original_test[['정규화인덱스', 유역평균강수[5], 강우A[5], 강우B[5], 강우C[5], 강우D[5],수위D[5], 수위E[5]]]\n",
    "X_test.columns=['정규화인덱스', '유역평균강수5', '강우A5', '강우B5', '강우C5', '강우D5', '수위D5', '수위E5'] # 열 이름 감제 병합\n",
    "pred6 = model.predict(X_test)"
   ]
  },
  {
   "cell_type": "code",
   "execution_count": 286,
   "metadata": {},
   "outputs": [],
   "source": [
    "mean_preds = (pred1 + pred2 + pred3 + pred4 + pred5 + pred6) / 6"
   ]
  },
  {
   "cell_type": "code",
   "execution_count": 287,
   "metadata": {},
   "outputs": [
    {
     "data": {
      "text/plain": [
       "420.4005862789978"
      ]
     },
     "execution_count": 287,
     "metadata": {},
     "output_type": "execute_result"
    }
   ],
   "source": [
    "rmse = (np.sqrt(np.mean(mean_squared_error(y_test, mean_preds))))\n",
    "rmse"
   ]
  },
  {
   "cell_type": "markdown",
   "metadata": {},
   "source": [
    "집단5만 데이터로만 예측했을때 421.1103896772417\n",
    "\n",
    "전체데이터를 이용하여 평균냈을때 420.4005862789978"
   ]
  },
  {
   "cell_type": "markdown",
   "metadata": {},
   "source": [
    "---\n",
    "# predict"
   ]
  },
  {
   "cell_type": "code",
   "execution_count": 288,
   "metadata": {},
   "outputs": [],
   "source": [
    "# X_train = train[['정규화인덱스',유역평균강수[4],강우A[4], 강우B[4], 강우C[4], 강우D[4],수위D[4], 수위E[4]]]\n",
    "# y_train = train['유입량']\n",
    "\n",
    "# model = cat\n",
    "# model.fit(X_train, y_train, silent=True)"
   ]
  },
  {
   "cell_type": "code",
   "execution_count": 289,
   "metadata": {},
   "outputs": [],
   "source": [
    "# pred = model.predict(test)"
   ]
  },
  {
   "cell_type": "code",
   "execution_count": 290,
   "metadata": {},
   "outputs": [],
   "source": [
    "X_train = train[['정규화인덱스', 유역평균강수[4], 강우A[4], 강우B[4], 강우C[4], 강우D[4], 수위D[4], 수위E[4]]]\n",
    "y_train = train['유입량']\n",
    "X_test = test[['정규화인덱스', 유역평균강수[4], 강우A[4], 강우B[4], 강우C[4], 강우D[4], 수위D[4], 수위E[4]]]\n",
    "\n",
    "model = cat\n",
    "model.fit(X_train, y_train, silent = True)\n",
    "\n",
    "X_test = test[['정규화인덱스', 유역평균강수[0], 강우A[0], 강우B[0], 강우C[0], 강우D[0],수위D[0], 수위E[0]]]\n",
    "X_test.columns=['정규화인덱스', '유역평균강수5', '강우A5', '강우B5', '강우C5', '강우D5', '수위D5', '수위E5'] # 열 이름 감제 병합\n",
    "pred1 = model.predict(X_test)\n",
    "\n",
    "X_test = test[['정규화인덱스', 유역평균강수[1], 강우A[1], 강우B[1], 강우C[1], 강우D[1],수위D[1], 수위E[1]]]\n",
    "X_test.columns=['정규화인덱스', '유역평균강수5', '강우A5', '강우B5', '강우C5', '강우D5', '수위D5', '수위E5'] # 열 이름 감제 병합\n",
    "pred2 = model.predict(X_test)\n",
    "\n",
    "X_test = test[['정규화인덱스', 유역평균강수[2], 강우A[2], 강우B[2], 강우C[2], 강우D[2],수위D[2], 수위E[2]]]\n",
    "X_test.columns=['정규화인덱스', '유역평균강수5', '강우A5', '강우B5', '강우C5', '강우D5', '수위D5', '수위E5'] # 열 이름 감제 병합\n",
    "pred3 = model.predict(X_test)\n",
    "\n",
    "X_test = test[['정규화인덱스', 유역평균강수[3], 강우A[3], 강우B[3], 강우C[3], 강우D[3],수위D[3], 수위E[3]]]\n",
    "X_test.columns=['정규화인덱스', '유역평균강수5', '강우A5', '강우B5', '강우C5', '강우D5', '수위D5', '수위E5'] # 열 이름 감제 병합\n",
    "pred4 = model.predict(X_test)\n",
    "\n",
    "X_test = test[['정규화인덱스', 유역평균강수[4], 강우A[4], 강우B[4], 강우C[4], 강우D[4],수위D[4], 수위E[4]]]\n",
    "X_test.columns=['정규화인덱스', '유역평균강수5', '강우A5', '강우B5', '강우C5', '강우D5', '수위D5', '수위E5'] # 열 이름 감제 병합\n",
    "pred5 = model.predict(X_test)\n",
    "\n",
    "X_test = test[['정규화인덱스', 유역평균강수[5], 강우A[5], 강우B[5], 강우C[5], 강우D[5],수위D[5], 수위E[5]]]\n",
    "X_test.columns=['정규화인덱스', '유역평균강수5', '강우A5', '강우B5', '강우C5', '강우D5', '수위D5', '수위E5'] # 열 이름 감제 병합\n",
    "pred6 = model.predict(X_test)\n",
    "\n",
    "pred = (pred1+pred2+pred3+pred4+pred5+pred6)/6"
   ]
  },
  {
   "cell_type": "code",
   "execution_count": 291,
   "metadata": {},
   "outputs": [],
   "source": [
    "submission['유입량'] = pred"
   ]
  },
  {
   "cell_type": "code",
   "execution_count": 292,
   "metadata": {},
   "outputs": [
    {
     "data": {
      "text/html": [
       "<div>\n",
       "<style scoped>\n",
       "    .dataframe tbody tr th:only-of-type {\n",
       "        vertical-align: middle;\n",
       "    }\n",
       "\n",
       "    .dataframe tbody tr th {\n",
       "        vertical-align: top;\n",
       "    }\n",
       "\n",
       "    .dataframe thead th {\n",
       "        text-align: right;\n",
       "    }\n",
       "</style>\n",
       "<table border=\"1\" class=\"dataframe\">\n",
       "  <thead>\n",
       "    <tr style=\"text-align: right;\">\n",
       "      <th></th>\n",
       "      <th>홍수사상번호</th>\n",
       "      <th>연</th>\n",
       "      <th>월</th>\n",
       "      <th>일</th>\n",
       "      <th>시간</th>\n",
       "      <th>유입량</th>\n",
       "    </tr>\n",
       "  </thead>\n",
       "  <tbody>\n",
       "    <tr>\n",
       "      <th>0</th>\n",
       "      <td>26.0</td>\n",
       "      <td>2018.0</td>\n",
       "      <td>7.0</td>\n",
       "      <td>1.0</td>\n",
       "      <td>6.0</td>\n",
       "      <td>161.757403</td>\n",
       "    </tr>\n",
       "    <tr>\n",
       "      <th>1</th>\n",
       "      <td>26.0</td>\n",
       "      <td>2018.0</td>\n",
       "      <td>7.0</td>\n",
       "      <td>1.0</td>\n",
       "      <td>7.0</td>\n",
       "      <td>175.444868</td>\n",
       "    </tr>\n",
       "    <tr>\n",
       "      <th>2</th>\n",
       "      <td>26.0</td>\n",
       "      <td>2018.0</td>\n",
       "      <td>7.0</td>\n",
       "      <td>1.0</td>\n",
       "      <td>8.0</td>\n",
       "      <td>225.567232</td>\n",
       "    </tr>\n",
       "    <tr>\n",
       "      <th>3</th>\n",
       "      <td>26.0</td>\n",
       "      <td>2018.0</td>\n",
       "      <td>7.0</td>\n",
       "      <td>1.0</td>\n",
       "      <td>9.0</td>\n",
       "      <td>337.321496</td>\n",
       "    </tr>\n",
       "    <tr>\n",
       "      <th>4</th>\n",
       "      <td>26.0</td>\n",
       "      <td>2018.0</td>\n",
       "      <td>7.0</td>\n",
       "      <td>1.0</td>\n",
       "      <td>10.0</td>\n",
       "      <td>480.617630</td>\n",
       "    </tr>\n",
       "    <tr>\n",
       "      <th>...</th>\n",
       "      <td>...</td>\n",
       "      <td>...</td>\n",
       "      <td>...</td>\n",
       "      <td>...</td>\n",
       "      <td>...</td>\n",
       "      <td>...</td>\n",
       "    </tr>\n",
       "    <tr>\n",
       "      <th>155</th>\n",
       "      <td>26.0</td>\n",
       "      <td>2018.0</td>\n",
       "      <td>7.0</td>\n",
       "      <td>7.0</td>\n",
       "      <td>17.0</td>\n",
       "      <td>514.537086</td>\n",
       "    </tr>\n",
       "    <tr>\n",
       "      <th>156</th>\n",
       "      <td>26.0</td>\n",
       "      <td>2018.0</td>\n",
       "      <td>7.0</td>\n",
       "      <td>7.0</td>\n",
       "      <td>18.0</td>\n",
       "      <td>512.645909</td>\n",
       "    </tr>\n",
       "    <tr>\n",
       "      <th>157</th>\n",
       "      <td>26.0</td>\n",
       "      <td>2018.0</td>\n",
       "      <td>7.0</td>\n",
       "      <td>7.0</td>\n",
       "      <td>19.0</td>\n",
       "      <td>508.232045</td>\n",
       "    </tr>\n",
       "    <tr>\n",
       "      <th>158</th>\n",
       "      <td>26.0</td>\n",
       "      <td>2018.0</td>\n",
       "      <td>7.0</td>\n",
       "      <td>7.0</td>\n",
       "      <td>20.0</td>\n",
       "      <td>509.100612</td>\n",
       "    </tr>\n",
       "    <tr>\n",
       "      <th>159</th>\n",
       "      <td>26.0</td>\n",
       "      <td>2018.0</td>\n",
       "      <td>7.0</td>\n",
       "      <td>7.0</td>\n",
       "      <td>21.0</td>\n",
       "      <td>509.100612</td>\n",
       "    </tr>\n",
       "  </tbody>\n",
       "</table>\n",
       "<p>160 rows × 6 columns</p>\n",
       "</div>"
      ],
      "text/plain": [
       "     홍수사상번호       연    월    일    시간         유입량\n",
       "0      26.0  2018.0  7.0  1.0   6.0  161.757403\n",
       "1      26.0  2018.0  7.0  1.0   7.0  175.444868\n",
       "2      26.0  2018.0  7.0  1.0   8.0  225.567232\n",
       "3      26.0  2018.0  7.0  1.0   9.0  337.321496\n",
       "4      26.0  2018.0  7.0  1.0  10.0  480.617630\n",
       "..      ...     ...  ...  ...   ...         ...\n",
       "155    26.0  2018.0  7.0  7.0  17.0  514.537086\n",
       "156    26.0  2018.0  7.0  7.0  18.0  512.645909\n",
       "157    26.0  2018.0  7.0  7.0  19.0  508.232045\n",
       "158    26.0  2018.0  7.0  7.0  20.0  509.100612\n",
       "159    26.0  2018.0  7.0  7.0  21.0  509.100612\n",
       "\n",
       "[160 rows x 6 columns]"
      ]
     },
     "execution_count": 292,
     "metadata": {},
     "output_type": "execute_result"
    }
   ],
   "source": [
    "submission"
   ]
  },
  {
   "cell_type": "code",
   "execution_count": 293,
   "metadata": {},
   "outputs": [],
   "source": [
    "submission.to_csv('submission.csv', index = False)"
   ]
  }
 ],
 "metadata": {
  "kernelspec": {
   "display_name": "Python 3",
   "language": "python",
   "name": "python3"
  },
  "language_info": {
   "codemirror_mode": {
    "name": "ipython",
    "version": 3
   },
   "file_extension": ".py",
   "mimetype": "text/x-python",
   "name": "python",
   "nbconvert_exporter": "python",
   "pygments_lexer": "ipython3",
   "version": "3.8.5"
  }
 },
 "nbformat": 4,
 "nbformat_minor": 5
}
